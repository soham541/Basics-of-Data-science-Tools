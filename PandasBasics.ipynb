{
 "cells": [
  {
   "cell_type": "code",
   "execution_count": 79,
   "metadata": {
    "collapsed": true
   },
   "outputs": [],
   "source": [
    "import pandas as pd\n"
   ]
  },
  {
   "cell_type": "code",
   "execution_count": 80,
   "outputs": [],
   "source": [
    "a = pd.Series([1,2,3,4,5])"
   ],
   "metadata": {
    "collapsed": false
   }
  },
  {
   "cell_type": "code",
   "execution_count": 81,
   "outputs": [
    {
     "data": {
      "text/plain": "0    1\n1    2\n2    3\n3    4\n4    5\ndtype: int64"
     },
     "execution_count": 81,
     "metadata": {},
     "output_type": "execute_result"
    }
   ],
   "source": [
    "a"
   ],
   "metadata": {
    "collapsed": false
   }
  },
  {
   "cell_type": "code",
   "execution_count": 82,
   "outputs": [
    {
     "data": {
      "text/plain": "pandas.core.series.Series"
     },
     "execution_count": 82,
     "metadata": {},
     "output_type": "execute_result"
    }
   ],
   "source": [
    "type(a)"
   ],
   "metadata": {
    "collapsed": false
   }
  },
  {
   "cell_type": "code",
   "execution_count": 83,
   "outputs": [
    {
     "data": {
      "text/plain": "3"
     },
     "execution_count": 83,
     "metadata": {},
     "output_type": "execute_result"
    }
   ],
   "source": [
    "a[2]"
   ],
   "metadata": {
    "collapsed": false
   }
  },
  {
   "cell_type": "code",
   "execution_count": 84,
   "outputs": [],
   "source": [
    "a= pd.Series(['a','b','c'])"
   ],
   "metadata": {
    "collapsed": false
   }
  },
  {
   "cell_type": "code",
   "execution_count": 85,
   "outputs": [
    {
     "data": {
      "text/plain": "0    a\n1    b\n2    c\ndtype: object"
     },
     "execution_count": 85,
     "metadata": {},
     "output_type": "execute_result"
    }
   ],
   "source": [
    "a"
   ],
   "metadata": {
    "collapsed": false
   }
  },
  {
   "cell_type": "code",
   "execution_count": 86,
   "outputs": [
    {
     "name": "stderr",
     "output_type": "stream",
     "text": [
      "C:\\Users\\soham\\AppData\\Local\\Temp\\ipykernel_12228\\4022620596.py:1: UserWarning: Parsing dates in DD/MM/YYYY format when dayfirst=False (the default) was specified. This may lead to inconsistently parsed dates! Specify a format to ensure consistent parsing.\n",
      "  a= pd.date_range(start='01-01-2010', end='23-05-2010' )\n"
     ]
    }
   ],
   "source": [
    "a= pd.date_range(start='01-01-2010', end='23-05-2010' )"
   ],
   "metadata": {
    "collapsed": false
   }
  },
  {
   "cell_type": "code",
   "execution_count": 87,
   "outputs": [
    {
     "data": {
      "text/plain": "DatetimeIndex(['2010-01-01', '2010-01-02', '2010-01-03', '2010-01-04',\n               '2010-01-05', '2010-01-06', '2010-01-07', '2010-01-08',\n               '2010-01-09', '2010-01-10',\n               ...\n               '2010-05-14', '2010-05-15', '2010-05-16', '2010-05-17',\n               '2010-05-18', '2010-05-19', '2010-05-20', '2010-05-21',\n               '2010-05-22', '2010-05-23'],\n              dtype='datetime64[ns]', length=143, freq='D')"
     },
     "execution_count": 87,
     "metadata": {},
     "output_type": "execute_result"
    }
   ],
   "source": [
    "a"
   ],
   "metadata": {
    "collapsed": false
   }
  },
  {
   "cell_type": "code",
   "execution_count": 88,
   "outputs": [
    {
     "name": "stderr",
     "output_type": "stream",
     "text": [
      "C:\\Users\\soham\\AppData\\Local\\Temp\\ipykernel_12228\\1827745450.py:1: UserWarning: Parsing dates in DD/MM/YYYY format when dayfirst=False (the default) was specified. This may lead to inconsistently parsed dates! Specify a format to ensure consistent parsing.\n",
      "  a = pd.date_range(start='01-01-2010', end='23-05-2010' , periods=6)\n"
     ]
    }
   ],
   "source": [
    "a = pd.date_range(start='01-01-2010', end='23-05-2010' , periods=6)"
   ],
   "metadata": {
    "collapsed": false
   }
  },
  {
   "cell_type": "code",
   "execution_count": 89,
   "outputs": [
    {
     "data": {
      "text/plain": "DatetimeIndex(['2010-01-01 00:00:00', '2010-01-29 09:36:00',\n               '2010-02-26 19:12:00', '2010-03-27 04:48:00',\n               '2010-04-24 14:24:00', '2010-05-23 00:00:00'],\n              dtype='datetime64[ns]', freq=None)"
     },
     "execution_count": 89,
     "metadata": {},
     "output_type": "execute_result"
    }
   ],
   "source": [
    "a"
   ],
   "metadata": {
    "collapsed": false
   }
  },
  {
   "cell_type": "code",
   "execution_count": 90,
   "outputs": [],
   "source": [
    "import numpy as np"
   ],
   "metadata": {
    "collapsed": false
   }
  },
  {
   "cell_type": "code",
   "execution_count": 91,
   "outputs": [],
   "source": [
    "t = np.random.randint(20,100, size=[20,])\n",
    "name = np.random.choice(['Abhay', 'Teclov', 'Geeks', 'Ant'],20)\n",
    "ran = np.random.choice([10,11,12,13,14],20)"
   ],
   "metadata": {
    "collapsed": false
   }
  },
  {
   "cell_type": "code",
   "execution_count": 92,
   "outputs": [
    {
     "data": {
      "text/plain": "array([66, 32, 56, 56, 78, 42, 94, 22, 83, 83, 34, 40, 34, 94, 62, 87, 22,\n       66, 66, 51])"
     },
     "execution_count": 92,
     "metadata": {},
     "output_type": "execute_result"
    }
   ],
   "source": [
    "t"
   ],
   "metadata": {
    "collapsed": false
   }
  },
  {
   "cell_type": "code",
   "execution_count": 93,
   "outputs": [],
   "source": [
    "a= list(zip(t, name, ran))"
   ],
   "metadata": {
    "collapsed": false
   }
  },
  {
   "cell_type": "code",
   "execution_count": 94,
   "outputs": [],
   "source": [
    "df = pd.DataFrame(data=a, columns=['temp', 'name','random'])"
   ],
   "metadata": {
    "collapsed": false
   }
  },
  {
   "cell_type": "code",
   "execution_count": 95,
   "outputs": [
    {
     "data": {
      "text/plain": "    temp    name  random\n0     66   Geeks      13\n1     32     Ant      12\n2     56   Abhay      13\n3     56   Geeks      11\n4     78  Teclov      12\n5     42   Abhay      10\n6     94   Abhay      11\n7     22   Abhay      12\n8     83   Abhay      11\n9     83   Geeks      12\n10    34  Teclov      14\n11    40     Ant      13\n12    34  Teclov      10\n13    94     Ant      11\n14    62     Ant      10\n15    87  Teclov      13\n16    22   Abhay      11\n17    66   Geeks      10\n18    66   Abhay      14\n19    51     Ant      11",
      "text/html": "<div>\n<style scoped>\n    .dataframe tbody tr th:only-of-type {\n        vertical-align: middle;\n    }\n\n    .dataframe tbody tr th {\n        vertical-align: top;\n    }\n\n    .dataframe thead th {\n        text-align: right;\n    }\n</style>\n<table border=\"1\" class=\"dataframe\">\n  <thead>\n    <tr style=\"text-align: right;\">\n      <th></th>\n      <th>temp</th>\n      <th>name</th>\n      <th>random</th>\n    </tr>\n  </thead>\n  <tbody>\n    <tr>\n      <th>0</th>\n      <td>66</td>\n      <td>Geeks</td>\n      <td>13</td>\n    </tr>\n    <tr>\n      <th>1</th>\n      <td>32</td>\n      <td>Ant</td>\n      <td>12</td>\n    </tr>\n    <tr>\n      <th>2</th>\n      <td>56</td>\n      <td>Abhay</td>\n      <td>13</td>\n    </tr>\n    <tr>\n      <th>3</th>\n      <td>56</td>\n      <td>Geeks</td>\n      <td>11</td>\n    </tr>\n    <tr>\n      <th>4</th>\n      <td>78</td>\n      <td>Teclov</td>\n      <td>12</td>\n    </tr>\n    <tr>\n      <th>5</th>\n      <td>42</td>\n      <td>Abhay</td>\n      <td>10</td>\n    </tr>\n    <tr>\n      <th>6</th>\n      <td>94</td>\n      <td>Abhay</td>\n      <td>11</td>\n    </tr>\n    <tr>\n      <th>7</th>\n      <td>22</td>\n      <td>Abhay</td>\n      <td>12</td>\n    </tr>\n    <tr>\n      <th>8</th>\n      <td>83</td>\n      <td>Abhay</td>\n      <td>11</td>\n    </tr>\n    <tr>\n      <th>9</th>\n      <td>83</td>\n      <td>Geeks</td>\n      <td>12</td>\n    </tr>\n    <tr>\n      <th>10</th>\n      <td>34</td>\n      <td>Teclov</td>\n      <td>14</td>\n    </tr>\n    <tr>\n      <th>11</th>\n      <td>40</td>\n      <td>Ant</td>\n      <td>13</td>\n    </tr>\n    <tr>\n      <th>12</th>\n      <td>34</td>\n      <td>Teclov</td>\n      <td>10</td>\n    </tr>\n    <tr>\n      <th>13</th>\n      <td>94</td>\n      <td>Ant</td>\n      <td>11</td>\n    </tr>\n    <tr>\n      <th>14</th>\n      <td>62</td>\n      <td>Ant</td>\n      <td>10</td>\n    </tr>\n    <tr>\n      <th>15</th>\n      <td>87</td>\n      <td>Teclov</td>\n      <td>13</td>\n    </tr>\n    <tr>\n      <th>16</th>\n      <td>22</td>\n      <td>Abhay</td>\n      <td>11</td>\n    </tr>\n    <tr>\n      <th>17</th>\n      <td>66</td>\n      <td>Geeks</td>\n      <td>10</td>\n    </tr>\n    <tr>\n      <th>18</th>\n      <td>66</td>\n      <td>Abhay</td>\n      <td>14</td>\n    </tr>\n    <tr>\n      <th>19</th>\n      <td>51</td>\n      <td>Ant</td>\n      <td>11</td>\n    </tr>\n  </tbody>\n</table>\n</div>"
     },
     "execution_count": 95,
     "metadata": {},
     "output_type": "execute_result"
    }
   ],
   "source": [
    "df"
   ],
   "metadata": {
    "collapsed": false
   }
  },
  {
   "cell_type": "code",
   "execution_count": 96,
   "outputs": [
    {
     "data": {
      "text/plain": "   temp    name  random\n0    66   Geeks      13\n1    32     Ant      12\n2    56   Abhay      13\n3    56   Geeks      11\n4    78  Teclov      12",
      "text/html": "<div>\n<style scoped>\n    .dataframe tbody tr th:only-of-type {\n        vertical-align: middle;\n    }\n\n    .dataframe tbody tr th {\n        vertical-align: top;\n    }\n\n    .dataframe thead th {\n        text-align: right;\n    }\n</style>\n<table border=\"1\" class=\"dataframe\">\n  <thead>\n    <tr style=\"text-align: right;\">\n      <th></th>\n      <th>temp</th>\n      <th>name</th>\n      <th>random</th>\n    </tr>\n  </thead>\n  <tbody>\n    <tr>\n      <th>0</th>\n      <td>66</td>\n      <td>Geeks</td>\n      <td>13</td>\n    </tr>\n    <tr>\n      <th>1</th>\n      <td>32</td>\n      <td>Ant</td>\n      <td>12</td>\n    </tr>\n    <tr>\n      <th>2</th>\n      <td>56</td>\n      <td>Abhay</td>\n      <td>13</td>\n    </tr>\n    <tr>\n      <th>3</th>\n      <td>56</td>\n      <td>Geeks</td>\n      <td>11</td>\n    </tr>\n    <tr>\n      <th>4</th>\n      <td>78</td>\n      <td>Teclov</td>\n      <td>12</td>\n    </tr>\n  </tbody>\n</table>\n</div>"
     },
     "execution_count": 96,
     "metadata": {},
     "output_type": "execute_result"
    }
   ],
   "source": [
    "df.head()"
   ],
   "metadata": {
    "collapsed": false
   }
  },
  {
   "cell_type": "code",
   "execution_count": 97,
   "outputs": [
    {
     "data": {
      "text/plain": "    temp    name  random\n15    87  Teclov      13\n16    22   Abhay      11\n17    66   Geeks      10\n18    66   Abhay      14\n19    51     Ant      11",
      "text/html": "<div>\n<style scoped>\n    .dataframe tbody tr th:only-of-type {\n        vertical-align: middle;\n    }\n\n    .dataframe tbody tr th {\n        vertical-align: top;\n    }\n\n    .dataframe thead th {\n        text-align: right;\n    }\n</style>\n<table border=\"1\" class=\"dataframe\">\n  <thead>\n    <tr style=\"text-align: right;\">\n      <th></th>\n      <th>temp</th>\n      <th>name</th>\n      <th>random</th>\n    </tr>\n  </thead>\n  <tbody>\n    <tr>\n      <th>15</th>\n      <td>87</td>\n      <td>Teclov</td>\n      <td>13</td>\n    </tr>\n    <tr>\n      <th>16</th>\n      <td>22</td>\n      <td>Abhay</td>\n      <td>11</td>\n    </tr>\n    <tr>\n      <th>17</th>\n      <td>66</td>\n      <td>Geeks</td>\n      <td>10</td>\n    </tr>\n    <tr>\n      <th>18</th>\n      <td>66</td>\n      <td>Abhay</td>\n      <td>14</td>\n    </tr>\n    <tr>\n      <th>19</th>\n      <td>51</td>\n      <td>Ant</td>\n      <td>11</td>\n    </tr>\n  </tbody>\n</table>\n</div>"
     },
     "execution_count": 97,
     "metadata": {},
     "output_type": "execute_result"
    }
   ],
   "source": [
    "df.tail()"
   ],
   "metadata": {
    "collapsed": false
   }
  },
  {
   "cell_type": "code",
   "execution_count": 98,
   "outputs": [
    {
     "data": {
      "text/plain": "<bound method DataFrame.info of     temp    name  random\n0     66   Geeks      13\n1     32     Ant      12\n2     56   Abhay      13\n3     56   Geeks      11\n4     78  Teclov      12\n5     42   Abhay      10\n6     94   Abhay      11\n7     22   Abhay      12\n8     83   Abhay      11\n9     83   Geeks      12\n10    34  Teclov      14\n11    40     Ant      13\n12    34  Teclov      10\n13    94     Ant      11\n14    62     Ant      10\n15    87  Teclov      13\n16    22   Abhay      11\n17    66   Geeks      10\n18    66   Abhay      14\n19    51     Ant      11>"
     },
     "execution_count": 98,
     "metadata": {},
     "output_type": "execute_result"
    }
   ],
   "source": [
    "df.info"
   ],
   "metadata": {
    "collapsed": false
   }
  },
  {
   "cell_type": "code",
   "execution_count": 99,
   "outputs": [
    {
     "data": {
      "text/plain": "            temp     random\ncount  20.000000  20.000000\nmean   58.400000  11.700000\nstd    23.333734   1.301821\nmin    22.000000  10.000000\n25%    38.500000  11.000000\n50%    59.000000  11.500000\n75%    79.250000  13.000000\nmax    94.000000  14.000000",
      "text/html": "<div>\n<style scoped>\n    .dataframe tbody tr th:only-of-type {\n        vertical-align: middle;\n    }\n\n    .dataframe tbody tr th {\n        vertical-align: top;\n    }\n\n    .dataframe thead th {\n        text-align: right;\n    }\n</style>\n<table border=\"1\" class=\"dataframe\">\n  <thead>\n    <tr style=\"text-align: right;\">\n      <th></th>\n      <th>temp</th>\n      <th>random</th>\n    </tr>\n  </thead>\n  <tbody>\n    <tr>\n      <th>count</th>\n      <td>20.000000</td>\n      <td>20.000000</td>\n    </tr>\n    <tr>\n      <th>mean</th>\n      <td>58.400000</td>\n      <td>11.700000</td>\n    </tr>\n    <tr>\n      <th>std</th>\n      <td>23.333734</td>\n      <td>1.301821</td>\n    </tr>\n    <tr>\n      <th>min</th>\n      <td>22.000000</td>\n      <td>10.000000</td>\n    </tr>\n    <tr>\n      <th>25%</th>\n      <td>38.500000</td>\n      <td>11.000000</td>\n    </tr>\n    <tr>\n      <th>50%</th>\n      <td>59.000000</td>\n      <td>11.500000</td>\n    </tr>\n    <tr>\n      <th>75%</th>\n      <td>79.250000</td>\n      <td>13.000000</td>\n    </tr>\n    <tr>\n      <th>max</th>\n      <td>94.000000</td>\n      <td>14.000000</td>\n    </tr>\n  </tbody>\n</table>\n</div>"
     },
     "execution_count": 99,
     "metadata": {},
     "output_type": "execute_result"
    }
   ],
   "source": [
    "df.describe()"
   ],
   "metadata": {
    "collapsed": false
   }
  },
  {
   "cell_type": "code",
   "execution_count": 100,
   "outputs": [],
   "source": [
    "df2 = pd.DataFrame({'temp': t, 'name': name, 'random': ran })"
   ],
   "metadata": {
    "collapsed": false
   }
  },
  {
   "cell_type": "code",
   "execution_count": 101,
   "outputs": [
    {
     "data": {
      "text/plain": "    temp    name  random\n0     66   Geeks      13\n1     32     Ant      12\n2     56   Abhay      13\n3     56   Geeks      11\n4     78  Teclov      12\n5     42   Abhay      10\n6     94   Abhay      11\n7     22   Abhay      12\n8     83   Abhay      11\n9     83   Geeks      12\n10    34  Teclov      14\n11    40     Ant      13\n12    34  Teclov      10\n13    94     Ant      11\n14    62     Ant      10\n15    87  Teclov      13\n16    22   Abhay      11\n17    66   Geeks      10\n18    66   Abhay      14\n19    51     Ant      11",
      "text/html": "<div>\n<style scoped>\n    .dataframe tbody tr th:only-of-type {\n        vertical-align: middle;\n    }\n\n    .dataframe tbody tr th {\n        vertical-align: top;\n    }\n\n    .dataframe thead th {\n        text-align: right;\n    }\n</style>\n<table border=\"1\" class=\"dataframe\">\n  <thead>\n    <tr style=\"text-align: right;\">\n      <th></th>\n      <th>temp</th>\n      <th>name</th>\n      <th>random</th>\n    </tr>\n  </thead>\n  <tbody>\n    <tr>\n      <th>0</th>\n      <td>66</td>\n      <td>Geeks</td>\n      <td>13</td>\n    </tr>\n    <tr>\n      <th>1</th>\n      <td>32</td>\n      <td>Ant</td>\n      <td>12</td>\n    </tr>\n    <tr>\n      <th>2</th>\n      <td>56</td>\n      <td>Abhay</td>\n      <td>13</td>\n    </tr>\n    <tr>\n      <th>3</th>\n      <td>56</td>\n      <td>Geeks</td>\n      <td>11</td>\n    </tr>\n    <tr>\n      <th>4</th>\n      <td>78</td>\n      <td>Teclov</td>\n      <td>12</td>\n    </tr>\n    <tr>\n      <th>5</th>\n      <td>42</td>\n      <td>Abhay</td>\n      <td>10</td>\n    </tr>\n    <tr>\n      <th>6</th>\n      <td>94</td>\n      <td>Abhay</td>\n      <td>11</td>\n    </tr>\n    <tr>\n      <th>7</th>\n      <td>22</td>\n      <td>Abhay</td>\n      <td>12</td>\n    </tr>\n    <tr>\n      <th>8</th>\n      <td>83</td>\n      <td>Abhay</td>\n      <td>11</td>\n    </tr>\n    <tr>\n      <th>9</th>\n      <td>83</td>\n      <td>Geeks</td>\n      <td>12</td>\n    </tr>\n    <tr>\n      <th>10</th>\n      <td>34</td>\n      <td>Teclov</td>\n      <td>14</td>\n    </tr>\n    <tr>\n      <th>11</th>\n      <td>40</td>\n      <td>Ant</td>\n      <td>13</td>\n    </tr>\n    <tr>\n      <th>12</th>\n      <td>34</td>\n      <td>Teclov</td>\n      <td>10</td>\n    </tr>\n    <tr>\n      <th>13</th>\n      <td>94</td>\n      <td>Ant</td>\n      <td>11</td>\n    </tr>\n    <tr>\n      <th>14</th>\n      <td>62</td>\n      <td>Ant</td>\n      <td>10</td>\n    </tr>\n    <tr>\n      <th>15</th>\n      <td>87</td>\n      <td>Teclov</td>\n      <td>13</td>\n    </tr>\n    <tr>\n      <th>16</th>\n      <td>22</td>\n      <td>Abhay</td>\n      <td>11</td>\n    </tr>\n    <tr>\n      <th>17</th>\n      <td>66</td>\n      <td>Geeks</td>\n      <td>10</td>\n    </tr>\n    <tr>\n      <th>18</th>\n      <td>66</td>\n      <td>Abhay</td>\n      <td>14</td>\n    </tr>\n    <tr>\n      <th>19</th>\n      <td>51</td>\n      <td>Ant</td>\n      <td>11</td>\n    </tr>\n  </tbody>\n</table>\n</div>"
     },
     "execution_count": 101,
     "metadata": {},
     "output_type": "execute_result"
    }
   ],
   "source": [
    "df2"
   ],
   "metadata": {
    "collapsed": false
   }
  },
  {
   "cell_type": "code",
   "execution_count": 102,
   "outputs": [
    {
     "data": {
      "text/plain": "(20, 3)"
     },
     "execution_count": 102,
     "metadata": {},
     "output_type": "execute_result"
    }
   ],
   "source": [
    "df.shape"
   ],
   "metadata": {
    "collapsed": false
   }
  },
  {
   "cell_type": "code",
   "execution_count": 103,
   "outputs": [
    {
     "data": {
      "text/plain": "Index(['temp', 'name', 'random'], dtype='object')"
     },
     "execution_count": 103,
     "metadata": {},
     "output_type": "execute_result"
    }
   ],
   "source": [
    "df.columns"
   ],
   "metadata": {
    "collapsed": false
   }
  },
  {
   "cell_type": "code",
   "execution_count": 104,
   "outputs": [
    {
     "data": {
      "text/plain": "0      Geeks\n1        Ant\n2      Abhay\n3      Geeks\n4     Teclov\n5      Abhay\n6      Abhay\n7      Abhay\n8      Abhay\n9      Geeks\n10    Teclov\n11       Ant\n12    Teclov\n13       Ant\n14       Ant\n15    Teclov\n16     Abhay\n17     Geeks\n18     Abhay\n19       Ant\nName: name, dtype: object"
     },
     "execution_count": 104,
     "metadata": {},
     "output_type": "execute_result"
    }
   ],
   "source": [
    "df.name"
   ],
   "metadata": {
    "collapsed": false
   }
  },
  {
   "cell_type": "code",
   "execution_count": 105,
   "outputs": [
    {
     "data": {
      "text/plain": "0     66\n1     32\n2     56\n3     56\n4     78\n5     42\n6     94\n7     22\n8     83\n9     83\n10    34\n11    40\n12    34\n13    94\n14    62\n15    87\n16    22\n17    66\n18    66\n19    51\nName: temp, dtype: int32"
     },
     "execution_count": 105,
     "metadata": {},
     "output_type": "execute_result"
    }
   ],
   "source": [
    "df.temp"
   ],
   "metadata": {
    "collapsed": false
   }
  },
  {
   "cell_type": "code",
   "execution_count": 106,
   "outputs": [
    {
     "data": {
      "text/plain": "0     13\n1     12\n2     13\n3     11\n4     12\n5     10\n6     11\n7     12\n8     11\n9     12\n10    14\n11    13\n12    10\n13    11\n14    10\n15    13\n16    11\n17    10\n18    14\n19    11\nName: random, dtype: int32"
     },
     "execution_count": 106,
     "metadata": {},
     "output_type": "execute_result"
    }
   ],
   "source": [
    "df.random"
   ],
   "metadata": {
    "collapsed": false
   }
  },
  {
   "cell_type": "code",
   "execution_count": 107,
   "outputs": [
    {
     "data": {
      "text/plain": "    temp  random\n0     66      13\n1     32      12\n2     56      13\n3     56      11\n4     78      12\n5     42      10\n6     94      11\n7     22      12\n8     83      11\n9     83      12\n10    34      14\n11    40      13\n12    34      10\n13    94      11\n14    62      10\n15    87      13\n16    22      11\n17    66      10\n18    66      14\n19    51      11",
      "text/html": "<div>\n<style scoped>\n    .dataframe tbody tr th:only-of-type {\n        vertical-align: middle;\n    }\n\n    .dataframe tbody tr th {\n        vertical-align: top;\n    }\n\n    .dataframe thead th {\n        text-align: right;\n    }\n</style>\n<table border=\"1\" class=\"dataframe\">\n  <thead>\n    <tr style=\"text-align: right;\">\n      <th></th>\n      <th>temp</th>\n      <th>random</th>\n    </tr>\n  </thead>\n  <tbody>\n    <tr>\n      <th>0</th>\n      <td>66</td>\n      <td>13</td>\n    </tr>\n    <tr>\n      <th>1</th>\n      <td>32</td>\n      <td>12</td>\n    </tr>\n    <tr>\n      <th>2</th>\n      <td>56</td>\n      <td>13</td>\n    </tr>\n    <tr>\n      <th>3</th>\n      <td>56</td>\n      <td>11</td>\n    </tr>\n    <tr>\n      <th>4</th>\n      <td>78</td>\n      <td>12</td>\n    </tr>\n    <tr>\n      <th>5</th>\n      <td>42</td>\n      <td>10</td>\n    </tr>\n    <tr>\n      <th>6</th>\n      <td>94</td>\n      <td>11</td>\n    </tr>\n    <tr>\n      <th>7</th>\n      <td>22</td>\n      <td>12</td>\n    </tr>\n    <tr>\n      <th>8</th>\n      <td>83</td>\n      <td>11</td>\n    </tr>\n    <tr>\n      <th>9</th>\n      <td>83</td>\n      <td>12</td>\n    </tr>\n    <tr>\n      <th>10</th>\n      <td>34</td>\n      <td>14</td>\n    </tr>\n    <tr>\n      <th>11</th>\n      <td>40</td>\n      <td>13</td>\n    </tr>\n    <tr>\n      <th>12</th>\n      <td>34</td>\n      <td>10</td>\n    </tr>\n    <tr>\n      <th>13</th>\n      <td>94</td>\n      <td>11</td>\n    </tr>\n    <tr>\n      <th>14</th>\n      <td>62</td>\n      <td>10</td>\n    </tr>\n    <tr>\n      <th>15</th>\n      <td>87</td>\n      <td>13</td>\n    </tr>\n    <tr>\n      <th>16</th>\n      <td>22</td>\n      <td>11</td>\n    </tr>\n    <tr>\n      <th>17</th>\n      <td>66</td>\n      <td>10</td>\n    </tr>\n    <tr>\n      <th>18</th>\n      <td>66</td>\n      <td>14</td>\n    </tr>\n    <tr>\n      <th>19</th>\n      <td>51</td>\n      <td>11</td>\n    </tr>\n  </tbody>\n</table>\n</div>"
     },
     "execution_count": 107,
     "metadata": {},
     "output_type": "execute_result"
    }
   ],
   "source": [
    "df[['temp','random']]"
   ],
   "metadata": {
    "collapsed": false
   }
  },
  {
   "cell_type": "code",
   "execution_count": 108,
   "outputs": [
    {
     "data": {
      "text/plain": "count    20.000000\nmean     58.400000\nstd      23.333734\nmin      22.000000\n25%      38.500000\n50%      59.000000\n75%      79.250000\nmax      94.000000\nName: temp, dtype: float64"
     },
     "execution_count": 108,
     "metadata": {},
     "output_type": "execute_result"
    }
   ],
   "source": [
    "df['temp'].describe()"
   ],
   "metadata": {
    "collapsed": false
   }
  },
  {
   "cell_type": "code",
   "execution_count": 109,
   "outputs": [
    {
     "data": {
      "text/plain": "array([[66, 'Geeks', 13],\n       [32, 'Ant', 12],\n       [56, 'Abhay', 13],\n       [56, 'Geeks', 11],\n       [78, 'Teclov', 12],\n       [42, 'Abhay', 10],\n       [94, 'Abhay', 11],\n       [22, 'Abhay', 12],\n       [83, 'Abhay', 11],\n       [83, 'Geeks', 12],\n       [34, 'Teclov', 14],\n       [40, 'Ant', 13],\n       [34, 'Teclov', 10],\n       [94, 'Ant', 11],\n       [62, 'Ant', 10],\n       [87, 'Teclov', 13],\n       [22, 'Abhay', 11],\n       [66, 'Geeks', 10],\n       [66, 'Abhay', 14],\n       [51, 'Ant', 11]], dtype=object)"
     },
     "execution_count": 109,
     "metadata": {},
     "output_type": "execute_result"
    }
   ],
   "source": [
    "df.values"
   ],
   "metadata": {
    "collapsed": false
   }
  },
  {
   "cell_type": "code",
   "execution_count": 110,
   "outputs": [],
   "source": [
    "df.set_index('temp', inplace=True)"
   ],
   "metadata": {
    "collapsed": false
   }
  },
  {
   "cell_type": "code",
   "execution_count": 111,
   "outputs": [
    {
     "data": {
      "text/plain": "        name  random\ntemp                \n66     Geeks      13\n32       Ant      12\n56     Abhay      13\n56     Geeks      11\n78    Teclov      12\n42     Abhay      10\n94     Abhay      11\n22     Abhay      12\n83     Abhay      11\n83     Geeks      12\n34    Teclov      14\n40       Ant      13\n34    Teclov      10\n94       Ant      11\n62       Ant      10\n87    Teclov      13\n22     Abhay      11\n66     Geeks      10\n66     Abhay      14\n51       Ant      11",
      "text/html": "<div>\n<style scoped>\n    .dataframe tbody tr th:only-of-type {\n        vertical-align: middle;\n    }\n\n    .dataframe tbody tr th {\n        vertical-align: top;\n    }\n\n    .dataframe thead th {\n        text-align: right;\n    }\n</style>\n<table border=\"1\" class=\"dataframe\">\n  <thead>\n    <tr style=\"text-align: right;\">\n      <th></th>\n      <th>name</th>\n      <th>random</th>\n    </tr>\n    <tr>\n      <th>temp</th>\n      <th></th>\n      <th></th>\n    </tr>\n  </thead>\n  <tbody>\n    <tr>\n      <th>66</th>\n      <td>Geeks</td>\n      <td>13</td>\n    </tr>\n    <tr>\n      <th>32</th>\n      <td>Ant</td>\n      <td>12</td>\n    </tr>\n    <tr>\n      <th>56</th>\n      <td>Abhay</td>\n      <td>13</td>\n    </tr>\n    <tr>\n      <th>56</th>\n      <td>Geeks</td>\n      <td>11</td>\n    </tr>\n    <tr>\n      <th>78</th>\n      <td>Teclov</td>\n      <td>12</td>\n    </tr>\n    <tr>\n      <th>42</th>\n      <td>Abhay</td>\n      <td>10</td>\n    </tr>\n    <tr>\n      <th>94</th>\n      <td>Abhay</td>\n      <td>11</td>\n    </tr>\n    <tr>\n      <th>22</th>\n      <td>Abhay</td>\n      <td>12</td>\n    </tr>\n    <tr>\n      <th>83</th>\n      <td>Abhay</td>\n      <td>11</td>\n    </tr>\n    <tr>\n      <th>83</th>\n      <td>Geeks</td>\n      <td>12</td>\n    </tr>\n    <tr>\n      <th>34</th>\n      <td>Teclov</td>\n      <td>14</td>\n    </tr>\n    <tr>\n      <th>40</th>\n      <td>Ant</td>\n      <td>13</td>\n    </tr>\n    <tr>\n      <th>34</th>\n      <td>Teclov</td>\n      <td>10</td>\n    </tr>\n    <tr>\n      <th>94</th>\n      <td>Ant</td>\n      <td>11</td>\n    </tr>\n    <tr>\n      <th>62</th>\n      <td>Ant</td>\n      <td>10</td>\n    </tr>\n    <tr>\n      <th>87</th>\n      <td>Teclov</td>\n      <td>13</td>\n    </tr>\n    <tr>\n      <th>22</th>\n      <td>Abhay</td>\n      <td>11</td>\n    </tr>\n    <tr>\n      <th>66</th>\n      <td>Geeks</td>\n      <td>10</td>\n    </tr>\n    <tr>\n      <th>66</th>\n      <td>Abhay</td>\n      <td>14</td>\n    </tr>\n    <tr>\n      <th>51</th>\n      <td>Ant</td>\n      <td>11</td>\n    </tr>\n  </tbody>\n</table>\n</div>"
     },
     "execution_count": 111,
     "metadata": {},
     "output_type": "execute_result"
    }
   ],
   "source": [
    "df"
   ],
   "metadata": {
    "collapsed": false
   }
  },
  {
   "cell_type": "code",
   "execution_count": 112,
   "outputs": [
    {
     "data": {
      "text/plain": "        name  random\ntemp                \n94       Ant      11\n94     Abhay      11\n87    Teclov      13\n83     Abhay      11\n83     Geeks      12\n78    Teclov      12\n66     Geeks      13\n66     Abhay      14\n66     Geeks      10\n62       Ant      10\n56     Abhay      13\n56     Geeks      11\n51       Ant      11\n42     Abhay      10\n40       Ant      13\n34    Teclov      10\n34    Teclov      14\n32       Ant      12\n22     Abhay      11\n22     Abhay      12",
      "text/html": "<div>\n<style scoped>\n    .dataframe tbody tr th:only-of-type {\n        vertical-align: middle;\n    }\n\n    .dataframe tbody tr th {\n        vertical-align: top;\n    }\n\n    .dataframe thead th {\n        text-align: right;\n    }\n</style>\n<table border=\"1\" class=\"dataframe\">\n  <thead>\n    <tr style=\"text-align: right;\">\n      <th></th>\n      <th>name</th>\n      <th>random</th>\n    </tr>\n    <tr>\n      <th>temp</th>\n      <th></th>\n      <th></th>\n    </tr>\n  </thead>\n  <tbody>\n    <tr>\n      <th>94</th>\n      <td>Ant</td>\n      <td>11</td>\n    </tr>\n    <tr>\n      <th>94</th>\n      <td>Abhay</td>\n      <td>11</td>\n    </tr>\n    <tr>\n      <th>87</th>\n      <td>Teclov</td>\n      <td>13</td>\n    </tr>\n    <tr>\n      <th>83</th>\n      <td>Abhay</td>\n      <td>11</td>\n    </tr>\n    <tr>\n      <th>83</th>\n      <td>Geeks</td>\n      <td>12</td>\n    </tr>\n    <tr>\n      <th>78</th>\n      <td>Teclov</td>\n      <td>12</td>\n    </tr>\n    <tr>\n      <th>66</th>\n      <td>Geeks</td>\n      <td>13</td>\n    </tr>\n    <tr>\n      <th>66</th>\n      <td>Abhay</td>\n      <td>14</td>\n    </tr>\n    <tr>\n      <th>66</th>\n      <td>Geeks</td>\n      <td>10</td>\n    </tr>\n    <tr>\n      <th>62</th>\n      <td>Ant</td>\n      <td>10</td>\n    </tr>\n    <tr>\n      <th>56</th>\n      <td>Abhay</td>\n      <td>13</td>\n    </tr>\n    <tr>\n      <th>56</th>\n      <td>Geeks</td>\n      <td>11</td>\n    </tr>\n    <tr>\n      <th>51</th>\n      <td>Ant</td>\n      <td>11</td>\n    </tr>\n    <tr>\n      <th>42</th>\n      <td>Abhay</td>\n      <td>10</td>\n    </tr>\n    <tr>\n      <th>40</th>\n      <td>Ant</td>\n      <td>13</td>\n    </tr>\n    <tr>\n      <th>34</th>\n      <td>Teclov</td>\n      <td>10</td>\n    </tr>\n    <tr>\n      <th>34</th>\n      <td>Teclov</td>\n      <td>14</td>\n    </tr>\n    <tr>\n      <th>32</th>\n      <td>Ant</td>\n      <td>12</td>\n    </tr>\n    <tr>\n      <th>22</th>\n      <td>Abhay</td>\n      <td>11</td>\n    </tr>\n    <tr>\n      <th>22</th>\n      <td>Abhay</td>\n      <td>12</td>\n    </tr>\n  </tbody>\n</table>\n</div>"
     },
     "execution_count": 112,
     "metadata": {},
     "output_type": "execute_result"
    }
   ],
   "source": [
    "df.sort_index(axis = 0, ascending= False )"
   ],
   "metadata": {
    "collapsed": false
   }
  },
  {
   "cell_type": "code",
   "execution_count": 113,
   "outputs": [
    {
     "data": {
      "text/plain": "        name  random\ntemp                \n34    Teclov      14\n66     Abhay      14\n40       Ant      13\n87    Teclov      13\n66     Geeks      13\n56     Abhay      13\n22     Abhay      12\n83     Geeks      12\n32       Ant      12\n78    Teclov      12\n94     Abhay      11\n83     Abhay      11\n94       Ant      11\n56     Geeks      11\n22     Abhay      11\n51       Ant      11\n42     Abhay      10\n34    Teclov      10\n62       Ant      10\n66     Geeks      10",
      "text/html": "<div>\n<style scoped>\n    .dataframe tbody tr th:only-of-type {\n        vertical-align: middle;\n    }\n\n    .dataframe tbody tr th {\n        vertical-align: top;\n    }\n\n    .dataframe thead th {\n        text-align: right;\n    }\n</style>\n<table border=\"1\" class=\"dataframe\">\n  <thead>\n    <tr style=\"text-align: right;\">\n      <th></th>\n      <th>name</th>\n      <th>random</th>\n    </tr>\n    <tr>\n      <th>temp</th>\n      <th></th>\n      <th></th>\n    </tr>\n  </thead>\n  <tbody>\n    <tr>\n      <th>34</th>\n      <td>Teclov</td>\n      <td>14</td>\n    </tr>\n    <tr>\n      <th>66</th>\n      <td>Abhay</td>\n      <td>14</td>\n    </tr>\n    <tr>\n      <th>40</th>\n      <td>Ant</td>\n      <td>13</td>\n    </tr>\n    <tr>\n      <th>87</th>\n      <td>Teclov</td>\n      <td>13</td>\n    </tr>\n    <tr>\n      <th>66</th>\n      <td>Geeks</td>\n      <td>13</td>\n    </tr>\n    <tr>\n      <th>56</th>\n      <td>Abhay</td>\n      <td>13</td>\n    </tr>\n    <tr>\n      <th>22</th>\n      <td>Abhay</td>\n      <td>12</td>\n    </tr>\n    <tr>\n      <th>83</th>\n      <td>Geeks</td>\n      <td>12</td>\n    </tr>\n    <tr>\n      <th>32</th>\n      <td>Ant</td>\n      <td>12</td>\n    </tr>\n    <tr>\n      <th>78</th>\n      <td>Teclov</td>\n      <td>12</td>\n    </tr>\n    <tr>\n      <th>94</th>\n      <td>Abhay</td>\n      <td>11</td>\n    </tr>\n    <tr>\n      <th>83</th>\n      <td>Abhay</td>\n      <td>11</td>\n    </tr>\n    <tr>\n      <th>94</th>\n      <td>Ant</td>\n      <td>11</td>\n    </tr>\n    <tr>\n      <th>56</th>\n      <td>Geeks</td>\n      <td>11</td>\n    </tr>\n    <tr>\n      <th>22</th>\n      <td>Abhay</td>\n      <td>11</td>\n    </tr>\n    <tr>\n      <th>51</th>\n      <td>Ant</td>\n      <td>11</td>\n    </tr>\n    <tr>\n      <th>42</th>\n      <td>Abhay</td>\n      <td>10</td>\n    </tr>\n    <tr>\n      <th>34</th>\n      <td>Teclov</td>\n      <td>10</td>\n    </tr>\n    <tr>\n      <th>62</th>\n      <td>Ant</td>\n      <td>10</td>\n    </tr>\n    <tr>\n      <th>66</th>\n      <td>Geeks</td>\n      <td>10</td>\n    </tr>\n  </tbody>\n</table>\n</div>"
     },
     "execution_count": 113,
     "metadata": {},
     "output_type": "execute_result"
    }
   ],
   "source": [
    "df.sort_values(by = 'random', ascending =  False )"
   ],
   "metadata": {
    "collapsed": false
   }
  },
  {
   "cell_type": "code",
   "execution_count": 114,
   "outputs": [
    {
     "data": {
      "text/plain": "        name\ntemp        \n66     Geeks\n32       Ant\n56     Abhay\n56     Geeks\n78    Teclov\n42     Abhay\n94     Abhay\n22     Abhay\n83     Abhay\n83     Geeks\n34    Teclov\n40       Ant\n34    Teclov\n94       Ant\n62       Ant\n87    Teclov\n22     Abhay\n66     Geeks\n66     Abhay\n51       Ant",
      "text/html": "<div>\n<style scoped>\n    .dataframe tbody tr th:only-of-type {\n        vertical-align: middle;\n    }\n\n    .dataframe tbody tr th {\n        vertical-align: top;\n    }\n\n    .dataframe thead th {\n        text-align: right;\n    }\n</style>\n<table border=\"1\" class=\"dataframe\">\n  <thead>\n    <tr style=\"text-align: right;\">\n      <th></th>\n      <th>name</th>\n    </tr>\n    <tr>\n      <th>temp</th>\n      <th></th>\n    </tr>\n  </thead>\n  <tbody>\n    <tr>\n      <th>66</th>\n      <td>Geeks</td>\n    </tr>\n    <tr>\n      <th>32</th>\n      <td>Ant</td>\n    </tr>\n    <tr>\n      <th>56</th>\n      <td>Abhay</td>\n    </tr>\n    <tr>\n      <th>56</th>\n      <td>Geeks</td>\n    </tr>\n    <tr>\n      <th>78</th>\n      <td>Teclov</td>\n    </tr>\n    <tr>\n      <th>42</th>\n      <td>Abhay</td>\n    </tr>\n    <tr>\n      <th>94</th>\n      <td>Abhay</td>\n    </tr>\n    <tr>\n      <th>22</th>\n      <td>Abhay</td>\n    </tr>\n    <tr>\n      <th>83</th>\n      <td>Abhay</td>\n    </tr>\n    <tr>\n      <th>83</th>\n      <td>Geeks</td>\n    </tr>\n    <tr>\n      <th>34</th>\n      <td>Teclov</td>\n    </tr>\n    <tr>\n      <th>40</th>\n      <td>Ant</td>\n    </tr>\n    <tr>\n      <th>34</th>\n      <td>Teclov</td>\n    </tr>\n    <tr>\n      <th>94</th>\n      <td>Ant</td>\n    </tr>\n    <tr>\n      <th>62</th>\n      <td>Ant</td>\n    </tr>\n    <tr>\n      <th>87</th>\n      <td>Teclov</td>\n    </tr>\n    <tr>\n      <th>22</th>\n      <td>Abhay</td>\n    </tr>\n    <tr>\n      <th>66</th>\n      <td>Geeks</td>\n    </tr>\n    <tr>\n      <th>66</th>\n      <td>Abhay</td>\n    </tr>\n    <tr>\n      <th>51</th>\n      <td>Ant</td>\n    </tr>\n  </tbody>\n</table>\n</div>"
     },
     "execution_count": 114,
     "metadata": {},
     "output_type": "execute_result"
    }
   ],
   "source": [
    "df.drop(['random'] , axis=1)"
   ],
   "metadata": {
    "collapsed": false
   }
  },
  {
   "cell_type": "markdown",
   "source": [
    "Location via index"
   ],
   "metadata": {
    "collapsed": false
   }
  },
  {
   "cell_type": "code",
   "execution_count": 115,
   "outputs": [
    {
     "data": {
      "text/plain": "       name  random\ntemp               \n66    Geeks      13\n32      Ant      12",
      "text/html": "<div>\n<style scoped>\n    .dataframe tbody tr th:only-of-type {\n        vertical-align: middle;\n    }\n\n    .dataframe tbody tr th {\n        vertical-align: top;\n    }\n\n    .dataframe thead th {\n        text-align: right;\n    }\n</style>\n<table border=\"1\" class=\"dataframe\">\n  <thead>\n    <tr style=\"text-align: right;\">\n      <th></th>\n      <th>name</th>\n      <th>random</th>\n    </tr>\n    <tr>\n      <th>temp</th>\n      <th></th>\n      <th></th>\n    </tr>\n  </thead>\n  <tbody>\n    <tr>\n      <th>66</th>\n      <td>Geeks</td>\n      <td>13</td>\n    </tr>\n    <tr>\n      <th>32</th>\n      <td>Ant</td>\n      <td>12</td>\n    </tr>\n  </tbody>\n</table>\n</div>"
     },
     "execution_count": 115,
     "metadata": {},
     "output_type": "execute_result"
    }
   ],
   "source": [
    "df.iloc[[0,1]]"
   ],
   "metadata": {
    "collapsed": false
   }
  },
  {
   "cell_type": "code",
   "execution_count": 116,
   "outputs": [
    {
     "data": {
      "text/plain": "temp\n32    12\n56    13\nName: random, dtype: int32"
     },
     "execution_count": 116,
     "metadata": {},
     "output_type": "execute_result"
    }
   ],
   "source": [
    "df.iloc[1:3,1 ]"
   ],
   "metadata": {
    "collapsed": false
   }
  },
  {
   "cell_type": "code",
   "execution_count": 117,
   "outputs": [
    {
     "ename": "IndexError",
     "evalue": "Boolean index has wrong length: 3 instead of 20",
     "output_type": "error",
     "traceback": [
      "\u001B[1;31m---------------------------------------------------------------------------\u001B[0m",
      "\u001B[1;31mIndexError\u001B[0m                                Traceback (most recent call last)",
      "Cell \u001B[1;32mIn [117], line 1\u001B[0m\n\u001B[1;32m----> 1\u001B[0m \u001B[43mdf\u001B[49m\u001B[38;5;241;43m.\u001B[39;49m\u001B[43miloc\u001B[49m\u001B[43m[\u001B[49m\u001B[43m[\u001B[49m\u001B[38;5;28;43;01mTrue\u001B[39;49;00m\u001B[43m,\u001B[49m\u001B[43m \u001B[49m\u001B[38;5;28;43;01mTrue\u001B[39;49;00m\u001B[43m,\u001B[49m\u001B[43m \u001B[49m\u001B[38;5;28;43;01mFalse\u001B[39;49;00m\u001B[43m]\u001B[49m\u001B[43m]\u001B[49m\n",
      "File \u001B[1;32m~\\AppData\\Local\\Programs\\Python\\Python310\\lib\\site-packages\\pandas\\core\\indexing.py:1073\u001B[0m, in \u001B[0;36m_LocationIndexer.__getitem__\u001B[1;34m(self, key)\u001B[0m\n\u001B[0;32m   1070\u001B[0m axis \u001B[38;5;241m=\u001B[39m \u001B[38;5;28mself\u001B[39m\u001B[38;5;241m.\u001B[39maxis \u001B[38;5;129;01mor\u001B[39;00m \u001B[38;5;241m0\u001B[39m\n\u001B[0;32m   1072\u001B[0m maybe_callable \u001B[38;5;241m=\u001B[39m com\u001B[38;5;241m.\u001B[39mapply_if_callable(key, \u001B[38;5;28mself\u001B[39m\u001B[38;5;241m.\u001B[39mobj)\n\u001B[1;32m-> 1073\u001B[0m \u001B[38;5;28;01mreturn\u001B[39;00m \u001B[38;5;28;43mself\u001B[39;49m\u001B[38;5;241;43m.\u001B[39;49m\u001B[43m_getitem_axis\u001B[49m\u001B[43m(\u001B[49m\u001B[43mmaybe_callable\u001B[49m\u001B[43m,\u001B[49m\u001B[43m \u001B[49m\u001B[43maxis\u001B[49m\u001B[38;5;241;43m=\u001B[39;49m\u001B[43maxis\u001B[49m\u001B[43m)\u001B[49m\n",
      "File \u001B[1;32m~\\AppData\\Local\\Programs\\Python\\Python310\\lib\\site-packages\\pandas\\core\\indexing.py:1612\u001B[0m, in \u001B[0;36m_iLocIndexer._getitem_axis\u001B[1;34m(self, key, axis)\u001B[0m\n\u001B[0;32m   1610\u001B[0m \u001B[38;5;28;01mif\u001B[39;00m com\u001B[38;5;241m.\u001B[39mis_bool_indexer(key):\n\u001B[0;32m   1611\u001B[0m     \u001B[38;5;28mself\u001B[39m\u001B[38;5;241m.\u001B[39m_validate_key(key, axis)\n\u001B[1;32m-> 1612\u001B[0m     \u001B[38;5;28;01mreturn\u001B[39;00m \u001B[38;5;28;43mself\u001B[39;49m\u001B[38;5;241;43m.\u001B[39;49m\u001B[43m_getbool_axis\u001B[49m\u001B[43m(\u001B[49m\u001B[43mkey\u001B[49m\u001B[43m,\u001B[49m\u001B[43m \u001B[49m\u001B[43maxis\u001B[49m\u001B[38;5;241;43m=\u001B[39;49m\u001B[43maxis\u001B[49m\u001B[43m)\u001B[49m\n\u001B[0;32m   1614\u001B[0m \u001B[38;5;66;03m# a list of integers\u001B[39;00m\n\u001B[0;32m   1615\u001B[0m \u001B[38;5;28;01melif\u001B[39;00m is_list_like_indexer(key):\n",
      "File \u001B[1;32m~\\AppData\\Local\\Programs\\Python\\Python310\\lib\\site-packages\\pandas\\core\\indexing.py:1091\u001B[0m, in \u001B[0;36m_LocationIndexer._getbool_axis\u001B[1;34m(self, key, axis)\u001B[0m\n\u001B[0;32m   1087\u001B[0m \u001B[38;5;129m@final\u001B[39m\n\u001B[0;32m   1088\u001B[0m \u001B[38;5;28;01mdef\u001B[39;00m \u001B[38;5;21m_getbool_axis\u001B[39m(\u001B[38;5;28mself\u001B[39m, key, axis: \u001B[38;5;28mint\u001B[39m):\n\u001B[0;32m   1089\u001B[0m     \u001B[38;5;66;03m# caller is responsible for ensuring non-None axis\u001B[39;00m\n\u001B[0;32m   1090\u001B[0m     labels \u001B[38;5;241m=\u001B[39m \u001B[38;5;28mself\u001B[39m\u001B[38;5;241m.\u001B[39mobj\u001B[38;5;241m.\u001B[39m_get_axis(axis)\n\u001B[1;32m-> 1091\u001B[0m     key \u001B[38;5;241m=\u001B[39m \u001B[43mcheck_bool_indexer\u001B[49m\u001B[43m(\u001B[49m\u001B[43mlabels\u001B[49m\u001B[43m,\u001B[49m\u001B[43m \u001B[49m\u001B[43mkey\u001B[49m\u001B[43m)\u001B[49m\n\u001B[0;32m   1092\u001B[0m     inds \u001B[38;5;241m=\u001B[39m key\u001B[38;5;241m.\u001B[39mnonzero()[\u001B[38;5;241m0\u001B[39m]\n\u001B[0;32m   1093\u001B[0m     \u001B[38;5;28;01mreturn\u001B[39;00m \u001B[38;5;28mself\u001B[39m\u001B[38;5;241m.\u001B[39mobj\u001B[38;5;241m.\u001B[39m_take_with_is_copy(inds, axis\u001B[38;5;241m=\u001B[39maxis)\n",
      "File \u001B[1;32m~\\AppData\\Local\\Programs\\Python\\Python310\\lib\\site-packages\\pandas\\core\\indexing.py:2571\u001B[0m, in \u001B[0;36mcheck_bool_indexer\u001B[1;34m(index, key)\u001B[0m\n\u001B[0;32m   2567\u001B[0m \u001B[38;5;28;01melif\u001B[39;00m \u001B[38;5;129;01mnot\u001B[39;00m is_array_like(result):\n\u001B[0;32m   2568\u001B[0m     \u001B[38;5;66;03m# GH 33924\u001B[39;00m\n\u001B[0;32m   2569\u001B[0m     \u001B[38;5;66;03m# key may contain nan elements, check_array_indexer needs bool array\u001B[39;00m\n\u001B[0;32m   2570\u001B[0m     result \u001B[38;5;241m=\u001B[39m pd_array(result, dtype\u001B[38;5;241m=\u001B[39m\u001B[38;5;28mbool\u001B[39m)\n\u001B[1;32m-> 2571\u001B[0m \u001B[38;5;28;01mreturn\u001B[39;00m \u001B[43mcheck_array_indexer\u001B[49m\u001B[43m(\u001B[49m\u001B[43mindex\u001B[49m\u001B[43m,\u001B[49m\u001B[43m \u001B[49m\u001B[43mresult\u001B[49m\u001B[43m)\u001B[49m\n",
      "File \u001B[1;32m~\\AppData\\Local\\Programs\\Python\\Python310\\lib\\site-packages\\pandas\\core\\indexers\\utils.py:552\u001B[0m, in \u001B[0;36mcheck_array_indexer\u001B[1;34m(array, indexer)\u001B[0m\n\u001B[0;32m    550\u001B[0m     \u001B[38;5;66;03m# GH26658\u001B[39;00m\n\u001B[0;32m    551\u001B[0m     \u001B[38;5;28;01mif\u001B[39;00m \u001B[38;5;28mlen\u001B[39m(indexer) \u001B[38;5;241m!=\u001B[39m \u001B[38;5;28mlen\u001B[39m(array):\n\u001B[1;32m--> 552\u001B[0m         \u001B[38;5;28;01mraise\u001B[39;00m \u001B[38;5;167;01mIndexError\u001B[39;00m(\n\u001B[0;32m    553\u001B[0m             \u001B[38;5;124mf\u001B[39m\u001B[38;5;124m\"\u001B[39m\u001B[38;5;124mBoolean index has wrong length: \u001B[39m\u001B[38;5;124m\"\u001B[39m\n\u001B[0;32m    554\u001B[0m             \u001B[38;5;124mf\u001B[39m\u001B[38;5;124m\"\u001B[39m\u001B[38;5;132;01m{\u001B[39;00m\u001B[38;5;28mlen\u001B[39m(indexer)\u001B[38;5;132;01m}\u001B[39;00m\u001B[38;5;124m instead of \u001B[39m\u001B[38;5;132;01m{\u001B[39;00m\u001B[38;5;28mlen\u001B[39m(array)\u001B[38;5;132;01m}\u001B[39;00m\u001B[38;5;124m\"\u001B[39m\n\u001B[0;32m    555\u001B[0m         )\n\u001B[0;32m    556\u001B[0m \u001B[38;5;28;01melif\u001B[39;00m is_integer_dtype(dtype):\n\u001B[0;32m    557\u001B[0m     \u001B[38;5;28;01mtry\u001B[39;00m:\n",
      "\u001B[1;31mIndexError\u001B[0m: Boolean index has wrong length: 3 instead of 20"
     ]
    }
   ],
   "source": [
    "df.iloc[[True, True, False]]"
   ],
   "metadata": {
    "collapsed": false
   }
  },
  {
   "cell_type": "code",
   "execution_count": null,
   "outputs": [],
   "source": [
    "df.iloc[[0]]"
   ],
   "metadata": {
    "collapsed": false
   }
  },
  {
   "cell_type": "code",
   "execution_count": null,
   "outputs": [],
   "source": [
    "df.iloc[[0,3,10]]"
   ],
   "metadata": {
    "collapsed": false
   }
  },
  {
   "cell_type": "code",
   "execution_count": null,
   "outputs": [],
   "source": [
    "df.loc[83,:] #All columns and value = 83"
   ],
   "metadata": {
    "collapsed": false
   }
  },
  {
   "cell_type": "code",
   "execution_count": null,
   "outputs": [],
   "source": [
    "df.loc[[47,50,83]]"
   ],
   "metadata": {
    "collapsed": false
   }
  },
  {
   "cell_type": "code",
   "execution_count": null,
   "outputs": [],
   "source": [
    "df.loc[[47,83], 'name' : 'random']"
   ],
   "metadata": {
    "collapsed": false
   }
  },
  {
   "cell_type": "code",
   "execution_count": null,
   "outputs": [],
   "source": [
    "df.loc[df.random > 13] #df.columnname > 13"
   ],
   "metadata": {
    "collapsed": false
   }
  },
  {
   "cell_type": "code",
   "execution_count": null,
   "outputs": [],
   "source": [
    "df.loc[(df.random> 13) | (df.random == 10),:]"
   ],
   "metadata": {
    "collapsed": false
   }
  },
  {
   "cell_type": "code",
   "execution_count": null,
   "outputs": [],
   "source": [
    "df[df.random > 10]"
   ],
   "metadata": {
    "collapsed": false
   }
  },
  {
   "cell_type": "markdown",
   "source": [
    "Merging and concatenation"
   ],
   "metadata": {
    "collapsed": false
   }
  },
  {
   "cell_type": "code",
   "execution_count": 140,
   "outputs": [],
   "source": [
    "d1 = pd.DataFrame([['a',1],['b', 2]], columns=['col1','number'])\n",
    "d2 =pd.DataFrame([['c',3,'lion'],['d', 4, 'tiger']], columns=['letter','number','animal'])"
   ],
   "metadata": {
    "collapsed": false
   }
  },
  {
   "cell_type": "code",
   "execution_count": 141,
   "outputs": [
    {
     "data": {
      "text/plain": "  col1  number\n0    a       1\n1    b       2",
      "text/html": "<div>\n<style scoped>\n    .dataframe tbody tr th:only-of-type {\n        vertical-align: middle;\n    }\n\n    .dataframe tbody tr th {\n        vertical-align: top;\n    }\n\n    .dataframe thead th {\n        text-align: right;\n    }\n</style>\n<table border=\"1\" class=\"dataframe\">\n  <thead>\n    <tr style=\"text-align: right;\">\n      <th></th>\n      <th>col1</th>\n      <th>number</th>\n    </tr>\n  </thead>\n  <tbody>\n    <tr>\n      <th>0</th>\n      <td>a</td>\n      <td>1</td>\n    </tr>\n    <tr>\n      <th>1</th>\n      <td>b</td>\n      <td>2</td>\n    </tr>\n  </tbody>\n</table>\n</div>"
     },
     "execution_count": 141,
     "metadata": {},
     "output_type": "execute_result"
    }
   ],
   "source": [
    "d1\n"
   ],
   "metadata": {
    "collapsed": false
   }
  },
  {
   "cell_type": "code",
   "execution_count": 142,
   "outputs": [
    {
     "data": {
      "text/plain": "  letter  number animal\n0      c       3   lion\n1      d       4  tiger",
      "text/html": "<div>\n<style scoped>\n    .dataframe tbody tr th:only-of-type {\n        vertical-align: middle;\n    }\n\n    .dataframe tbody tr th {\n        vertical-align: top;\n    }\n\n    .dataframe thead th {\n        text-align: right;\n    }\n</style>\n<table border=\"1\" class=\"dataframe\">\n  <thead>\n    <tr style=\"text-align: right;\">\n      <th></th>\n      <th>letter</th>\n      <th>number</th>\n      <th>animal</th>\n    </tr>\n  </thead>\n  <tbody>\n    <tr>\n      <th>0</th>\n      <td>c</td>\n      <td>3</td>\n      <td>lion</td>\n    </tr>\n    <tr>\n      <th>1</th>\n      <td>d</td>\n      <td>4</td>\n      <td>tiger</td>\n    </tr>\n  </tbody>\n</table>\n</div>"
     },
     "execution_count": 142,
     "metadata": {},
     "output_type": "execute_result"
    }
   ],
   "source": [
    "d2"
   ],
   "metadata": {
    "collapsed": false
   }
  },
  {
   "cell_type": "code",
   "execution_count": null,
   "outputs": [],
   "source": [
    "pd.concat([d1,d2],axis = 0)"
   ],
   "metadata": {
    "collapsed": false
   }
  },
  {
   "cell_type": "markdown",
   "source": [
    "Here index is one after another"
   ],
   "metadata": {
    "collapsed": false
   }
  },
  {
   "cell_type": "code",
   "execution_count": null,
   "outputs": [],
   "source": [
    "pd.concat([d1,d2],axis = 0, ignore_index=True)"
   ],
   "metadata": {
    "collapsed": false
   }
  },
  {
   "cell_type": "code",
   "execution_count": null,
   "outputs": [],
   "source": [
    "pd.concat([d1,d2],axis = 1)"
   ],
   "metadata": {
    "collapsed": false
   }
  },
  {
   "cell_type": "code",
   "execution_count": null,
   "outputs": [],
   "source": [
    "d1 = pd.DataFrame({\n",
    "    'city' : ['delhi', 'kanpur', 'lucknow'],\n",
    "    'humidity': [68,75,84]\n",
    "})"
   ],
   "metadata": {
    "collapsed": false
   }
  },
  {
   "cell_type": "code",
   "execution_count": null,
   "outputs": [],
   "source": [
    "d1"
   ],
   "metadata": {
    "collapsed": false
   }
  },
  {
   "cell_type": "code",
   "execution_count": null,
   "outputs": [],
   "source": [
    "d2 = pd.DataFrame({\n",
    "    'city' : ['agra', 'Sikandarabad', 'Mumbai'],\n",
    "    'humidity': [45,25,54]\n",
    "})"
   ],
   "metadata": {
    "collapsed": false
   }
  },
  {
   "cell_type": "code",
   "execution_count": null,
   "outputs": [],
   "source": [
    "d2"
   ],
   "metadata": {
    "collapsed": false
   }
  },
  {
   "cell_type": "code",
   "execution_count": null,
   "outputs": [],
   "source": [
    "df = pd.merge(d1,d2, on= 'city')"
   ],
   "metadata": {
    "collapsed": false
   }
  },
  {
   "cell_type": "code",
   "execution_count": null,
   "outputs": [],
   "source": [
    "df"
   ],
   "metadata": {
    "collapsed": false
   }
  },
  {
   "cell_type": "code",
   "execution_count": null,
   "outputs": [],
   "source": [
    "df = pd.merge(d1,d2, on=[ 'city'], how = 'outer')"
   ],
   "metadata": {
    "collapsed": false
   }
  },
  {
   "cell_type": "code",
   "execution_count": null,
   "outputs": [],
   "source": [
    "df"
   ],
   "metadata": {
    "collapsed": false
   }
  },
  {
   "cell_type": "code",
   "execution_count": 145,
   "outputs": [],
   "source": [
    "d1= pd.read_csv('indian movies.csv')"
   ],
   "metadata": {
    "collapsed": false
   }
  },
  {
   "cell_type": "code",
   "execution_count": 146,
   "outputs": [
    {
     "data": {
      "text/plain": "          ID              Movie Name  Year Timing(min) Rating(10)  Votes  \\\n0  tt0398974             Dr. Shaitan  1960           -          -      -   \n1  tt1702558              Nadir Khan  1968           -          -      -   \n2  tt0493437  Apna Sapna Money Money  2006     134 min        5.3  1,892   \n3  tt0273405          Aag Aur Sholay  1987           -        2.2     20   \n4  tt0049595                 Parivar  1956           -        7.4     21   \n\n                                  Genre Language  \n0                                     -    hindi  \n1                                     -     urdu  \n2  Comedy, Musical, Romance                hindi  \n3                                     -     urdu  \n4     Comedy, Drama, Family                hindi  ",
      "text/html": "<div>\n<style scoped>\n    .dataframe tbody tr th:only-of-type {\n        vertical-align: middle;\n    }\n\n    .dataframe tbody tr th {\n        vertical-align: top;\n    }\n\n    .dataframe thead th {\n        text-align: right;\n    }\n</style>\n<table border=\"1\" class=\"dataframe\">\n  <thead>\n    <tr style=\"text-align: right;\">\n      <th></th>\n      <th>ID</th>\n      <th>Movie Name</th>\n      <th>Year</th>\n      <th>Timing(min)</th>\n      <th>Rating(10)</th>\n      <th>Votes</th>\n      <th>Genre</th>\n      <th>Language</th>\n    </tr>\n  </thead>\n  <tbody>\n    <tr>\n      <th>0</th>\n      <td>tt0398974</td>\n      <td>Dr. Shaitan</td>\n      <td>1960</td>\n      <td>-</td>\n      <td>-</td>\n      <td>-</td>\n      <td>-</td>\n      <td>hindi</td>\n    </tr>\n    <tr>\n      <th>1</th>\n      <td>tt1702558</td>\n      <td>Nadir Khan</td>\n      <td>1968</td>\n      <td>-</td>\n      <td>-</td>\n      <td>-</td>\n      <td>-</td>\n      <td>urdu</td>\n    </tr>\n    <tr>\n      <th>2</th>\n      <td>tt0493437</td>\n      <td>Apna Sapna Money Money</td>\n      <td>2006</td>\n      <td>134 min</td>\n      <td>5.3</td>\n      <td>1,892</td>\n      <td>Comedy, Musical, Romance</td>\n      <td>hindi</td>\n    </tr>\n    <tr>\n      <th>3</th>\n      <td>tt0273405</td>\n      <td>Aag Aur Sholay</td>\n      <td>1987</td>\n      <td>-</td>\n      <td>2.2</td>\n      <td>20</td>\n      <td>-</td>\n      <td>urdu</td>\n    </tr>\n    <tr>\n      <th>4</th>\n      <td>tt0049595</td>\n      <td>Parivar</td>\n      <td>1956</td>\n      <td>-</td>\n      <td>7.4</td>\n      <td>21</td>\n      <td>Comedy, Drama, Family</td>\n      <td>hindi</td>\n    </tr>\n  </tbody>\n</table>\n</div>"
     },
     "execution_count": 146,
     "metadata": {},
     "output_type": "execute_result"
    }
   ],
   "source": [
    "d1.head()"
   ],
   "metadata": {
    "collapsed": false
   }
  },
  {
   "cell_type": "code",
   "execution_count": 147,
   "outputs": [
    {
     "data": {
      "text/plain": "Index(['ID', 'Movie Name', 'Year', 'Timing(min)', 'Rating(10)', 'Votes',\n       'Genre', 'Language'],\n      dtype='object')"
     },
     "execution_count": 147,
     "metadata": {},
     "output_type": "execute_result"
    }
   ],
   "source": [
    "d1.columns"
   ],
   "metadata": {
    "collapsed": false
   }
  },
  {
   "cell_type": "code",
   "execution_count": 148,
   "outputs": [],
   "source": [
    "x = d1[['Movie Name', 'Votes', 'Language']]"
   ],
   "metadata": {
    "collapsed": false
   }
  },
  {
   "cell_type": "code",
   "execution_count": 149,
   "outputs": [
    {
     "data": {
      "text/plain": "                   Movie Name  Votes  Language\n0                 Dr. Shaitan      -     hindi\n1                  Nadir Khan      -      urdu\n2      Apna Sapna Money Money  1,892     hindi\n3              Aag Aur Sholay     20      urdu\n4                     Parivar     21     hindi\n...                       ...    ...       ...\n50597          Sulagte Armaan      -     hindi\n50598                  Aranya      -  assamese\n50599              Balayogini      -    telugu\n50600                 Alajadi      -    telugu\n50601             KA-99 B-333      -   kannada\n\n[50602 rows x 3 columns]",
      "text/html": "<div>\n<style scoped>\n    .dataframe tbody tr th:only-of-type {\n        vertical-align: middle;\n    }\n\n    .dataframe tbody tr th {\n        vertical-align: top;\n    }\n\n    .dataframe thead th {\n        text-align: right;\n    }\n</style>\n<table border=\"1\" class=\"dataframe\">\n  <thead>\n    <tr style=\"text-align: right;\">\n      <th></th>\n      <th>Movie Name</th>\n      <th>Votes</th>\n      <th>Language</th>\n    </tr>\n  </thead>\n  <tbody>\n    <tr>\n      <th>0</th>\n      <td>Dr. Shaitan</td>\n      <td>-</td>\n      <td>hindi</td>\n    </tr>\n    <tr>\n      <th>1</th>\n      <td>Nadir Khan</td>\n      <td>-</td>\n      <td>urdu</td>\n    </tr>\n    <tr>\n      <th>2</th>\n      <td>Apna Sapna Money Money</td>\n      <td>1,892</td>\n      <td>hindi</td>\n    </tr>\n    <tr>\n      <th>3</th>\n      <td>Aag Aur Sholay</td>\n      <td>20</td>\n      <td>urdu</td>\n    </tr>\n    <tr>\n      <th>4</th>\n      <td>Parivar</td>\n      <td>21</td>\n      <td>hindi</td>\n    </tr>\n    <tr>\n      <th>...</th>\n      <td>...</td>\n      <td>...</td>\n      <td>...</td>\n    </tr>\n    <tr>\n      <th>50597</th>\n      <td>Sulagte Armaan</td>\n      <td>-</td>\n      <td>hindi</td>\n    </tr>\n    <tr>\n      <th>50598</th>\n      <td>Aranya</td>\n      <td>-</td>\n      <td>assamese</td>\n    </tr>\n    <tr>\n      <th>50599</th>\n      <td>Balayogini</td>\n      <td>-</td>\n      <td>telugu</td>\n    </tr>\n    <tr>\n      <th>50600</th>\n      <td>Alajadi</td>\n      <td>-</td>\n      <td>telugu</td>\n    </tr>\n    <tr>\n      <th>50601</th>\n      <td>KA-99 B-333</td>\n      <td>-</td>\n      <td>kannada</td>\n    </tr>\n  </tbody>\n</table>\n<p>50602 rows × 3 columns</p>\n</div>"
     },
     "execution_count": 149,
     "metadata": {},
     "output_type": "execute_result"
    }
   ],
   "source": [
    "x"
   ],
   "metadata": {
    "collapsed": false
   }
  },
  {
   "cell_type": "code",
   "execution_count": 150,
   "outputs": [],
   "source": [
    "df_grp = d1.groupby(\"Language\")"
   ],
   "metadata": {
    "collapsed": false
   }
  },
  {
   "cell_type": "code",
   "execution_count": 151,
   "outputs": [
    {
     "data": {
      "text/plain": "<pandas.core.groupby.generic.DataFrameGroupBy object at 0x0000020F6CF96680>"
     },
     "execution_count": 151,
     "metadata": {},
     "output_type": "execute_result"
    }
   ],
   "source": [
    "df_grp"
   ],
   "metadata": {
    "collapsed": false
   }
  },
  {
   "cell_type": "code",
   "execution_count": 152,
   "outputs": [
    {
     "name": "stdout",
     "output_type": "stream",
     "text": [
      "('assamese',                ID        Movie Name  Year Timing(min) Rating(10) Votes  \\\n",
      "201     tt1977836        Kalsandhya  1997     124 min        7.8    11   \n",
      "210     tt1081913             Aideu  2007      91 min          -     -   \n",
      "378    tt11653688      Local Utpaat  2020           -          -     -   \n",
      "458    tt13637832  Jaanmoni Vol - 1  2008      70 min          -     -   \n",
      "754     tt0230864          Tejimola  1967           -          -     -   \n",
      "...           ...               ...   ...         ...        ...   ...   \n",
      "50207   tt8188914             Nayak  2001           -        6.6    14   \n",
      "50298  tt13625038       Priya Milon  2011      86 min          -     -   \n",
      "50334  tt13812690       Soru Bowari  2003           -          -     -   \n",
      "50368  tt13637902    Jaanmoni Vol:1  2010      75 min          -     -   \n",
      "50598   tt0315201            Aranya  1971     107 min          -     -   \n",
      "\n",
      "                                    Genre  Language  \n",
      "201                     Drama              assamese  \n",
      "210                                     -  assamese  \n",
      "378            Action, Comedy              assamese  \n",
      "458          Musical, Romance              assamese  \n",
      "754                                     -  assamese  \n",
      "...                                   ...       ...  \n",
      "50207          Drama, Romance              assamese  \n",
      "50298                 Romance              assamese  \n",
      "50334  Drama, Family, Romance              assamese  \n",
      "50368                 Romance              assamese  \n",
      "50598                   Drama              assamese  \n",
      "\n",
      "[450 rows x 8 columns])\n",
      "('bengali',               ID                 Movie Name  Year Timing(min) Rating(10)  \\\n",
      "9      tt0364628                 Raktalekha  1992     175 min        6.3   \n",
      "34             -                        Jam   NaN           -          -   \n",
      "77     tt1524568                Pratipaksha  1988     108 min        6.9   \n",
      "81     tt2942618  Dehorokkhi: The Bodyguard  2013     167 min        6.8   \n",
      "94     tt3952870                     Britto  2014     124 min        7.5   \n",
      "...          ...                        ...   ...         ...        ...   \n",
      "50560  tt7099142                Jawker Dhan  2017     107 min        5.9   \n",
      "50566  tt1594530                  Ramprasad  1947           -          -   \n",
      "50568  tt3867432               Mayar Sansar  1962           -          -   \n",
      "50571  tt5009100                 Uro Chithi  2011     130 min        5.8   \n",
      "50587  tt0231191           Atal Jaler Ahwan  1962           -        6.6   \n",
      "\n",
      "      Votes                                   Genre Language  \n",
      "9        12                       Drama              bengali  \n",
      "34        -                       Drama              bengali  \n",
      "77        8               Action, Drama              bengali  \n",
      "81      402                      Action              bengali  \n",
      "94       12                       Drama              bengali  \n",
      "...     ...                                     ...      ...  \n",
      "50560   119  Action, Adventure, Mystery              bengali  \n",
      "50566     -                                       -  bengali  \n",
      "50568     -                       Drama              bengali  \n",
      "50571    56                       Drama              bengali  \n",
      "50587    14                       Drama              bengali  \n",
      "\n",
      "[4200 rows x 8 columns])\n",
      "('bhojpuri',                ID             Movie Name  Year Timing(min) Rating(10) Votes  \\\n",
      "36      tt1827428   Hamra Se Biyah Karba  2003           -          -     -   \n",
      "75      tt7419244                 Takrav  2018           -          -     -   \n",
      "266     tt7586994        Kaashi Amarnath  2017     162 min        4.7    11   \n",
      "287     tt5242076           Prem Vidrohi  2012           -          -     -   \n",
      "323     tt0231204            Awara Badal  1964     134 min        5.9    14   \n",
      "...           ...                    ...   ...         ...        ...   ...   \n",
      "50109   tt7608988               Saugandh  2018           -        6.9     8   \n",
      "50248   tt5508604                  Nagin  2013     162 min        5.8     5   \n",
      "50479  tt11011868  Nirahua Chalal London  2019     146 min          -     -   \n",
      "50502   tt8529070          Pinky Memsaab  2018     124 min        6.4   407   \n",
      "50567   tt2147209               Balidaan  2009           -          -     -   \n",
      "\n",
      "                                      Genre  Language  \n",
      "36                        Drama              bhojpuri  \n",
      "75              Action, Romance              bhojpuri  \n",
      "266      Action, Drama, Romance              bhojpuri  \n",
      "287                      Action              bhojpuri  \n",
      "323    Action, Adventure, Drama              bhojpuri  \n",
      "...                                     ...       ...  \n",
      "50109           Action, Romance              bhojpuri  \n",
      "50248                     Drama              bhojpuri  \n",
      "50479                     Drama              bhojpuri  \n",
      "50502             Drama, Family              bhojpuri  \n",
      "50567                    Action              bhojpuri  \n",
      "\n",
      "[500 rows x 8 columns])\n",
      "('gujarati',                ID                    Movie Name  Year Timing(min) Rating(10)  \\\n",
      "60      tt4601930                  Hasta Melapa  1969           -          -   \n",
      "214             -                         Khape   NaN           -          -   \n",
      "227     tt9725092                    Swabhimaan  2019     122 min          -   \n",
      "251    tt12976166           Band Baaja Babuchak  2017     123 min          -   \n",
      "293     tt4604852                  Diyar Bhojai  1980           -          -   \n",
      "...           ...                           ...   ...         ...        ...   \n",
      "50266   tt9556378         Maadi Maane Kaheve De  1968           -          -   \n",
      "50354           -       Chaar Bangadi Vadi Gadi   NaN     122 min          -   \n",
      "50415   tt6091450  Reunion: Chalo Pachha Maliye  2017     156 min        7.9   \n",
      "50459  tt10932080                     Raghu CNG  2019           -        7.7   \n",
      "50543           -                         Mukti  2021     106 min          -   \n",
      "\n",
      "      Votes                        Genre  Language  \n",
      "60        -            Drama              gujarati  \n",
      "214       -            Drama              gujarati  \n",
      "227       -            Drama              gujarati  \n",
      "251       -           Comedy              gujarati  \n",
      "293       -          Romance              gujarati  \n",
      "...     ...                          ...       ...  \n",
      "50266     -            Drama              gujarati  \n",
      "50354     -            Drama              gujarati  \n",
      "50415    18    Comedy, Drama              gujarati  \n",
      "50459     9  Crime, Thriller              gujarati  \n",
      "50543     -            Drama              gujarati  \n",
      "\n",
      "[700 rows x 8 columns])\n",
      "('hindi',               ID              Movie Name  Year Timing(min) Rating(10)  Votes  \\\n",
      "0      tt0398974             Dr. Shaitan  1960           -          -      -   \n",
      "2      tt0493437  Apna Sapna Money Money  2006     134 min        5.3  1,892   \n",
      "4      tt0049595                 Parivar  1956           -        7.4     21   \n",
      "5      tt2930026    Humraah: The Traitor  2008           -          -      -   \n",
      "6      tt6597160  Jacqueline I Am Coming  2019     112 min        7.9     16   \n",
      "...          ...                     ...   ...         ...        ...    ...   \n",
      "50593  tt3065582         Romeo in Sikkim  1975           -          -      -   \n",
      "50594  tt0073191        Jai Santoshi Maa  1975     145 min        6.3    114   \n",
      "50595  tt0229947             Aakhri Geet  1975           -          -      -   \n",
      "50596  tt8706884             Prassthanam  2019     141 min        5.8  1,201   \n",
      "50597  tt2784720          Sulagte Armaan  1984           -          -      -   \n",
      "\n",
      "                                      Genre Language  \n",
      "0                                         -    hindi  \n",
      "2      Comedy, Musical, Romance                hindi  \n",
      "4         Comedy, Drama, Family                hindi  \n",
      "5                      Thriller                hindi  \n",
      "6                         Drama                hindi  \n",
      "...                                     ...      ...  \n",
      "50593                   Romance                hindi  \n",
      "50594            Drama, Fantasy                hindi  \n",
      "50595                                     -    hindi  \n",
      "50596             Action, Drama                hindi  \n",
      "50597                     Drama                hindi  \n",
      "\n",
      "[14350 rows x 8 columns])\n",
      "('kannada',                ID                         Movie Name     Year Timing(min)  \\\n",
      "16      tt3148392                             Shatru     2013           -   \n",
      "41      tt6682124                              Rogue  II 2017     134 min   \n",
      "46     tt13276010                         Goolihatti     2015     156 min   \n",
      "71     tt14189052                 Ivanu Thumba Orata     2009           -   \n",
      "82      tt2777694                               Beru     2005     104 min   \n",
      "...           ...                                ...      ...         ...   \n",
      "50492  tt13145126  Thathana Thithi Mommagana Prastha     2017           -   \n",
      "50515   tt7124740                   Akkammana Bhagya     2017     117 min   \n",
      "50527   tt0261997            Shri Renukadevi Mahatme     1977     140 min   \n",
      "50537   tt0234415                            Pallavi     1976     128 min   \n",
      "50601  tt14143738                        KA-99 B-333     2009           -   \n",
      "\n",
      "      Rating(10) Votes                               Genre Language  \n",
      "16           4.5    11        Action, Thriller              kannada  \n",
      "41           5.1   118        Action, Thriller              kannada  \n",
      "46             -     -                   Drama              kannada  \n",
      "71             -     -                   Drama              kannada  \n",
      "82           8.3    19                   Drama              kannada  \n",
      "...          ...   ...                                 ...      ...  \n",
      "50492          -     -                   Drama              kannada  \n",
      "50515        7.5    10  Drama, Family, History              kannada  \n",
      "50527          -     -                                   -  kannada  \n",
      "50537        8.6     5                                   -  kannada  \n",
      "50601          -     -                   Drama              kannada  \n",
      "\n",
      "[3233 rows x 8 columns])\n",
      "('kashmiri',                ID                      Movie Name     Year Timing(min)  \\\n",
      "1208    tt2321365                          Jaagor     2009     125 min   \n",
      "3761    tt1499679                Paltadacho munis     2009      96 min   \n",
      "4815    tt0236210  Dev Anand in Goa (Alias Farar)     1955           -   \n",
      "4976    tt5335262               Home Sweet Home 2     2015     127 min   \n",
      "8730   tt14496386                      Zanvoy No1     2018           -   \n",
      "10068  tt13396950                       Bade Abbu     2019     121 min   \n",
      "11092  tt10467800                         Aleesha     2004           -   \n",
      "11889  tt14111104                         Kantaar     2019     117 min   \n",
      "13027   tt3527068                     A Rainy Day     2014      89 min   \n",
      "13141   tt6384274                          Martin   I 2017      89 min   \n",
      "14072   tt3142688                   Finding Fanny     2014     102 min   \n",
      "16163   tt5214108                            Juje     2017      94 min   \n",
      "16607  tt10467754               Planning Devachem     2018           -   \n",
      "16698   tt1946132                    Amchem Noxib     1963           -   \n",
      "20891   tt9001902             Questao De Confusao     2018     154 min   \n",
      "21894  tt12003716                         O Maria   I 2010     110 min   \n",
      "22086   tt5040904                          Enemy?     2015      94 min   \n",
      "24314  tt13944702                         Amizade     2018           -   \n",
      "28369   tt1945181                  Sukhache Sopon     1966           -   \n",
      "29231   tt2198644                      The Victim     2012           -   \n",
      "29492   tt3626076                          Rodina   I 2015     110 min   \n",
      "29930   tt1736628                         Nirmonn     1966           -   \n",
      "30317   tt5177914              Nirmon the Destiny     2015           -   \n",
      "31517   tt6203780                          Mortoo     2015     107 min   \n",
      "32320   tt1946327                 Mhoji Ghorkan'n     1969           -   \n",
      "33944  tt10448854                      Mopa diary     2019           -   \n",
      "35227   tt8170282               Hanv Tum Tum Hanv     2016     108 min   \n",
      "35847  tt10477814                           Padri     2005           -   \n",
      "36637   tt5906418                Welcome M1LL10NS     2018     117 min   \n",
      "37698   tt1941604                  Mogacho Anvddo     1950           -   \n",
      "38820   tt4293668                 Home Sweet Home   V 2014           -   \n",
      "38877   tt8458418                         O La La     2018     125 min   \n",
      "39784  tt10534786         Glory - Go for the Goal     2019     114 min   \n",
      "41858   tt5835898                Memories of Fear     1995      57 min   \n",
      "42325   tt4742102              Nachom-ia Kumpasar     2015     156 min   \n",
      "42815   tt5908414                         Gunaaji     2014     125 min   \n",
      "43374   tt2473432                      Baga Beach     2013     103 min   \n",
      "43739   tt0334781                Zau Zau Teg Bhau     1985           -   \n",
      "44167  tt11786308                       Ironheart     2020      80 min   \n",
      "45620  tt12008720                         O Maria  II 2010     110 min   \n",
      "47416   tt0064915                 Saat Hindustani     1969     144 min   \n",
      "49390   tt1946287             Kortubancho Sonvsar     1970           -   \n",
      "49510  tt12374520              Nirmillem nirmonem     2019           -   \n",
      "\n",
      "      Rating(10)  Votes                                 Genre  Language  \n",
      "1208           -      -                     Drama              kashmiri  \n",
      "3761         7.4     48                     Drama              kashmiri  \n",
      "4815         5.8     16    Action, Drama, Romance              kashmiri  \n",
      "4976           -      -                     Drama              kashmiri  \n",
      "8730           -      -                     Drama              kashmiri  \n",
      "10068          -      -                     Drama              kashmiri  \n",
      "11092          -      -                     Drama              kashmiri  \n",
      "11889          -      -                     Drama              kashmiri  \n",
      "13027        5.0     10    Drama, Family, Mystery              kashmiri  \n",
      "13141        7.6     13                  Thriller              kashmiri  \n",
      "14072        5.7  6,177  Adventure, Comedy, Drama              kashmiri  \n",
      "16163        7.2     53                     Drama              kashmiri  \n",
      "16607          -      -                    Action              kashmiri  \n",
      "16698          -      -                     Drama              kashmiri  \n",
      "20891          -      -                    Comedy              kashmiri  \n",
      "21894          -      -                    Family              kashmiri  \n",
      "22086        8.1     19                     Drama              kashmiri  \n",
      "24314          -      -                    Action              kashmiri  \n",
      "28369          -      -                   Romance              kashmiri  \n",
      "29231        7.9     12                     Drama              kashmiri  \n",
      "29492        5.5    356                     Drama              kashmiri  \n",
      "29930          -      -                     Drama              kashmiri  \n",
      "30317        6.8      8                     Drama              kashmiri  \n",
      "31517          -      -                    Comedy              kashmiri  \n",
      "32320          -      -                    Comedy              kashmiri  \n",
      "33944          -      -                  Thriller              kashmiri  \n",
      "35227          -      -                     Drama              kashmiri  \n",
      "35847          -      -                     Drama              kashmiri  \n",
      "36637        6.0     11  Crime, Mystery, Thriller              kashmiri  \n",
      "37698          -      -                   Romance              kashmiri  \n",
      "38820        7.7     17                    Comedy              kashmiri  \n",
      "38877          -      -                    Comedy              kashmiri  \n",
      "39784          -      -              Drama, Sport              kashmiri  \n",
      "41858          -      -                     Drama              kashmiri  \n",
      "42325        8.4     90   Drama, Musical, Romance              kashmiri  \n",
      "42815          -      -                     Drama              kashmiri  \n",
      "43374        5.9     14                     Drama              kashmiri  \n",
      "43739          -      -                                     -  kashmiri  \n",
      "44167          -      -           Mystery, Sci-Fi              kashmiri  \n",
      "45620          -      -                    Family              kashmiri  \n",
      "47416        6.5    198  Action, Adventure, Drama              kashmiri  \n",
      "49390          -      -                   Romance              kashmiri  \n",
      "49510          -      -                     Drama              kashmiri  )\n",
      "('konkani',                ID                      Movie Name     Year Timing(min)  \\\n",
      "2184    tt5335262               Home Sweet Home 2     2015     127 min   \n",
      "3118    tt5040904                          Enemy?     2015      94 min   \n",
      "6906    tt1945181                  Sukhache Sopon     1966           -   \n",
      "7061    tt5908414                         Gunaaji     2014     125 min   \n",
      "11864  tt10477814                           Padri     2005           -   \n",
      "12812   tt5214108                            Juje     2017      94 min   \n",
      "13413   tt0236210  Dev Anand in Goa (Alias Farar)     1955           -   \n",
      "14979   tt6384274                          Martin   I 2017      89 min   \n",
      "15645   tt4742102              Nachom-ia Kumpasar     2015     156 min   \n",
      "18485   tt0064915                 Saat Hindustani     1969     144 min   \n",
      "19800   tt9001902             Questao De Confusao     2018     154 min   \n",
      "20196   tt1946132                    Amchem Noxib     1963           -   \n",
      "20373   tt6203780                          Mortoo     2015     107 min   \n",
      "23595  tt11786308                       Ironheart     2020      80 min   \n",
      "24081   tt1499679                Paltadacho munis     2009      96 min   \n",
      "25398  tt12003716                         O Maria   I 2010     110 min   \n",
      "26202  tt12374520              Nirmillem nirmonem     2019           -   \n",
      "28638   tt5835898                Memories of Fear     1995      57 min   \n",
      "28925   tt5177914              Nirmon the Destiny     2015           -   \n",
      "31012   tt3142688                   Finding Fanny     2014     102 min   \n",
      "31429   tt1941604                  Mogacho Anvddo     1950           -   \n",
      "32739   tt3626076                          Rodina   I 2015     110 min   \n",
      "33401  tt13396950                       Bade Abbu     2019     121 min   \n",
      "34083   tt2198644                      The Victim     2012           -   \n",
      "35839   tt8170282               Hanv Tum Tum Hanv     2016     108 min   \n",
      "36153  tt10467800                         Aleesha     2004           -   \n",
      "37286  tt10534786         Glory - Go for the Goal     2019     114 min   \n",
      "38723   tt5906418                Welcome M1LL10NS     2018     117 min   \n",
      "39251   tt4293668                 Home Sweet Home   V 2014           -   \n",
      "39917   tt2321365                          Jaagor     2009     125 min   \n",
      "39976   tt1736628                         Nirmonn     1966           -   \n",
      "40119   tt8458418                         O La La     2018     125 min   \n",
      "40639   tt0334781                Zau Zau Teg Bhau     1985           -   \n",
      "40852  tt14496386                      Zanvoy No1     2018           -   \n",
      "41560   tt1946327                 Mhoji Ghorkan'n     1969           -   \n",
      "41842  tt10448854                      Mopa diary     2019           -   \n",
      "42975  tt13944702                         Amizade     2018           -   \n",
      "43577   tt1946287             Kortubancho Sonvsar     1970           -   \n",
      "44299   tt3527068                     A Rainy Day     2014      89 min   \n",
      "45611  tt10467754               Planning Devachem     2018           -   \n",
      "45894  tt14111104                         Kantaar     2019     117 min   \n",
      "46389  tt12008720                         O Maria  II 2010     110 min   \n",
      "49296   tt2473432                      Baga Beach     2013     103 min   \n",
      "\n",
      "      Rating(10)  Votes                                 Genre Language  \n",
      "2184           -      -                     Drama              konkani  \n",
      "3118         8.1     19                     Drama              konkani  \n",
      "6906           -      -                   Romance              konkani  \n",
      "7061           -      -                     Drama              konkani  \n",
      "11864          -      -                     Drama              konkani  \n",
      "12812        7.2     53                     Drama              konkani  \n",
      "13413        5.8     16    Action, Drama, Romance              konkani  \n",
      "14979        7.6     13                  Thriller              konkani  \n",
      "15645        8.4     90   Drama, Musical, Romance              konkani  \n",
      "18485        6.5    198  Action, Adventure, Drama              konkani  \n",
      "19800          -      -                    Comedy              konkani  \n",
      "20196          -      -                     Drama              konkani  \n",
      "20373          -      -                    Comedy              konkani  \n",
      "23595          -      -           Mystery, Sci-Fi              konkani  \n",
      "24081        7.4     48                     Drama              konkani  \n",
      "25398          -      -                    Family              konkani  \n",
      "26202          -      -                     Drama              konkani  \n",
      "28638          -      -                     Drama              konkani  \n",
      "28925        6.8      8                     Drama              konkani  \n",
      "31012        5.7  6,177  Adventure, Comedy, Drama              konkani  \n",
      "31429          -      -                   Romance              konkani  \n",
      "32739        5.5    356                     Drama              konkani  \n",
      "33401          -      -                     Drama              konkani  \n",
      "34083        7.9     12                     Drama              konkani  \n",
      "35839          -      -                     Drama              konkani  \n",
      "36153          -      -                     Drama              konkani  \n",
      "37286          -      -              Drama, Sport              konkani  \n",
      "38723        6.0     11  Crime, Mystery, Thriller              konkani  \n",
      "39251        7.7     17                    Comedy              konkani  \n",
      "39917          -      -                     Drama              konkani  \n",
      "39976          -      -                     Drama              konkani  \n",
      "40119          -      -                    Comedy              konkani  \n",
      "40639          -      -                                     -  konkani  \n",
      "40852          -      -                     Drama              konkani  \n",
      "41560          -      -                    Comedy              konkani  \n",
      "41842          -      -                  Thriller              konkani  \n",
      "42975          -      -                    Action              konkani  \n",
      "43577          -      -                   Romance              konkani  \n",
      "44299        5.0     10    Drama, Family, Mystery              konkani  \n",
      "45611          -      -                    Action              konkani  \n",
      "45894          -      -                     Drama              konkani  \n",
      "46389          -      -                    Family              konkani  \n",
      "49296        5.9     14                     Drama              konkani  )\n",
      "('malayalam',                ID            Movie Name  Year Timing(min) Rating(10)  Votes  \\\n",
      "20      tt6517874   Ramante Edenthottam  2017     122 min        6.0    459   \n",
      "48     tt10515954               Olessia  2019     120 min        8.1     40   \n",
      "67      tt6120732            Olappeeppi  2016     121 min        7.6    120   \n",
      "85     tt13088566       The Rubiks game  2014      30 min          -      -   \n",
      "90      tt0352979  Vida Parayaanmathram  1988           -          -      -   \n",
      "...           ...                   ...   ...         ...        ...    ...   \n",
      "50572  tt11531530    Varane Avashyamund  2020     145 min        6.9  2,011   \n",
      "50575   tt0269674       Oru Nokku Kanan  1985           -        6.3     19   \n",
      "50576   tt0353705      Mangala Soothram  1995     104 min          -      -   \n",
      "50578  tt14434312         Moonnaam Naal  2015           -          -      -   \n",
      "50584  tt14209540                    IV  2020      24 min        9.7      7   \n",
      "\n",
      "                                    Genre   Language  \n",
      "20     Comedy, Drama, Romance              malayalam  \n",
      "48             Drama, Musical              malayalam  \n",
      "67                      Drama              malayalam  \n",
      "85            Short, Thriller              malayalam  \n",
      "90                                      -  malayalam  \n",
      "...                                   ...        ...  \n",
      "50572  Comedy, Drama, Romance              malayalam  \n",
      "50575  Comedy, Drama, Romance              malayalam  \n",
      "50576                                   -  malayalam  \n",
      "50578                   Drama              malayalam  \n",
      "50584   Short, Drama, Mystery              malayalam  \n",
      "\n",
      "[6200 rows x 8 columns])\n",
      "('marathi',                ID         Movie Name     Year Timing(min) Rating(10) Votes  \\\n",
      "19      tt2302945            Tukaram     2012     156 min        7.3   231   \n",
      "89      tt0248294     Patthe Bapurao     1950     143 min          -     -   \n",
      "93     tt14045622            Preetam     2021           -        9.0    15   \n",
      "116     tt3982578             Hututu     2014     138 min        5.0     5   \n",
      "130     tt6577668     Weather Report     2017      91 min          -     -   \n",
      "...           ...                ...      ...         ...        ...   ...   \n",
      "50428   tt2811910  Oti Krishnamaichi     2004           -          -     -   \n",
      "50482  tt14071172        Vidhilikhit     1989           -          -     -   \n",
      "50488   tt5496754    Nilkanth Master     2015     120 min        6.0    27   \n",
      "50547  tt12715184    Ashi Asavi Sasu     1996           -          -     -   \n",
      "50569   tt0273632      Gopal Krishna  II 1938     132 min          -     -   \n",
      "\n",
      "                                       Genre Language  \n",
      "19     Biography, Drama, History              marathi  \n",
      "89                                         -  marathi  \n",
      "93                       Romance              marathi  \n",
      "116                       Comedy              marathi  \n",
      "130                        Drama              marathi  \n",
      "...                                      ...      ...  \n",
      "50428                      Drama              marathi  \n",
      "50482                      Drama              marathi  \n",
      "50488                      Drama              marathi  \n",
      "50547                     Family              marathi  \n",
      "50569                                      -  marathi  \n",
      "\n",
      "[2300 rows x 8 columns])\n",
      "('nepali',               ID                                       Movie Name  \\\n",
      "11     tt8272296                                A Mayalu Timi Lai   \n",
      "17     tt7836398  Kamal Khatri Feat. Simpal Kharel: Jaula Relaima   \n",
      "69     tt8243058                                       Timi Sanga   \n",
      "114    tt4912546                          Denied: A Life Confined   \n",
      "123            -                                      Death Match   \n",
      "...          ...                                              ...   \n",
      "50281  tt4940742                                  Madam Secretary   \n",
      "50285          -                                            Kapti   \n",
      "50286  tt3518200                                  Seeds of Change   \n",
      "50533  tt2233588                                     Sahasi Chori   \n",
      "50556          -                                           Bokshi   \n",
      "\n",
      "                Year Timing(min) Rating(10) Votes  \\\n",
      "11        2018 Video           -          -     -   \n",
      "17        2017 Video       5 min          -     -   \n",
      "69              2018           -        6.1    11   \n",
      "114    2013 TV Movie      22 min          -     -   \n",
      "123               II           -          -     -   \n",
      "...              ...         ...        ...   ...   \n",
      "50281      2014–2019      43 min        7.6   278   \n",
      "50285           2021           -          -     -   \n",
      "50286           2014      12 min          -     -   \n",
      "50533           2013      20 min        6.3    13   \n",
      "50556            NaN           -          -     -   \n",
      "\n",
      "                                           Genre Language  \n",
      "11                      Short, Music               nepali  \n",
      "17                      Short, Music               nepali  \n",
      "69                           Romance               nepali  \n",
      "114                      Documentary               nepali  \n",
      "123      Action, Adventure, Thriller               nepali  \n",
      "...                                          ...      ...  \n",
      "50281                          Drama               nepali  \n",
      "50285                          Drama               nepali  \n",
      "50286  Documentary, Short, Adventure               nepali  \n",
      "50533         Short, Drama, Thriller               nepali  \n",
      "50556                Horror, Fantasy               nepali  \n",
      "\n",
      "[1000 rows x 8 columns])\n",
      "('oriya',               ID                                         Movie Name  \\\n",
      "65     tt0266712                                        Laila Majnu   \n",
      "106    tt5771640                                              Noces   \n",
      "115    tt1237894                                            Jhoomar   \n",
      "167    tt4003012                                 The Journey Within   \n",
      "398    tt2018070  Gullu Dada Returns: No Compromise.. Only Fight...   \n",
      "...          ...                                                ...   \n",
      "50353  tt5615406                                   Chalay Thay Sath   \n",
      "50366  tt0318852                                        Zehr E Ishq   \n",
      "50440  tt6908964                                  Do Qadam Dur Thay   \n",
      "50498  tt4024858                                               8969   \n",
      "50518  tt4762942                                              Aahat   \n",
      "\n",
      "             Year Timing(min) Rating(10)  Votes  \\\n",
      "65        II 1976     140 min        7.2    259   \n",
      "106          2016      98 min        7.1  1,360   \n",
      "115          2007           -        6.9      7   \n",
      "167          2015      78 min        7.0     35   \n",
      "398    2010 Video           -        7.5     50   \n",
      "...           ...         ...        ...    ...   \n",
      "50353        2017     120 min        6.7    344   \n",
      "50366        1958           -        9.3      7   \n",
      "50440        2014           -        8.1     25   \n",
      "50498        2016     147 min        6.8     49   \n",
      "50518   1991–1992           -        8.1     18   \n",
      "\n",
      "                                      Genre Language  \n",
      "65      Drama, Musical, Romance                oriya  \n",
      "106                       Drama                oriya  \n",
      "115                                       -    oriya  \n",
      "167          Documentary, Music                oriya  \n",
      "398        Comedy, Crime, Drama                oriya  \n",
      "...                                     ...      ...  \n",
      "50353           Comedy, Romance                oriya  \n",
      "50366                                     -    oriya  \n",
      "50440    Drama, Family, Romance                oriya  \n",
      "50498  Crime, Mystery, Thriller                oriya  \n",
      "50518                     Drama                oriya  \n",
      "\n",
      "[850 rows x 8 columns])\n",
      "('punjabi',                ID                         Movie Name  Year Timing(min)  \\\n",
      "190     tt2334779  Qissa: The Tale of a Lonely Ghost  2013     109 min   \n",
      "235    tt11543304                      Haidar Sultan  1982           -   \n",
      "263     tt0454491                          Kachehari  1994           -   \n",
      "278     tt4952766                             Nooran  1957           -   \n",
      "295     tt1757789                  Lalkare Sheran De  1994     117 min   \n",
      "...           ...                                ...   ...         ...   \n",
      "50499   tt0454494         Khalsa Mero Roop Hai Khaas  2000           -   \n",
      "50534  tt14223120                              Dunya  2016           -   \n",
      "50536   tt0250623                         Number One  1990           -   \n",
      "50579  tt14358074                            Jee Dar  1980           -   \n",
      "50588   tt1669094                            Chalbaz  1968           -   \n",
      "\n",
      "      Rating(10) Votes                               Genre Language  \n",
      "190          6.7   896  Drama, Fantasy, Horror              punjabi  \n",
      "235            -     -           Action, Drama              punjabi  \n",
      "263          6.4    14                  Action              punjabi  \n",
      "278            -     -                 Romance              punjabi  \n",
      "295            -     -                  Action              punjabi  \n",
      "...          ...   ...                                 ...      ...  \n",
      "50499        7.2    11                   Drama              punjabi  \n",
      "50534          -     -                                   -  punjabi  \n",
      "50536          -     -                                   -  punjabi  \n",
      "50579          -     -                                   -  punjabi  \n",
      "50588          -     -                                   -  punjabi  \n",
      "\n",
      "[1800 rows x 8 columns])\n",
      "('rajastani',                ID          Movie Name  Year Timing(min) Rating(10)    Votes  \\\n",
      "1131   tt12819590               Aulad  2014           -          -        -   \n",
      "1402    tt4088588             Rainbow  2015     106 min        7.9    3,623   \n",
      "2343    tt1190894         Road, Movie  2009      95 min        6.8    1,652   \n",
      "3086    tt1601916  The Lost Detective  1920           -          -        -   \n",
      "3439    tt0107376         Latcho Drom  1993     103 min        8.2    1,902   \n",
      "...           ...                 ...   ...         ...        ...      ...   \n",
      "47744   tt1836987             Trishna  2011     117 min        6.0    3,008   \n",
      "47953   tt1781838   Isi Life Mein...!  2010     139 min        5.5      381   \n",
      "47976  tt13831084         Banjh Bakri  2021           -        9.6       22   \n",
      "48147   tt3040964     The Jungle Book  2016     106 min        7.4  261,319   \n",
      "48965   tt4744132       Hotath Bristi  1998     182 min        8.0      806   \n",
      "\n",
      "                                      Genre   Language  \n",
      "1131                      Drama              rajastani  \n",
      "1402              Comedy, Drama              rajastani  \n",
      "2343   Adventure, Comedy, Crime              rajastani  \n",
      "3086              Short, Comedy              rajastani  \n",
      "3439         Documentary, Music              rajastani  \n",
      "...                                     ...        ...  \n",
      "47744                     Drama              rajastani  \n",
      "47953    Comedy, Drama, Romance              rajastani  \n",
      "47976             Short, Comedy              rajastani  \n",
      "48147  Adventure, Drama, Family              rajastani  \n",
      "48965            Drama, Romance              rajastani  \n",
      "\n",
      "[100 rows x 8 columns])\n",
      "('sanskrit',                ID                                 Movie Name     Year  \\\n",
      "12      tt5684550                          Da Tang Xuan Zang     2016   \n",
      "2386   tt12774732                                       Namo  II 2020   \n",
      "3019    tt1758795                             The To Do List     2013   \n",
      "4497    tt0046155                                       Papi     1953   \n",
      "4527    tt0467628                                      Narok     2005   \n",
      "5057    tt6031078                                Karnabharam     2013   \n",
      "5540    tt0787524                  The Man Who Knew Infinity     2015   \n",
      "5946    tt2094869                      Krishna Bhakt Sudaama     1968   \n",
      "8755    tt0481797                        Youth Without Youth     2007   \n",
      "10322   tt9212808                             Aham Brahmasmi     2019   \n",
      "10880   tt8389906                            Hinsa Par Vijay     2015   \n",
      "11493   tt0120915  Star Wars: Episode I - The Phantom Menace     1999   \n",
      "11540   tt0157125                                   Tulsidas     1954   \n",
      "11972   tt0139065                                Bheegi Raat     1965   \n",
      "12214   tt2112252                             Sati Sulochana     1969   \n",
      "12417   tt0085138                         Adi Shankaracharya     1983   \n",
      "13043   tt0145851                                    Jagriti     1955   \n",
      "13240   tt2088777                            Gopal - Krishna     1965   \n",
      "14094   tt2282628                           Leap 4 Your Life     2013   \n",
      "20692   tt3702652                 The Other Side of the Door     2016   \n",
      "22120  tt10827678                                       Maal     2019   \n",
      "22390   tt7412504                                  Anurakthi     2017   \n",
      "22436   tt0106407             Bhagvad Gita: Song of the Lord     1993   \n",
      "23574   tt0480255                                 The Losers   I 2010   \n",
      "23784  tt14227856                             Madhurasmitham     2020   \n",
      "24999           -             Meghdoot (The Cloud Messenger)      NaN   \n",
      "25278   tt1584917                                  Bolo Raam     2009   \n",
      "25742   tt1471247                             Road to Sangam     2009   \n",
      "26756   tt0053791                        Ek Phool Char Kante     1960   \n",
      "33573   tt0094979                              The Deceivers     1988   \n",
      "34298   tt0395495                          Catch and Release  II 2006   \n",
      "35337   tt0240200                                      Water   I 2005   \n",
      "35817   tt1980970                           Gandhi to Hitler     2011   \n",
      "36445   tt2094009                           Goswami Tulsidas     1964   \n",
      "36574  tt14214652                                      Ishti     2016   \n",
      "38082   tt2138154                            Margazhi Raagam     2008   \n",
      "39602  tt10834006                          A Truthful Mother     2019   \n",
      "40926   tt6144630                           Malavikagnimitam     2014   \n",
      "41177           -   Agocharaarnava: Bhootavartamana Udantha:     2022   \n",
      "42371   tt0092924                              Drachenfutter     1987   \n",
      "43083           -                                   Nabhamsi     2023   \n",
      "46064   tt0372349                   Jahan Sati Wahan Bhagwan     1965   \n",
      "46595   tt0859163      The Mummy: Tomb of the Dragon Emperor     2008   \n",
      "46855   tt6690310                      Extraordinary Mission     2017   \n",
      "48076   tt6005680                           Madhyamavyayogam     2013   \n",
      "49285   tt7921216                               Priyamanasam     2015   \n",
      "49649   tt0156995                 Samarat Prithviraj Chauvan     1959   \n",
      "50129           -                            Madhubhashitham     2023   \n",
      "\n",
      "      Timing(min) Rating(10)    Votes  \\\n",
      "12         90 min        6.2      379   \n",
      "2386            -          -        -   \n",
      "3019      104 min        5.8   37,325   \n",
      "4497      111 min        7.6       52   \n",
      "4527            -        4.1      365   \n",
      "5057      103 min          -        -   \n",
      "5540      108 min        7.2   52,399   \n",
      "5946       92 min          -        -   \n",
      "8755      124 min        6.2   13,022   \n",
      "10322     105 min        8.5        6   \n",
      "10880           -        6.6        8   \n",
      "11493     136 min        6.5  740,452   \n",
      "11540           -        6.6       14   \n",
      "11972     157 min        6.2       40   \n",
      "12214           -          -        -   \n",
      "12417     130 min        7.2      236   \n",
      "13043     138 min        6.9      128   \n",
      "13240           -          -        -   \n",
      "14094      80 min        6.9       43   \n",
      "20692      96 min        5.3   17,261   \n",
      "22120      53 min          -        -   \n",
      "22390      83 min          -        -   \n",
      "22436     140 min        8.0       39   \n",
      "23574      97 min        6.3   92,640   \n",
      "23784           -          -        -   \n",
      "24999           -          -        -   \n",
      "25278     103 min        5.1       84   \n",
      "25742     135 min        7.4      752   \n",
      "26756     136 min        6.8       45   \n",
      "33573     102 min        6.2      933   \n",
      "34298     124 min        6.0   24,385   \n",
      "35337     117 min        7.7   14,406   \n",
      "35817     108 min        2.5      205   \n",
      "36445           -          -        -   \n",
      "36574     108 min          -        -   \n",
      "38082           -        9.7        6   \n",
      "39602      85 min        8.2       64   \n",
      "40926      90 min          -        -   \n",
      "41177     145 min          -        -   \n",
      "42371      75 min        7.1       76   \n",
      "43083           -          -        -   \n",
      "46064           -          -        -   \n",
      "46595     112 min        5.2  152,301   \n",
      "46855     117 min        6.2      710   \n",
      "48076      90 min          -        -   \n",
      "49285           -          -        -   \n",
      "49649     145 min        6.7        9   \n",
      "50129           -          -        -   \n",
      "\n",
      "                                          Genre  Language  \n",
      "12               Biography, History              sanskrit  \n",
      "2386                          Drama              sanskrit  \n",
      "3019                Comedy, Romance              sanskrit  \n",
      "4497                   Crime, Drama              sanskrit  \n",
      "4527     Adventure, Fantasy, Horror              sanskrit  \n",
      "5057                          Drama              sanskrit  \n",
      "5540               Biography, Drama              sanskrit  \n",
      "5946         Comedy, Drama, Fantasy              sanskrit  \n",
      "8755        Drama, Fantasy, Mystery              sanskrit  \n",
      "10322                        Action              sanskrit  \n",
      "10880                        Family              sanskrit  \n",
      "11493    Action, Adventure, Fantasy              sanskrit  \n",
      "11540       Drama, History, Romance              sanskrit  \n",
      "11972        Comedy, Drama, Romance              sanskrit  \n",
      "12214    Action, Adventure, Fantasy              sanskrit  \n",
      "12417              Biography, Drama              sanskrit  \n",
      "13043         Comedy, Drama, Family              sanskrit  \n",
      "13240      Adventure, Comedy, Drama              sanskrit  \n",
      "14094                        Comedy              sanskrit  \n",
      "20692                        Horror              sanskrit  \n",
      "22120       Action, Drama, Thriller              sanskrit  \n",
      "22390                         Drama              sanskrit  \n",
      "22436                         Drama              sanskrit  \n",
      "23574      Action, Adventure, Crime              sanskrit  \n",
      "23784                         Drama              sanskrit  \n",
      "24999       Drama, Fantasy, Romance              sanskrit  \n",
      "25278          Action, Crime, Drama              sanskrit  \n",
      "25742               Drama, Thriller              sanskrit  \n",
      "26756        Comedy, Drama, Romance              sanskrit  \n",
      "33573       Adventure, Crime, Drama              sanskrit  \n",
      "34298        Comedy, Drama, Romance              sanskrit  \n",
      "35337                         Drama              sanskrit  \n",
      "35817           Drama, History, War              sanskrit  \n",
      "36445     Adventure, Drama, Fantasy              sanskrit  \n",
      "36574                         Drama              sanskrit  \n",
      "38082                         Music              sanskrit  \n",
      "39602                     Animation              sanskrit  \n",
      "40926                         Drama              sanskrit  \n",
      "41177                         Drama              sanskrit  \n",
      "42371                         Drama              sanskrit  \n",
      "43083               Romance, Sci-Fi              sanskrit  \n",
      "46064     Adventure, Drama, History              sanskrit  \n",
      "46595    Action, Adventure, Fantasy              sanskrit  \n",
      "46855                 Action, Crime              sanskrit  \n",
      "48076                         Drama              sanskrit  \n",
      "49285              Biography, Drama              sanskrit  \n",
      "49649  Adventure, History, Thriller              sanskrit  \n",
      "50129                         Drama              sanskrit  )\n",
      "('tamil',                ID               Movie Name  Year Timing(min) Rating(10) Votes  \\\n",
      "15      tt0318983  Amman Koil Kizhakkaalae  1986     141 min        6.9    63   \n",
      "23      tt0318296             Anbu Chinnam  1990           -          -     -   \n",
      "57      tt2373666                 Pagaivan  1997     142 min        5.2    82   \n",
      "66      tt3209556             Vidiyum Munn  2013     129 min        7.4   434   \n",
      "79     tt13057434       Naanaage Naanillai  2016           -          -     -   \n",
      "...           ...                      ...   ...         ...        ...   ...   \n",
      "50525   tt0320703                   Uruvam  1991      90 min        6.5    64   \n",
      "50529   tt6539232                   Thiagu  1990     124 min          -     -   \n",
      "50550   tt8011302       Thimiru Pudichavan  2018     156 min        5.4   401   \n",
      "50555   tt1166809             Evano Oruvan  2007     115 min        7.1   352   \n",
      "50591   tt0248201             Mudhal Thedi  1955     145 min        6.8    12   \n",
      "\n",
      "                             Genre Language  \n",
      "15               Drama                tamil  \n",
      "23                               -    tamil  \n",
      "57      Action, Comedy                tamil  \n",
      "66            Thriller                tamil  \n",
      "79               Drama                tamil  \n",
      "...                            ...      ...  \n",
      "50525           Horror                tamil  \n",
      "50529            Drama                tamil  \n",
      "50550    Action, Drama                tamil  \n",
      "50555  Drama, Thriller                tamil  \n",
      "50591                            -    tamil  \n",
      "\n",
      "[6000 rows x 8 columns])\n",
      "('telugu',                ID            Movie Name  Year Timing(min) Rating(10)   Votes  \\\n",
      "10      tt0364733     Veedevadandi Babu  1997     138 min        5.6     218   \n",
      "25     tt12701012       Ramudu Bheemudu  1988     141 min          -       -   \n",
      "26      tt3466016          Vaade Kavali  2009           -          -       -   \n",
      "33      tt1575647      Nuvvu Vasthavani  2000     158 min        6.6     160   \n",
      "40      tt1582519               Khaleja  2010     170 min        7.6   8,284   \n",
      "...           ...                   ...   ...         ...        ...     ...   \n",
      "50586   tt9277948               Akshara  2021     136 min        6.5      90   \n",
      "50590   tt0390208  Manchi Rojulu Vastai  1972           -          -       -   \n",
      "50592   tt6836936                 Saaho  2019     170 min        5.2  16,102   \n",
      "50599   tt0270221            Balayogini  1936     120 min          -       -   \n",
      "50600   tt0388697               Alajadi  1990     133 min          -       -   \n",
      "\n",
      "                                     Genre Language  \n",
      "10                      Comedy               telugu  \n",
      "25                       Drama               telugu  \n",
      "26                     Romance               telugu  \n",
      "33             Family, Romance               telugu  \n",
      "40     Action, Comedy, Fantasy               telugu  \n",
      "...                                    ...      ...  \n",
      "50586                 Thriller               telugu  \n",
      "50590                                    -   telugu  \n",
      "50592         Action, Thriller               telugu  \n",
      "50599                                    -   telugu  \n",
      "50600                    Drama               telugu  \n",
      "\n",
      "[5300 rows x 8 columns])\n",
      "('tulu',                ID                  Movie Name     Year Timing(min) Rating(10)  \\\n",
      "3700   tt11053238                      Girgit     2018     155 min        8.6   \n",
      "6230    tt4699218  Oriyan Thoonda Oriyagapuji     2015           -          -   \n",
      "6908   tt12505578                  Kori rotti     2018           -          -   \n",
      "9107    tt4062796    Aamait Asal Eemait Kusal     2012     106 min        6.0   \n",
      "9828    tt0758438                      Suddha     2005     105 min        7.8   \n",
      "11944   tt1442481       #73, Shaanthi Nivaasa     2007     157 min        7.1   \n",
      "12295   tt3294500             Rickshaw Driver     2013     159 min          -   \n",
      "15587   tt1948150                     Singham     2011     143 min        6.8   \n",
      "16643  tt10569454                   Ice Cream  IV 2015           -          -   \n",
      "20387   tt2997780                   Edegarike     2012     105 min        7.4   \n",
      "21243   tt7411266                  Are Marler     2017     139 min        7.0   \n",
      "21499  tt11652014                      2 Ekre     2020     125 min          -   \n",
      "24837  tt11703454              Kudhkana Madme     2020     148 min          -   \n",
      "27630   tt6932110                        Yesa     2017     154 min        8.3   \n",
      "28175  tt11443174              Aatidonji Dina     2019     135 min        6.5   \n",
      "29668   tt4511480               Chaali Polilu     2014           -        6.7   \n",
      "29852   tt8431140                Appe Teacher     2018     175 min        7.6   \n",
      "30497  tt11918106                     English     2020     141 min          -   \n",
      "30555   tt5545640             Guddeda Bhootha     2016           -          -   \n",
      "32075   tt5281318                  Kudla Cafe     2016     172 min        7.4   \n",
      "33605   tt3484862                        Rang   I 2014           -        6.4   \n",
      "34686           -                        Urlu      NaN      62 min          -   \n",
      "37601   tt3484828                   Ekka Saka     2015           -        7.6   \n",
      "38421   tt5850184                Shutterdulai     2016     133 min          -   \n",
      "39250   tt7838260                     Paddayi     2018     100 min        7.4   \n",
      "39518   tt1655607                      Singam     2010     160 min        6.8   \n",
      "40394  tt11841020                     Pingara     2019     108 min        8.8   \n",
      "41159   tt4995764               Super Marmaye     2015           -        6.8   \n",
      "41349  tt12747834                   Pattanaje     2017           -          -   \n",
      "41762   tt3164150                       Sompa     2012     130 min          -   \n",
      "41964  tt13696410                    Bhoomika     2020     120 min          -   \n",
      "42676   tt3164130             Oriyardori Asal     2011           -        6.6   \n",
      "43211   tt4973826                       Dhand     2015           -        7.8   \n",
      "44442   tt7892752                   Pettkammi     2018           -          -   \n",
      "46384  tt11064912                 Pathis Gang     2018     121 min          -   \n",
      "47182  tt14200412         Yaan Kanape Change!     2021      47 min          -   \n",
      "49757   tt3384254                       Nirel     2014           -        7.8   \n",
      "50127  tt12719734               Deyi Baidethi     2019           -          -   \n",
      "\n",
      "        Votes                                Genre Language  \n",
      "3700       60                   Comedy                 tulu  \n",
      "6230        -                   Comedy                 tulu  \n",
      "6908        -                   Comedy                 tulu  \n",
      "9107        5                   Comedy                 tulu  \n",
      "9828       12                    Drama                 tulu  \n",
      "11944     185   Drama, Family, Musical                 tulu  \n",
      "12295       -          Action, Romance                 tulu  \n",
      "15587  14,497     Action, Crime, Drama                 tulu  \n",
      "16643       -                   Horror                 tulu  \n",
      "20387     197             Crime, Drama                 tulu  \n",
      "21243       9                  Romance                 tulu  \n",
      "21499       -                   Comedy                 tulu  \n",
      "24837       -            Comedy, Drama                 tulu  \n",
      "27630      22                    Drama                 tulu  \n",
      "28175       6                   Comedy                 tulu  \n",
      "29668      18                                    -     tulu  \n",
      "29852      19                    Drama                 tulu  \n",
      "30497       -                    Drama                 tulu  \n",
      "30555       -                   Horror                 tulu  \n",
      "32075       9            Comedy, Drama                 tulu  \n",
      "33605      11                                    -     tulu  \n",
      "34686       -                    Crime                 tulu  \n",
      "37601      30                                    -     tulu  \n",
      "38421       -                 Thriller                 tulu  \n",
      "39250      34     Crime, Drama, Family                 tulu  \n",
      "39518   5,639  Action, Crime, Thriller                 tulu  \n",
      "40394       6                    Drama                 tulu  \n",
      "41159       5            Comedy, Drama                 tulu  \n",
      "41349       -                    Drama                 tulu  \n",
      "41762       -                   Comedy                 tulu  \n",
      "41964       -                    Drama                 tulu  \n",
      "42676       7                   Comedy                 tulu  \n",
      "43211      13           Action, Comedy                 tulu  \n",
      "44442       -                   Comedy                 tulu  \n",
      "46384       -            Comedy, Drama                 tulu  \n",
      "47182       -                    Drama                 tulu  \n",
      "49757      11                                    -     tulu  \n",
      "50127       -                  History                 tulu  )\n",
      "('urdu',                ID                  Movie Name           Year Timing(min)  \\\n",
      "1       tt1702558                  Nadir Khan           1968           -   \n",
      "3       tt0273405              Aag Aur Sholay           1987           -   \n",
      "7       tt0829459              A Mighty Heart           2007     108 min   \n",
      "14      tt1407272                 Pehla Qadam           1958           -   \n",
      "24     tt12717866                      Naveed           2020      57 min   \n",
      "...           ...                         ...            ...         ...   \n",
      "50510   tt5547882                       Waris         1979–       50 min   \n",
      "50528   tt4439624  Victim of an Honor Killing  2007 TV Movie      47 min   \n",
      "50545   tt7710274         Madinay Wala Jahaaz           2017      35 min   \n",
      "50582  tt14224118                     Zanjeer           1975           -   \n",
      "50589   tt8677940               Boota Befazul         2018–        4 min   \n",
      "\n",
      "      Rating(10)   Votes                                  Genre Language  \n",
      "1              -       -                                      -     urdu  \n",
      "3            2.2      20                                      -     urdu  \n",
      "7            6.6  26,885  Biography, Drama, History                 urdu  \n",
      "14             -       -                                      -     urdu  \n",
      "24             -       -                Documentary                 urdu  \n",
      "...          ...     ...                                    ...      ...  \n",
      "50510        9.0      97     Crime, Drama, Thriller                 urdu  \n",
      "50528          -       -                      Drama                 urdu  \n",
      "50545          -       -       Short, Drama, Family                 urdu  \n",
      "50582          -       -                                      -     urdu  \n",
      "50589          -       -   Animation, Short, Comedy                 urdu  \n",
      "\n",
      "[3447 rows x 8 columns])\n"
     ]
    }
   ],
   "source": [
    "for i in df_grp:\n",
    "    print(i)"
   ],
   "metadata": {
    "collapsed": false
   }
  },
  {
   "cell_type": "code",
   "execution_count": 154,
   "outputs": [
    {
     "data": {
      "text/plain": "               ID         Movie Name     Year Timing(min) Rating(10) Votes  \\\n19      tt2302945            Tukaram     2012     156 min        7.3   231   \n89      tt0248294     Patthe Bapurao     1950     143 min          -     -   \n93     tt14045622            Preetam     2021           -        9.0    15   \n116     tt3982578             Hututu     2014     138 min        5.0     5   \n130     tt6577668     Weather Report     2017      91 min          -     -   \n...           ...                ...      ...         ...        ...   ...   \n50428   tt2811910  Oti Krishnamaichi     2004           -          -     -   \n50482  tt14071172        Vidhilikhit     1989           -          -     -   \n50488   tt5496754    Nilkanth Master     2015     120 min        6.0    27   \n50547  tt12715184    Ashi Asavi Sasu     1996           -          -     -   \n50569   tt0273632      Gopal Krishna  II 1938     132 min          -     -   \n\n                                       Genre Language  \n19     Biography, Drama, History              marathi  \n89                                         -  marathi  \n93                       Romance              marathi  \n116                       Comedy              marathi  \n130                        Drama              marathi  \n...                                      ...      ...  \n50428                      Drama              marathi  \n50482                      Drama              marathi  \n50488                      Drama              marathi  \n50547                     Family              marathi  \n50569                                      -  marathi  \n\n[2300 rows x 8 columns]",
      "text/html": "<div>\n<style scoped>\n    .dataframe tbody tr th:only-of-type {\n        vertical-align: middle;\n    }\n\n    .dataframe tbody tr th {\n        vertical-align: top;\n    }\n\n    .dataframe thead th {\n        text-align: right;\n    }\n</style>\n<table border=\"1\" class=\"dataframe\">\n  <thead>\n    <tr style=\"text-align: right;\">\n      <th></th>\n      <th>ID</th>\n      <th>Movie Name</th>\n      <th>Year</th>\n      <th>Timing(min)</th>\n      <th>Rating(10)</th>\n      <th>Votes</th>\n      <th>Genre</th>\n      <th>Language</th>\n    </tr>\n  </thead>\n  <tbody>\n    <tr>\n      <th>19</th>\n      <td>tt2302945</td>\n      <td>Tukaram</td>\n      <td>2012</td>\n      <td>156 min</td>\n      <td>7.3</td>\n      <td>231</td>\n      <td>Biography, Drama, History</td>\n      <td>marathi</td>\n    </tr>\n    <tr>\n      <th>89</th>\n      <td>tt0248294</td>\n      <td>Patthe Bapurao</td>\n      <td>1950</td>\n      <td>143 min</td>\n      <td>-</td>\n      <td>-</td>\n      <td>-</td>\n      <td>marathi</td>\n    </tr>\n    <tr>\n      <th>93</th>\n      <td>tt14045622</td>\n      <td>Preetam</td>\n      <td>2021</td>\n      <td>-</td>\n      <td>9.0</td>\n      <td>15</td>\n      <td>Romance</td>\n      <td>marathi</td>\n    </tr>\n    <tr>\n      <th>116</th>\n      <td>tt3982578</td>\n      <td>Hututu</td>\n      <td>2014</td>\n      <td>138 min</td>\n      <td>5.0</td>\n      <td>5</td>\n      <td>Comedy</td>\n      <td>marathi</td>\n    </tr>\n    <tr>\n      <th>130</th>\n      <td>tt6577668</td>\n      <td>Weather Report</td>\n      <td>2017</td>\n      <td>91 min</td>\n      <td>-</td>\n      <td>-</td>\n      <td>Drama</td>\n      <td>marathi</td>\n    </tr>\n    <tr>\n      <th>...</th>\n      <td>...</td>\n      <td>...</td>\n      <td>...</td>\n      <td>...</td>\n      <td>...</td>\n      <td>...</td>\n      <td>...</td>\n      <td>...</td>\n    </tr>\n    <tr>\n      <th>50428</th>\n      <td>tt2811910</td>\n      <td>Oti Krishnamaichi</td>\n      <td>2004</td>\n      <td>-</td>\n      <td>-</td>\n      <td>-</td>\n      <td>Drama</td>\n      <td>marathi</td>\n    </tr>\n    <tr>\n      <th>50482</th>\n      <td>tt14071172</td>\n      <td>Vidhilikhit</td>\n      <td>1989</td>\n      <td>-</td>\n      <td>-</td>\n      <td>-</td>\n      <td>Drama</td>\n      <td>marathi</td>\n    </tr>\n    <tr>\n      <th>50488</th>\n      <td>tt5496754</td>\n      <td>Nilkanth Master</td>\n      <td>2015</td>\n      <td>120 min</td>\n      <td>6.0</td>\n      <td>27</td>\n      <td>Drama</td>\n      <td>marathi</td>\n    </tr>\n    <tr>\n      <th>50547</th>\n      <td>tt12715184</td>\n      <td>Ashi Asavi Sasu</td>\n      <td>1996</td>\n      <td>-</td>\n      <td>-</td>\n      <td>-</td>\n      <td>Family</td>\n      <td>marathi</td>\n    </tr>\n    <tr>\n      <th>50569</th>\n      <td>tt0273632</td>\n      <td>Gopal Krishna</td>\n      <td>II 1938</td>\n      <td>132 min</td>\n      <td>-</td>\n      <td>-</td>\n      <td>-</td>\n      <td>marathi</td>\n    </tr>\n  </tbody>\n</table>\n<p>2300 rows × 8 columns</p>\n</div>"
     },
     "execution_count": 154,
     "metadata": {},
     "output_type": "execute_result"
    }
   ],
   "source": [
    "df_grp.get_group('marathi')"
   ],
   "metadata": {
    "collapsed": false
   }
  },
  {
   "cell_type": "code",
   "execution_count": 156,
   "outputs": [
    {
     "data": {
      "text/plain": "              ID                         Movie Name         \\\n           count unique         top freq      count unique   \nLanguage                                                     \nassamese     450    436           -   15        450    435   \nbengali     4200   4060           -  141       4200   3933   \nbhojpuri     500    455           -   46        500    500   \ngujarati     700    654           -   47        700    693   \nhindi      14350  13625           -  726      14350  12725   \nkannada     3233   3074           -  160       3233   3179   \nkashmiri      43     43   tt2321365    1         43     42   \nkonkani       43     43   tt5335262    1         43     42   \nmalayalam   6200   5849           -  352       6200   6032   \nmarathi     2300   2197           -  104       2300   2266   \nnepali      1000    943           -   58       1000    961   \noriya        850    850   tt0266712    1        850    739   \npunjabi     1800   1729           -   72       1800   1725   \nrajastani    100     97           -    4        100     99   \nsanskrit      48     45           -    4         48     48   \ntamil       6000   5572           -  429       6000   5839   \ntelugu      5300   5049           -  252       5300   5058   \ntulu          38     38  tt11053238    1         38     38   \nurdu        3447   3351           -   97       3447   2829   \n\n                                       Year         ... Rating(10)        \\\n                            top freq  count unique  ...        top  freq   \nLanguage                                            ...                    \nassamese                 Anjana    6    442     95  ...          -   360   \nbengali                     Maa    5   4114    174  ...          -  2155   \nbhojpuri   Hamra Se Biyah Karba    1    462     48  ...          -   419   \ngujarati         Jogidas Khuman    3    666     90  ...          -   495   \nhindi                    Anjaam    7  13915    247  ...          -  7167   \nkannada             Chandrahasa    3   3146    159  ...          -  2069   \nkashmiri                O Maria    2     43     25  ...          -    28   \nkonkani                 O Maria    2     43     25  ...          -    28   \nmalayalam             Bigg Boss   17   5971    258  ...          -  3185   \nmarathi           Pudhcha Paool    2   2239    153  ...          -  1470   \nnepali          Madam Secretary   23    962    142  ...          -   597   \noriya         Dirilis: Ertugrul   26    850    175  ...        7.6    52   \npunjabi           Sohni Mahiwal    3   1751    126  ...          -  1169   \nrajastani           Coke Studio    2     97     45  ...          -    54   \nsanskrit      Da Tang Xuan Zang    1     47     32  ...          -    18   \ntamil            Madurai Veeran    4   5704    197  ...          -  2975   \ntelugu                  Lakshmi    4   5170    206  ...          -  2468   \ntulu                     Girgit    1     37     16  ...          -    17   \nurdu                 Alif Laila  166   3382    316  ...          -  2252   \n\n           Votes                   Genre                                   \n           count unique top  freq  count unique                 top  freq  \nLanguage                                                                   \nassamese     450     46   -   360    450     62   Drama               112  \nbengali     4200    487   -  2155   4200    181   Drama              2214  \nbhojpuri     500     50   -   419    500     44   Drama               259  \ngujarati     700    123   -   495    700     67   Drama               266  \nhindi      14350   1904   -  7166  14350    429   Drama              2610  \nkannada     3233    325   -  2069   3233    160   Drama              1365  \nkashmiri      43     16   -    28     43     15   Drama                20  \nkonkani       43     16   -    28     43     15   Drama                20  \nmalayalam   6200    788   -  3185   6200    299                   -  1882  \nmarathi     2300    224   -  1470   2300    108   Drama               862  \nnepali      1000    138   -   597   1000    150   Drama               195  \noriya        850    336   6    42    850    176   Drama               196  \npunjabi     1800    297   -  1169   1800    122                   -   561  \nrajastani    100     38   -    54    100     38   Drama                25  \nsanskrit      48     30   -    18     48     31   Drama                12  \ntamil       6000    946   -  2975   6000    224   Drama              1937  \ntelugu      5300    835   -  2468   5300    238   Drama              1397  \ntulu          38     18   -    17     38     16  Comedy                 9  \nurdu        3447    404   -  2252   3447    306                   -   635  \n\n[19 rows x 28 columns]",
      "text/html": "<div>\n<style scoped>\n    .dataframe tbody tr th:only-of-type {\n        vertical-align: middle;\n    }\n\n    .dataframe tbody tr th {\n        vertical-align: top;\n    }\n\n    .dataframe thead tr th {\n        text-align: left;\n    }\n\n    .dataframe thead tr:last-of-type th {\n        text-align: right;\n    }\n</style>\n<table border=\"1\" class=\"dataframe\">\n  <thead>\n    <tr>\n      <th></th>\n      <th colspan=\"4\" halign=\"left\">ID</th>\n      <th colspan=\"4\" halign=\"left\">Movie Name</th>\n      <th colspan=\"2\" halign=\"left\">Year</th>\n      <th>...</th>\n      <th colspan=\"2\" halign=\"left\">Rating(10)</th>\n      <th colspan=\"4\" halign=\"left\">Votes</th>\n      <th colspan=\"4\" halign=\"left\">Genre</th>\n    </tr>\n    <tr>\n      <th></th>\n      <th>count</th>\n      <th>unique</th>\n      <th>top</th>\n      <th>freq</th>\n      <th>count</th>\n      <th>unique</th>\n      <th>top</th>\n      <th>freq</th>\n      <th>count</th>\n      <th>unique</th>\n      <th>...</th>\n      <th>top</th>\n      <th>freq</th>\n      <th>count</th>\n      <th>unique</th>\n      <th>top</th>\n      <th>freq</th>\n      <th>count</th>\n      <th>unique</th>\n      <th>top</th>\n      <th>freq</th>\n    </tr>\n    <tr>\n      <th>Language</th>\n      <th></th>\n      <th></th>\n      <th></th>\n      <th></th>\n      <th></th>\n      <th></th>\n      <th></th>\n      <th></th>\n      <th></th>\n      <th></th>\n      <th></th>\n      <th></th>\n      <th></th>\n      <th></th>\n      <th></th>\n      <th></th>\n      <th></th>\n      <th></th>\n      <th></th>\n      <th></th>\n      <th></th>\n    </tr>\n  </thead>\n  <tbody>\n    <tr>\n      <th>assamese</th>\n      <td>450</td>\n      <td>436</td>\n      <td>-</td>\n      <td>15</td>\n      <td>450</td>\n      <td>435</td>\n      <td>Anjana</td>\n      <td>6</td>\n      <td>442</td>\n      <td>95</td>\n      <td>...</td>\n      <td>-</td>\n      <td>360</td>\n      <td>450</td>\n      <td>46</td>\n      <td>-</td>\n      <td>360</td>\n      <td>450</td>\n      <td>62</td>\n      <td>Drama</td>\n      <td>112</td>\n    </tr>\n    <tr>\n      <th>bengali</th>\n      <td>4200</td>\n      <td>4060</td>\n      <td>-</td>\n      <td>141</td>\n      <td>4200</td>\n      <td>3933</td>\n      <td>Maa</td>\n      <td>5</td>\n      <td>4114</td>\n      <td>174</td>\n      <td>...</td>\n      <td>-</td>\n      <td>2155</td>\n      <td>4200</td>\n      <td>487</td>\n      <td>-</td>\n      <td>2155</td>\n      <td>4200</td>\n      <td>181</td>\n      <td>Drama</td>\n      <td>2214</td>\n    </tr>\n    <tr>\n      <th>bhojpuri</th>\n      <td>500</td>\n      <td>455</td>\n      <td>-</td>\n      <td>46</td>\n      <td>500</td>\n      <td>500</td>\n      <td>Hamra Se Biyah Karba</td>\n      <td>1</td>\n      <td>462</td>\n      <td>48</td>\n      <td>...</td>\n      <td>-</td>\n      <td>419</td>\n      <td>500</td>\n      <td>50</td>\n      <td>-</td>\n      <td>419</td>\n      <td>500</td>\n      <td>44</td>\n      <td>Drama</td>\n      <td>259</td>\n    </tr>\n    <tr>\n      <th>gujarati</th>\n      <td>700</td>\n      <td>654</td>\n      <td>-</td>\n      <td>47</td>\n      <td>700</td>\n      <td>693</td>\n      <td>Jogidas Khuman</td>\n      <td>3</td>\n      <td>666</td>\n      <td>90</td>\n      <td>...</td>\n      <td>-</td>\n      <td>495</td>\n      <td>700</td>\n      <td>123</td>\n      <td>-</td>\n      <td>495</td>\n      <td>700</td>\n      <td>67</td>\n      <td>Drama</td>\n      <td>266</td>\n    </tr>\n    <tr>\n      <th>hindi</th>\n      <td>14350</td>\n      <td>13625</td>\n      <td>-</td>\n      <td>726</td>\n      <td>14350</td>\n      <td>12725</td>\n      <td>Anjaam</td>\n      <td>7</td>\n      <td>13915</td>\n      <td>247</td>\n      <td>...</td>\n      <td>-</td>\n      <td>7167</td>\n      <td>14350</td>\n      <td>1904</td>\n      <td>-</td>\n      <td>7166</td>\n      <td>14350</td>\n      <td>429</td>\n      <td>Drama</td>\n      <td>2610</td>\n    </tr>\n    <tr>\n      <th>kannada</th>\n      <td>3233</td>\n      <td>3074</td>\n      <td>-</td>\n      <td>160</td>\n      <td>3233</td>\n      <td>3179</td>\n      <td>Chandrahasa</td>\n      <td>3</td>\n      <td>3146</td>\n      <td>159</td>\n      <td>...</td>\n      <td>-</td>\n      <td>2069</td>\n      <td>3233</td>\n      <td>325</td>\n      <td>-</td>\n      <td>2069</td>\n      <td>3233</td>\n      <td>160</td>\n      <td>Drama</td>\n      <td>1365</td>\n    </tr>\n    <tr>\n      <th>kashmiri</th>\n      <td>43</td>\n      <td>43</td>\n      <td>tt2321365</td>\n      <td>1</td>\n      <td>43</td>\n      <td>42</td>\n      <td>O Maria</td>\n      <td>2</td>\n      <td>43</td>\n      <td>25</td>\n      <td>...</td>\n      <td>-</td>\n      <td>28</td>\n      <td>43</td>\n      <td>16</td>\n      <td>-</td>\n      <td>28</td>\n      <td>43</td>\n      <td>15</td>\n      <td>Drama</td>\n      <td>20</td>\n    </tr>\n    <tr>\n      <th>konkani</th>\n      <td>43</td>\n      <td>43</td>\n      <td>tt5335262</td>\n      <td>1</td>\n      <td>43</td>\n      <td>42</td>\n      <td>O Maria</td>\n      <td>2</td>\n      <td>43</td>\n      <td>25</td>\n      <td>...</td>\n      <td>-</td>\n      <td>28</td>\n      <td>43</td>\n      <td>16</td>\n      <td>-</td>\n      <td>28</td>\n      <td>43</td>\n      <td>15</td>\n      <td>Drama</td>\n      <td>20</td>\n    </tr>\n    <tr>\n      <th>malayalam</th>\n      <td>6200</td>\n      <td>5849</td>\n      <td>-</td>\n      <td>352</td>\n      <td>6200</td>\n      <td>6032</td>\n      <td>Bigg Boss</td>\n      <td>17</td>\n      <td>5971</td>\n      <td>258</td>\n      <td>...</td>\n      <td>-</td>\n      <td>3185</td>\n      <td>6200</td>\n      <td>788</td>\n      <td>-</td>\n      <td>3185</td>\n      <td>6200</td>\n      <td>299</td>\n      <td>-</td>\n      <td>1882</td>\n    </tr>\n    <tr>\n      <th>marathi</th>\n      <td>2300</td>\n      <td>2197</td>\n      <td>-</td>\n      <td>104</td>\n      <td>2300</td>\n      <td>2266</td>\n      <td>Pudhcha Paool</td>\n      <td>2</td>\n      <td>2239</td>\n      <td>153</td>\n      <td>...</td>\n      <td>-</td>\n      <td>1470</td>\n      <td>2300</td>\n      <td>224</td>\n      <td>-</td>\n      <td>1470</td>\n      <td>2300</td>\n      <td>108</td>\n      <td>Drama</td>\n      <td>862</td>\n    </tr>\n    <tr>\n      <th>nepali</th>\n      <td>1000</td>\n      <td>943</td>\n      <td>-</td>\n      <td>58</td>\n      <td>1000</td>\n      <td>961</td>\n      <td>Madam Secretary</td>\n      <td>23</td>\n      <td>962</td>\n      <td>142</td>\n      <td>...</td>\n      <td>-</td>\n      <td>597</td>\n      <td>1000</td>\n      <td>138</td>\n      <td>-</td>\n      <td>597</td>\n      <td>1000</td>\n      <td>150</td>\n      <td>Drama</td>\n      <td>195</td>\n    </tr>\n    <tr>\n      <th>oriya</th>\n      <td>850</td>\n      <td>850</td>\n      <td>tt0266712</td>\n      <td>1</td>\n      <td>850</td>\n      <td>739</td>\n      <td>Dirilis: Ertugrul</td>\n      <td>26</td>\n      <td>850</td>\n      <td>175</td>\n      <td>...</td>\n      <td>7.6</td>\n      <td>52</td>\n      <td>850</td>\n      <td>336</td>\n      <td>6</td>\n      <td>42</td>\n      <td>850</td>\n      <td>176</td>\n      <td>Drama</td>\n      <td>196</td>\n    </tr>\n    <tr>\n      <th>punjabi</th>\n      <td>1800</td>\n      <td>1729</td>\n      <td>-</td>\n      <td>72</td>\n      <td>1800</td>\n      <td>1725</td>\n      <td>Sohni Mahiwal</td>\n      <td>3</td>\n      <td>1751</td>\n      <td>126</td>\n      <td>...</td>\n      <td>-</td>\n      <td>1169</td>\n      <td>1800</td>\n      <td>297</td>\n      <td>-</td>\n      <td>1169</td>\n      <td>1800</td>\n      <td>122</td>\n      <td>-</td>\n      <td>561</td>\n    </tr>\n    <tr>\n      <th>rajastani</th>\n      <td>100</td>\n      <td>97</td>\n      <td>-</td>\n      <td>4</td>\n      <td>100</td>\n      <td>99</td>\n      <td>Coke Studio</td>\n      <td>2</td>\n      <td>97</td>\n      <td>45</td>\n      <td>...</td>\n      <td>-</td>\n      <td>54</td>\n      <td>100</td>\n      <td>38</td>\n      <td>-</td>\n      <td>54</td>\n      <td>100</td>\n      <td>38</td>\n      <td>Drama</td>\n      <td>25</td>\n    </tr>\n    <tr>\n      <th>sanskrit</th>\n      <td>48</td>\n      <td>45</td>\n      <td>-</td>\n      <td>4</td>\n      <td>48</td>\n      <td>48</td>\n      <td>Da Tang Xuan Zang</td>\n      <td>1</td>\n      <td>47</td>\n      <td>32</td>\n      <td>...</td>\n      <td>-</td>\n      <td>18</td>\n      <td>48</td>\n      <td>30</td>\n      <td>-</td>\n      <td>18</td>\n      <td>48</td>\n      <td>31</td>\n      <td>Drama</td>\n      <td>12</td>\n    </tr>\n    <tr>\n      <th>tamil</th>\n      <td>6000</td>\n      <td>5572</td>\n      <td>-</td>\n      <td>429</td>\n      <td>6000</td>\n      <td>5839</td>\n      <td>Madurai Veeran</td>\n      <td>4</td>\n      <td>5704</td>\n      <td>197</td>\n      <td>...</td>\n      <td>-</td>\n      <td>2975</td>\n      <td>6000</td>\n      <td>946</td>\n      <td>-</td>\n      <td>2975</td>\n      <td>6000</td>\n      <td>224</td>\n      <td>Drama</td>\n      <td>1937</td>\n    </tr>\n    <tr>\n      <th>telugu</th>\n      <td>5300</td>\n      <td>5049</td>\n      <td>-</td>\n      <td>252</td>\n      <td>5300</td>\n      <td>5058</td>\n      <td>Lakshmi</td>\n      <td>4</td>\n      <td>5170</td>\n      <td>206</td>\n      <td>...</td>\n      <td>-</td>\n      <td>2468</td>\n      <td>5300</td>\n      <td>835</td>\n      <td>-</td>\n      <td>2468</td>\n      <td>5300</td>\n      <td>238</td>\n      <td>Drama</td>\n      <td>1397</td>\n    </tr>\n    <tr>\n      <th>tulu</th>\n      <td>38</td>\n      <td>38</td>\n      <td>tt11053238</td>\n      <td>1</td>\n      <td>38</td>\n      <td>38</td>\n      <td>Girgit</td>\n      <td>1</td>\n      <td>37</td>\n      <td>16</td>\n      <td>...</td>\n      <td>-</td>\n      <td>17</td>\n      <td>38</td>\n      <td>18</td>\n      <td>-</td>\n      <td>17</td>\n      <td>38</td>\n      <td>16</td>\n      <td>Comedy</td>\n      <td>9</td>\n    </tr>\n    <tr>\n      <th>urdu</th>\n      <td>3447</td>\n      <td>3351</td>\n      <td>-</td>\n      <td>97</td>\n      <td>3447</td>\n      <td>2829</td>\n      <td>Alif Laila</td>\n      <td>166</td>\n      <td>3382</td>\n      <td>316</td>\n      <td>...</td>\n      <td>-</td>\n      <td>2252</td>\n      <td>3447</td>\n      <td>404</td>\n      <td>-</td>\n      <td>2252</td>\n      <td>3447</td>\n      <td>306</td>\n      <td>-</td>\n      <td>635</td>\n    </tr>\n  </tbody>\n</table>\n<p>19 rows × 28 columns</p>\n</div>"
     },
     "execution_count": 156,
     "metadata": {},
     "output_type": "execute_result"
    }
   ],
   "source": [
    "df_grp.describe()"
   ],
   "metadata": {
    "collapsed": false
   }
  },
  {
   "cell_type": "markdown",
   "source": [
    "#### String to datetime\n",
    "pd.to_datetime"
   ],
   "metadata": {
    "collapsed": false
   }
  },
  {
   "cell_type": "code",
   "execution_count": 157,
   "outputs": [],
   "source": [
    "def hit(x):\n",
    "    return x >100"
   ],
   "metadata": {
    "collapsed": false
   }
  },
  {
   "cell_type": "code",
   "execution_count": 163,
   "outputs": [
    {
     "ename": "TypeError",
     "evalue": "'>' not supported between instances of 'str' and 'int'",
     "output_type": "error",
     "traceback": [
      "\u001B[1;31m---------------------------------------------------------------------------\u001B[0m",
      "\u001B[1;31mTypeError\u001B[0m                                 Traceback (most recent call last)",
      "Cell \u001B[1;32mIn [163], line 1\u001B[0m\n\u001B[1;32m----> 1\u001B[0m d1[hit] \u001B[38;5;241m=\u001B[39m \u001B[43md1\u001B[49m\u001B[43m[\u001B[49m\u001B[38;5;124;43m\"\u001B[39;49m\u001B[38;5;124;43mVotes\u001B[39;49m\u001B[38;5;124;43m\"\u001B[39;49m\u001B[43m]\u001B[49m\u001B[38;5;241;43m.\u001B[39;49m\u001B[43mapply\u001B[49m\u001B[43m(\u001B[49m\u001B[43mhit\u001B[49m\u001B[43m)\u001B[49m\n",
      "File \u001B[1;32m~\\AppData\\Local\\Programs\\Python\\Python310\\lib\\site-packages\\pandas\\core\\series.py:4771\u001B[0m, in \u001B[0;36mSeries.apply\u001B[1;34m(self, func, convert_dtype, args, **kwargs)\u001B[0m\n\u001B[0;32m   4661\u001B[0m \u001B[38;5;28;01mdef\u001B[39;00m \u001B[38;5;21mapply\u001B[39m(\n\u001B[0;32m   4662\u001B[0m     \u001B[38;5;28mself\u001B[39m,\n\u001B[0;32m   4663\u001B[0m     func: AggFuncType,\n\u001B[1;32m   (...)\u001B[0m\n\u001B[0;32m   4666\u001B[0m     \u001B[38;5;241m*\u001B[39m\u001B[38;5;241m*\u001B[39mkwargs,\n\u001B[0;32m   4667\u001B[0m ) \u001B[38;5;241m-\u001B[39m\u001B[38;5;241m>\u001B[39m DataFrame \u001B[38;5;241m|\u001B[39m Series:\n\u001B[0;32m   4668\u001B[0m     \u001B[38;5;124;03m\"\"\"\u001B[39;00m\n\u001B[0;32m   4669\u001B[0m \u001B[38;5;124;03m    Invoke function on values of Series.\u001B[39;00m\n\u001B[0;32m   4670\u001B[0m \n\u001B[1;32m   (...)\u001B[0m\n\u001B[0;32m   4769\u001B[0m \u001B[38;5;124;03m    dtype: float64\u001B[39;00m\n\u001B[0;32m   4770\u001B[0m \u001B[38;5;124;03m    \"\"\"\u001B[39;00m\n\u001B[1;32m-> 4771\u001B[0m     \u001B[38;5;28;01mreturn\u001B[39;00m \u001B[43mSeriesApply\u001B[49m\u001B[43m(\u001B[49m\u001B[38;5;28;43mself\u001B[39;49m\u001B[43m,\u001B[49m\u001B[43m \u001B[49m\u001B[43mfunc\u001B[49m\u001B[43m,\u001B[49m\u001B[43m \u001B[49m\u001B[43mconvert_dtype\u001B[49m\u001B[43m,\u001B[49m\u001B[43m \u001B[49m\u001B[43margs\u001B[49m\u001B[43m,\u001B[49m\u001B[43m \u001B[49m\u001B[43mkwargs\u001B[49m\u001B[43m)\u001B[49m\u001B[38;5;241;43m.\u001B[39;49m\u001B[43mapply\u001B[49m\u001B[43m(\u001B[49m\u001B[43m)\u001B[49m\n",
      "File \u001B[1;32m~\\AppData\\Local\\Programs\\Python\\Python310\\lib\\site-packages\\pandas\\core\\apply.py:1105\u001B[0m, in \u001B[0;36mSeriesApply.apply\u001B[1;34m(self)\u001B[0m\n\u001B[0;32m   1102\u001B[0m     \u001B[38;5;28;01mreturn\u001B[39;00m \u001B[38;5;28mself\u001B[39m\u001B[38;5;241m.\u001B[39mapply_str()\n\u001B[0;32m   1104\u001B[0m \u001B[38;5;66;03m# self.f is Callable\u001B[39;00m\n\u001B[1;32m-> 1105\u001B[0m \u001B[38;5;28;01mreturn\u001B[39;00m \u001B[38;5;28;43mself\u001B[39;49m\u001B[38;5;241;43m.\u001B[39;49m\u001B[43mapply_standard\u001B[49m\u001B[43m(\u001B[49m\u001B[43m)\u001B[49m\n",
      "File \u001B[1;32m~\\AppData\\Local\\Programs\\Python\\Python310\\lib\\site-packages\\pandas\\core\\apply.py:1156\u001B[0m, in \u001B[0;36mSeriesApply.apply_standard\u001B[1;34m(self)\u001B[0m\n\u001B[0;32m   1154\u001B[0m     \u001B[38;5;28;01melse\u001B[39;00m:\n\u001B[0;32m   1155\u001B[0m         values \u001B[38;5;241m=\u001B[39m obj\u001B[38;5;241m.\u001B[39mastype(\u001B[38;5;28mobject\u001B[39m)\u001B[38;5;241m.\u001B[39m_values\n\u001B[1;32m-> 1156\u001B[0m         mapped \u001B[38;5;241m=\u001B[39m \u001B[43mlib\u001B[49m\u001B[38;5;241;43m.\u001B[39;49m\u001B[43mmap_infer\u001B[49m\u001B[43m(\u001B[49m\n\u001B[0;32m   1157\u001B[0m \u001B[43m            \u001B[49m\u001B[43mvalues\u001B[49m\u001B[43m,\u001B[49m\n\u001B[0;32m   1158\u001B[0m \u001B[43m            \u001B[49m\u001B[43mf\u001B[49m\u001B[43m,\u001B[49m\n\u001B[0;32m   1159\u001B[0m \u001B[43m            \u001B[49m\u001B[43mconvert\u001B[49m\u001B[38;5;241;43m=\u001B[39;49m\u001B[38;5;28;43mself\u001B[39;49m\u001B[38;5;241;43m.\u001B[39;49m\u001B[43mconvert_dtype\u001B[49m\u001B[43m,\u001B[49m\n\u001B[0;32m   1160\u001B[0m \u001B[43m        \u001B[49m\u001B[43m)\u001B[49m\n\u001B[0;32m   1162\u001B[0m \u001B[38;5;28;01mif\u001B[39;00m \u001B[38;5;28mlen\u001B[39m(mapped) \u001B[38;5;129;01mand\u001B[39;00m \u001B[38;5;28misinstance\u001B[39m(mapped[\u001B[38;5;241m0\u001B[39m], ABCSeries):\n\u001B[0;32m   1163\u001B[0m     \u001B[38;5;66;03m# GH#43986 Need to do list(mapped) in order to get treated as nested\u001B[39;00m\n\u001B[0;32m   1164\u001B[0m     \u001B[38;5;66;03m#  See also GH#25959 regarding EA support\u001B[39;00m\n\u001B[0;32m   1165\u001B[0m     \u001B[38;5;28;01mreturn\u001B[39;00m obj\u001B[38;5;241m.\u001B[39m_constructor_expanddim(\u001B[38;5;28mlist\u001B[39m(mapped), index\u001B[38;5;241m=\u001B[39mobj\u001B[38;5;241m.\u001B[39mindex)\n",
      "File \u001B[1;32m~\\AppData\\Local\\Programs\\Python\\Python310\\lib\\site-packages\\pandas\\_libs\\lib.pyx:2918\u001B[0m, in \u001B[0;36mpandas._libs.lib.map_infer\u001B[1;34m()\u001B[0m\n",
      "Cell \u001B[1;32mIn [157], line 2\u001B[0m, in \u001B[0;36mhit\u001B[1;34m(x)\u001B[0m\n\u001B[0;32m      1\u001B[0m \u001B[38;5;28;01mdef\u001B[39;00m \u001B[38;5;21mhit\u001B[39m(x):\n\u001B[1;32m----> 2\u001B[0m     \u001B[38;5;28;01mreturn\u001B[39;00m \u001B[43mx\u001B[49m\u001B[38;5;241;43m>\u001B[39;49m\u001B[38;5;241;43m100\u001B[39;49m\n",
      "\u001B[1;31mTypeError\u001B[0m: '>' not supported between instances of 'str' and 'int'"
     ]
    }
   ],
   "source": [
    "d1[hit] = d1[\"Votes\"].apply(hit)"
   ],
   "metadata": {
    "collapsed": false
   }
  },
  {
   "cell_type": "code",
   "execution_count": 161,
   "outputs": [
    {
     "data": {
      "text/plain": "        name  random\ntemp                \n66     Geeks      13\n32       Ant      12\n56     Abhay      13\n56     Geeks      11\n78    Teclov      12",
      "text/html": "<div>\n<style scoped>\n    .dataframe tbody tr th:only-of-type {\n        vertical-align: middle;\n    }\n\n    .dataframe tbody tr th {\n        vertical-align: top;\n    }\n\n    .dataframe thead th {\n        text-align: right;\n    }\n</style>\n<table border=\"1\" class=\"dataframe\">\n  <thead>\n    <tr style=\"text-align: right;\">\n      <th></th>\n      <th>name</th>\n      <th>random</th>\n    </tr>\n    <tr>\n      <th>temp</th>\n      <th></th>\n      <th></th>\n    </tr>\n  </thead>\n  <tbody>\n    <tr>\n      <th>66</th>\n      <td>Geeks</td>\n      <td>13</td>\n    </tr>\n    <tr>\n      <th>32</th>\n      <td>Ant</td>\n      <td>12</td>\n    </tr>\n    <tr>\n      <th>56</th>\n      <td>Abhay</td>\n      <td>13</td>\n    </tr>\n    <tr>\n      <th>56</th>\n      <td>Geeks</td>\n      <td>11</td>\n    </tr>\n    <tr>\n      <th>78</th>\n      <td>Teclov</td>\n      <td>12</td>\n    </tr>\n  </tbody>\n</table>\n</div>"
     },
     "execution_count": 161,
     "metadata": {},
     "output_type": "execute_result"
    }
   ],
   "source": [
    "df.head()"
   ],
   "metadata": {
    "collapsed": false
   }
  },
  {
   "cell_type": "code",
   "execution_count": 133,
   "outputs": [
    {
     "data": {
      "text/plain": "'999'"
     },
     "execution_count": 133,
     "metadata": {},
     "output_type": "execute_result"
    }
   ],
   "source": [
    "max(d1[\"Votes\"])"
   ],
   "metadata": {
    "collapsed": false
   }
  },
  {
   "cell_type": "code",
   "execution_count": 137,
   "outputs": [
    {
     "data": {
      "text/plain": "               ID              Movie Name  Year Timing(min) Rating(10)  Votes  \\\n0       tt0398974             Dr. Shaitan  1960           -          -      -   \n1       tt1702558              Nadir Khan  1968           -          -      -   \n2       tt0493437  Apna Sapna Money Money  2006     134 min        5.3  1,892   \n3       tt0273405          Aag Aur Sholay  1987           -        2.2     20   \n4       tt0049595                 Parivar  1956           -        7.4     21   \n...           ...                     ...   ...         ...        ...    ...   \n50597   tt2784720          Sulagte Armaan  1984           -          -      -   \n50598   tt0315201                  Aranya  1971     107 min          -      -   \n50599   tt0270221              Balayogini  1936     120 min          -      -   \n50600   tt0388697                 Alajadi  1990     133 min          -      -   \n50601  tt14143738             KA-99 B-333  2009           -          -      -   \n\n                                      Genre  Language  \n0                                         -     hindi  \n1                                         -      urdu  \n2      Comedy, Musical, Romance                 hindi  \n3                                         -      urdu  \n4         Comedy, Drama, Family                 hindi  \n...                                     ...       ...  \n50597                     Drama                 hindi  \n50598                     Drama              assamese  \n50599                                     -    telugu  \n50600                     Drama                telugu  \n50601                     Drama               kannada  \n\n[49041 rows x 8 columns]",
      "text/html": "<div>\n<style scoped>\n    .dataframe tbody tr th:only-of-type {\n        vertical-align: middle;\n    }\n\n    .dataframe tbody tr th {\n        vertical-align: top;\n    }\n\n    .dataframe thead th {\n        text-align: right;\n    }\n</style>\n<table border=\"1\" class=\"dataframe\">\n  <thead>\n    <tr style=\"text-align: right;\">\n      <th></th>\n      <th>ID</th>\n      <th>Movie Name</th>\n      <th>Year</th>\n      <th>Timing(min)</th>\n      <th>Rating(10)</th>\n      <th>Votes</th>\n      <th>Genre</th>\n      <th>Language</th>\n    </tr>\n  </thead>\n  <tbody>\n    <tr>\n      <th>0</th>\n      <td>tt0398974</td>\n      <td>Dr. Shaitan</td>\n      <td>1960</td>\n      <td>-</td>\n      <td>-</td>\n      <td>-</td>\n      <td>-</td>\n      <td>hindi</td>\n    </tr>\n    <tr>\n      <th>1</th>\n      <td>tt1702558</td>\n      <td>Nadir Khan</td>\n      <td>1968</td>\n      <td>-</td>\n      <td>-</td>\n      <td>-</td>\n      <td>-</td>\n      <td>urdu</td>\n    </tr>\n    <tr>\n      <th>2</th>\n      <td>tt0493437</td>\n      <td>Apna Sapna Money Money</td>\n      <td>2006</td>\n      <td>134 min</td>\n      <td>5.3</td>\n      <td>1,892</td>\n      <td>Comedy, Musical, Romance</td>\n      <td>hindi</td>\n    </tr>\n    <tr>\n      <th>3</th>\n      <td>tt0273405</td>\n      <td>Aag Aur Sholay</td>\n      <td>1987</td>\n      <td>-</td>\n      <td>2.2</td>\n      <td>20</td>\n      <td>-</td>\n      <td>urdu</td>\n    </tr>\n    <tr>\n      <th>4</th>\n      <td>tt0049595</td>\n      <td>Parivar</td>\n      <td>1956</td>\n      <td>-</td>\n      <td>7.4</td>\n      <td>21</td>\n      <td>Comedy, Drama, Family</td>\n      <td>hindi</td>\n    </tr>\n    <tr>\n      <th>...</th>\n      <td>...</td>\n      <td>...</td>\n      <td>...</td>\n      <td>...</td>\n      <td>...</td>\n      <td>...</td>\n      <td>...</td>\n      <td>...</td>\n    </tr>\n    <tr>\n      <th>50597</th>\n      <td>tt2784720</td>\n      <td>Sulagte Armaan</td>\n      <td>1984</td>\n      <td>-</td>\n      <td>-</td>\n      <td>-</td>\n      <td>Drama</td>\n      <td>hindi</td>\n    </tr>\n    <tr>\n      <th>50598</th>\n      <td>tt0315201</td>\n      <td>Aranya</td>\n      <td>1971</td>\n      <td>107 min</td>\n      <td>-</td>\n      <td>-</td>\n      <td>Drama</td>\n      <td>assamese</td>\n    </tr>\n    <tr>\n      <th>50599</th>\n      <td>tt0270221</td>\n      <td>Balayogini</td>\n      <td>1936</td>\n      <td>120 min</td>\n      <td>-</td>\n      <td>-</td>\n      <td>-</td>\n      <td>telugu</td>\n    </tr>\n    <tr>\n      <th>50600</th>\n      <td>tt0388697</td>\n      <td>Alajadi</td>\n      <td>1990</td>\n      <td>133 min</td>\n      <td>-</td>\n      <td>-</td>\n      <td>Drama</td>\n      <td>telugu</td>\n    </tr>\n    <tr>\n      <th>50601</th>\n      <td>tt14143738</td>\n      <td>KA-99 B-333</td>\n      <td>2009</td>\n      <td>-</td>\n      <td>-</td>\n      <td>-</td>\n      <td>Drama</td>\n      <td>kannada</td>\n    </tr>\n  </tbody>\n</table>\n<p>49041 rows × 8 columns</p>\n</div>"
     },
     "execution_count": 137,
     "metadata": {},
     "output_type": "execute_result"
    }
   ],
   "source": [
    "d1.dropna()"
   ],
   "metadata": {
    "collapsed": false
   }
  },
  {
   "cell_type": "code",
   "execution_count": 138,
   "outputs": [],
   "source": [
    "a = d1[\"Votes\"].head()"
   ],
   "metadata": {
    "collapsed": false
   }
  },
  {
   "cell_type": "code",
   "execution_count": 139,
   "outputs": [
    {
     "ename": "TypeError",
     "evalue": "Could not convert --1,8922021 to numeric",
     "output_type": "error",
     "traceback": [
      "\u001B[1;31m---------------------------------------------------------------------------\u001B[0m",
      "\u001B[1;31mValueError\u001B[0m                                Traceback (most recent call last)",
      "File \u001B[1;32m~\\AppData\\Local\\Programs\\Python\\Python310\\lib\\site-packages\\pandas\\core\\nanops.py:1630\u001B[0m, in \u001B[0;36m_ensure_numeric\u001B[1;34m(x)\u001B[0m\n\u001B[0;32m   1629\u001B[0m \u001B[38;5;28;01mtry\u001B[39;00m:\n\u001B[1;32m-> 1630\u001B[0m     x \u001B[38;5;241m=\u001B[39m \u001B[38;5;28;43mfloat\u001B[39;49m\u001B[43m(\u001B[49m\u001B[43mx\u001B[49m\u001B[43m)\u001B[49m\n\u001B[0;32m   1631\u001B[0m \u001B[38;5;28;01mexcept\u001B[39;00m (\u001B[38;5;167;01mTypeError\u001B[39;00m, \u001B[38;5;167;01mValueError\u001B[39;00m):\n\u001B[0;32m   1632\u001B[0m     \u001B[38;5;66;03m# e.g. \"1+1j\" or \"foo\"\u001B[39;00m\n",
      "\u001B[1;31mValueError\u001B[0m: could not convert string to float: '--1,8922021'",
      "\nDuring handling of the above exception, another exception occurred:\n",
      "\u001B[1;31mValueError\u001B[0m                                Traceback (most recent call last)",
      "File \u001B[1;32m~\\AppData\\Local\\Programs\\Python\\Python310\\lib\\site-packages\\pandas\\core\\nanops.py:1634\u001B[0m, in \u001B[0;36m_ensure_numeric\u001B[1;34m(x)\u001B[0m\n\u001B[0;32m   1633\u001B[0m \u001B[38;5;28;01mtry\u001B[39;00m:\n\u001B[1;32m-> 1634\u001B[0m     x \u001B[38;5;241m=\u001B[39m \u001B[38;5;28;43mcomplex\u001B[39;49m\u001B[43m(\u001B[49m\u001B[43mx\u001B[49m\u001B[43m)\u001B[49m\n\u001B[0;32m   1635\u001B[0m \u001B[38;5;28;01mexcept\u001B[39;00m \u001B[38;5;167;01mValueError\u001B[39;00m \u001B[38;5;28;01mas\u001B[39;00m err:\n\u001B[0;32m   1636\u001B[0m     \u001B[38;5;66;03m# e.g. \"foo\"\u001B[39;00m\n",
      "\u001B[1;31mValueError\u001B[0m: complex() arg is a malformed string",
      "\nThe above exception was the direct cause of the following exception:\n",
      "\u001B[1;31mTypeError\u001B[0m                                 Traceback (most recent call last)",
      "Cell \u001B[1;32mIn [139], line 1\u001B[0m\n\u001B[1;32m----> 1\u001B[0m \u001B[43ma\u001B[49m\u001B[38;5;241;43m.\u001B[39;49m\u001B[43mmean\u001B[49m\u001B[43m(\u001B[49m\u001B[43m)\u001B[49m\n",
      "File \u001B[1;32m~\\AppData\\Local\\Programs\\Python\\Python310\\lib\\site-packages\\pandas\\core\\generic.py:11847\u001B[0m, in \u001B[0;36mNDFrame._add_numeric_operations.<locals>.mean\u001B[1;34m(self, axis, skipna, level, numeric_only, **kwargs)\u001B[0m\n\u001B[0;32m  11829\u001B[0m \u001B[38;5;129m@doc\u001B[39m(\n\u001B[0;32m  11830\u001B[0m     _num_doc,\n\u001B[0;32m  11831\u001B[0m     desc\u001B[38;5;241m=\u001B[39m\u001B[38;5;124m\"\u001B[39m\u001B[38;5;124mReturn the mean of the values over the requested axis.\u001B[39m\u001B[38;5;124m\"\u001B[39m,\n\u001B[1;32m   (...)\u001B[0m\n\u001B[0;32m  11845\u001B[0m     \u001B[38;5;241m*\u001B[39m\u001B[38;5;241m*\u001B[39mkwargs,\n\u001B[0;32m  11846\u001B[0m ):\n\u001B[1;32m> 11847\u001B[0m     \u001B[38;5;28;01mreturn\u001B[39;00m NDFrame\u001B[38;5;241m.\u001B[39mmean(\u001B[38;5;28mself\u001B[39m, axis, skipna, level, numeric_only, \u001B[38;5;241m*\u001B[39m\u001B[38;5;241m*\u001B[39mkwargs)\n",
      "File \u001B[1;32m~\\AppData\\Local\\Programs\\Python\\Python310\\lib\\site-packages\\pandas\\core\\generic.py:11401\u001B[0m, in \u001B[0;36mNDFrame.mean\u001B[1;34m(self, axis, skipna, level, numeric_only, **kwargs)\u001B[0m\n\u001B[0;32m  11393\u001B[0m \u001B[38;5;28;01mdef\u001B[39;00m \u001B[38;5;21mmean\u001B[39m(\n\u001B[0;32m  11394\u001B[0m     \u001B[38;5;28mself\u001B[39m,\n\u001B[0;32m  11395\u001B[0m     axis: Axis \u001B[38;5;241m|\u001B[39m \u001B[38;5;28;01mNone\u001B[39;00m \u001B[38;5;241m|\u001B[39m lib\u001B[38;5;241m.\u001B[39mNoDefault \u001B[38;5;241m=\u001B[39m lib\u001B[38;5;241m.\u001B[39mno_default,\n\u001B[1;32m   (...)\u001B[0m\n\u001B[0;32m  11399\u001B[0m     \u001B[38;5;241m*\u001B[39m\u001B[38;5;241m*\u001B[39mkwargs,\n\u001B[0;32m  11400\u001B[0m ) \u001B[38;5;241m-\u001B[39m\u001B[38;5;241m>\u001B[39m Series \u001B[38;5;241m|\u001B[39m \u001B[38;5;28mfloat\u001B[39m:\n\u001B[1;32m> 11401\u001B[0m     \u001B[38;5;28;01mreturn\u001B[39;00m \u001B[38;5;28mself\u001B[39m\u001B[38;5;241m.\u001B[39m_stat_function(\n\u001B[0;32m  11402\u001B[0m         \u001B[38;5;124m\"\u001B[39m\u001B[38;5;124mmean\u001B[39m\u001B[38;5;124m\"\u001B[39m, nanops\u001B[38;5;241m.\u001B[39mnanmean, axis, skipna, level, numeric_only, \u001B[38;5;241m*\u001B[39m\u001B[38;5;241m*\u001B[39mkwargs\n\u001B[0;32m  11403\u001B[0m     )\n",
      "File \u001B[1;32m~\\AppData\\Local\\Programs\\Python\\Python310\\lib\\site-packages\\pandas\\core\\generic.py:11353\u001B[0m, in \u001B[0;36mNDFrame._stat_function\u001B[1;34m(self, name, func, axis, skipna, level, numeric_only, **kwargs)\u001B[0m\n\u001B[0;32m  11343\u001B[0m     warnings\u001B[38;5;241m.\u001B[39mwarn(\n\u001B[0;32m  11344\u001B[0m         \u001B[38;5;124m\"\u001B[39m\u001B[38;5;124mUsing the level keyword in DataFrame and Series aggregations is \u001B[39m\u001B[38;5;124m\"\u001B[39m\n\u001B[0;32m  11345\u001B[0m         \u001B[38;5;124m\"\u001B[39m\u001B[38;5;124mdeprecated and will be removed in a future version. Use groupby \u001B[39m\u001B[38;5;124m\"\u001B[39m\n\u001B[1;32m   (...)\u001B[0m\n\u001B[0;32m  11348\u001B[0m         stacklevel\u001B[38;5;241m=\u001B[39mfind_stack_level(),\n\u001B[0;32m  11349\u001B[0m     )\n\u001B[0;32m  11350\u001B[0m     \u001B[38;5;28;01mreturn\u001B[39;00m \u001B[38;5;28mself\u001B[39m\u001B[38;5;241m.\u001B[39m_agg_by_level(\n\u001B[0;32m  11351\u001B[0m         name, axis\u001B[38;5;241m=\u001B[39maxis, level\u001B[38;5;241m=\u001B[39mlevel, skipna\u001B[38;5;241m=\u001B[39mskipna, numeric_only\u001B[38;5;241m=\u001B[39mnumeric_only\n\u001B[0;32m  11352\u001B[0m     )\n\u001B[1;32m> 11353\u001B[0m \u001B[38;5;28;01mreturn\u001B[39;00m \u001B[38;5;28;43mself\u001B[39;49m\u001B[38;5;241;43m.\u001B[39;49m\u001B[43m_reduce\u001B[49m\u001B[43m(\u001B[49m\n\u001B[0;32m  11354\u001B[0m \u001B[43m    \u001B[49m\u001B[43mfunc\u001B[49m\u001B[43m,\u001B[49m\u001B[43m \u001B[49m\u001B[43mname\u001B[49m\u001B[38;5;241;43m=\u001B[39;49m\u001B[43mname\u001B[49m\u001B[43m,\u001B[49m\u001B[43m \u001B[49m\u001B[43maxis\u001B[49m\u001B[38;5;241;43m=\u001B[39;49m\u001B[43maxis\u001B[49m\u001B[43m,\u001B[49m\u001B[43m \u001B[49m\u001B[43mskipna\u001B[49m\u001B[38;5;241;43m=\u001B[39;49m\u001B[43mskipna\u001B[49m\u001B[43m,\u001B[49m\u001B[43m \u001B[49m\u001B[43mnumeric_only\u001B[49m\u001B[38;5;241;43m=\u001B[39;49m\u001B[43mnumeric_only\u001B[49m\n\u001B[0;32m  11355\u001B[0m \u001B[43m\u001B[49m\u001B[43m)\u001B[49m\n",
      "File \u001B[1;32m~\\AppData\\Local\\Programs\\Python\\Python310\\lib\\site-packages\\pandas\\core\\series.py:4816\u001B[0m, in \u001B[0;36mSeries._reduce\u001B[1;34m(self, op, name, axis, skipna, numeric_only, filter_type, **kwds)\u001B[0m\n\u001B[0;32m   4812\u001B[0m     \u001B[38;5;28;01mraise\u001B[39;00m \u001B[38;5;167;01mNotImplementedError\u001B[39;00m(\n\u001B[0;32m   4813\u001B[0m         \u001B[38;5;124mf\u001B[39m\u001B[38;5;124m\"\u001B[39m\u001B[38;5;124mSeries.\u001B[39m\u001B[38;5;132;01m{\u001B[39;00mname\u001B[38;5;132;01m}\u001B[39;00m\u001B[38;5;124m does not implement \u001B[39m\u001B[38;5;132;01m{\u001B[39;00mkwd_name\u001B[38;5;132;01m}\u001B[39;00m\u001B[38;5;124m.\u001B[39m\u001B[38;5;124m\"\u001B[39m\n\u001B[0;32m   4814\u001B[0m     )\n\u001B[0;32m   4815\u001B[0m \u001B[38;5;28;01mwith\u001B[39;00m np\u001B[38;5;241m.\u001B[39merrstate(\u001B[38;5;28mall\u001B[39m\u001B[38;5;241m=\u001B[39m\u001B[38;5;124m\"\u001B[39m\u001B[38;5;124mignore\u001B[39m\u001B[38;5;124m\"\u001B[39m):\n\u001B[1;32m-> 4816\u001B[0m     \u001B[38;5;28;01mreturn\u001B[39;00m op(delegate, skipna\u001B[38;5;241m=\u001B[39mskipna, \u001B[38;5;241m*\u001B[39m\u001B[38;5;241m*\u001B[39mkwds)\n",
      "File \u001B[1;32m~\\AppData\\Local\\Programs\\Python\\Python310\\lib\\site-packages\\pandas\\core\\nanops.py:93\u001B[0m, in \u001B[0;36mdisallow.__call__.<locals>._f\u001B[1;34m(*args, **kwargs)\u001B[0m\n\u001B[0;32m     91\u001B[0m \u001B[38;5;28;01mtry\u001B[39;00m:\n\u001B[0;32m     92\u001B[0m     \u001B[38;5;28;01mwith\u001B[39;00m np\u001B[38;5;241m.\u001B[39merrstate(invalid\u001B[38;5;241m=\u001B[39m\u001B[38;5;124m\"\u001B[39m\u001B[38;5;124mignore\u001B[39m\u001B[38;5;124m\"\u001B[39m):\n\u001B[1;32m---> 93\u001B[0m         \u001B[38;5;28;01mreturn\u001B[39;00m f(\u001B[38;5;241m*\u001B[39margs, \u001B[38;5;241m*\u001B[39m\u001B[38;5;241m*\u001B[39mkwargs)\n\u001B[0;32m     94\u001B[0m \u001B[38;5;28;01mexcept\u001B[39;00m \u001B[38;5;167;01mValueError\u001B[39;00m \u001B[38;5;28;01mas\u001B[39;00m e:\n\u001B[0;32m     95\u001B[0m     \u001B[38;5;66;03m# we want to transform an object array\u001B[39;00m\n\u001B[0;32m     96\u001B[0m     \u001B[38;5;66;03m# ValueError message to the more typical TypeError\u001B[39;00m\n\u001B[0;32m     97\u001B[0m     \u001B[38;5;66;03m# e.g. this is normally a disallowed function on\u001B[39;00m\n\u001B[0;32m     98\u001B[0m     \u001B[38;5;66;03m# object arrays that contain strings\u001B[39;00m\n\u001B[0;32m     99\u001B[0m     \u001B[38;5;28;01mif\u001B[39;00m is_object_dtype(args[\u001B[38;5;241m0\u001B[39m]):\n",
      "File \u001B[1;32m~\\AppData\\Local\\Programs\\Python\\Python310\\lib\\site-packages\\pandas\\core\\nanops.py:155\u001B[0m, in \u001B[0;36mbottleneck_switch.__call__.<locals>.f\u001B[1;34m(values, axis, skipna, **kwds)\u001B[0m\n\u001B[0;32m    153\u001B[0m         result \u001B[38;5;241m=\u001B[39m alt(values, axis\u001B[38;5;241m=\u001B[39maxis, skipna\u001B[38;5;241m=\u001B[39mskipna, \u001B[38;5;241m*\u001B[39m\u001B[38;5;241m*\u001B[39mkwds)\n\u001B[0;32m    154\u001B[0m \u001B[38;5;28;01melse\u001B[39;00m:\n\u001B[1;32m--> 155\u001B[0m     result \u001B[38;5;241m=\u001B[39m alt(values, axis\u001B[38;5;241m=\u001B[39maxis, skipna\u001B[38;5;241m=\u001B[39mskipna, \u001B[38;5;241m*\u001B[39m\u001B[38;5;241m*\u001B[39mkwds)\n\u001B[0;32m    157\u001B[0m \u001B[38;5;28;01mreturn\u001B[39;00m result\n",
      "File \u001B[1;32m~\\AppData\\Local\\Programs\\Python\\Python310\\lib\\site-packages\\pandas\\core\\nanops.py:418\u001B[0m, in \u001B[0;36m_datetimelike_compat.<locals>.new_func\u001B[1;34m(values, axis, skipna, mask, **kwargs)\u001B[0m\n\u001B[0;32m    415\u001B[0m \u001B[38;5;28;01mif\u001B[39;00m datetimelike \u001B[38;5;129;01mand\u001B[39;00m mask \u001B[38;5;129;01mis\u001B[39;00m \u001B[38;5;28;01mNone\u001B[39;00m:\n\u001B[0;32m    416\u001B[0m     mask \u001B[38;5;241m=\u001B[39m isna(values)\n\u001B[1;32m--> 418\u001B[0m result \u001B[38;5;241m=\u001B[39m func(values, axis\u001B[38;5;241m=\u001B[39maxis, skipna\u001B[38;5;241m=\u001B[39mskipna, mask\u001B[38;5;241m=\u001B[39mmask, \u001B[38;5;241m*\u001B[39m\u001B[38;5;241m*\u001B[39mkwargs)\n\u001B[0;32m    420\u001B[0m \u001B[38;5;28;01mif\u001B[39;00m datetimelike:\n\u001B[0;32m    421\u001B[0m     result \u001B[38;5;241m=\u001B[39m _wrap_results(result, orig_values\u001B[38;5;241m.\u001B[39mdtype, fill_value\u001B[38;5;241m=\u001B[39miNaT)\n",
      "File \u001B[1;32m~\\AppData\\Local\\Programs\\Python\\Python310\\lib\\site-packages\\pandas\\core\\nanops.py:706\u001B[0m, in \u001B[0;36mnanmean\u001B[1;34m(values, axis, skipna, mask)\u001B[0m\n\u001B[0;32m    703\u001B[0m     dtype_count \u001B[38;5;241m=\u001B[39m dtype\n\u001B[0;32m    705\u001B[0m count \u001B[38;5;241m=\u001B[39m _get_counts(values\u001B[38;5;241m.\u001B[39mshape, mask, axis, dtype\u001B[38;5;241m=\u001B[39mdtype_count)\n\u001B[1;32m--> 706\u001B[0m the_sum \u001B[38;5;241m=\u001B[39m \u001B[43m_ensure_numeric\u001B[49m\u001B[43m(\u001B[49m\u001B[43mvalues\u001B[49m\u001B[38;5;241;43m.\u001B[39;49m\u001B[43msum\u001B[49m\u001B[43m(\u001B[49m\u001B[43maxis\u001B[49m\u001B[43m,\u001B[49m\u001B[43m \u001B[49m\u001B[43mdtype\u001B[49m\u001B[38;5;241;43m=\u001B[39;49m\u001B[43mdtype_sum\u001B[49m\u001B[43m)\u001B[49m\u001B[43m)\u001B[49m\n\u001B[0;32m    708\u001B[0m \u001B[38;5;28;01mif\u001B[39;00m axis \u001B[38;5;129;01mis\u001B[39;00m \u001B[38;5;129;01mnot\u001B[39;00m \u001B[38;5;28;01mNone\u001B[39;00m \u001B[38;5;129;01mand\u001B[39;00m \u001B[38;5;28mgetattr\u001B[39m(the_sum, \u001B[38;5;124m\"\u001B[39m\u001B[38;5;124mndim\u001B[39m\u001B[38;5;124m\"\u001B[39m, \u001B[38;5;28;01mFalse\u001B[39;00m):\n\u001B[0;32m    709\u001B[0m     count \u001B[38;5;241m=\u001B[39m cast(np\u001B[38;5;241m.\u001B[39mndarray, count)\n",
      "File \u001B[1;32m~\\AppData\\Local\\Programs\\Python\\Python310\\lib\\site-packages\\pandas\\core\\nanops.py:1637\u001B[0m, in \u001B[0;36m_ensure_numeric\u001B[1;34m(x)\u001B[0m\n\u001B[0;32m   1634\u001B[0m             x \u001B[38;5;241m=\u001B[39m \u001B[38;5;28mcomplex\u001B[39m(x)\n\u001B[0;32m   1635\u001B[0m         \u001B[38;5;28;01mexcept\u001B[39;00m \u001B[38;5;167;01mValueError\u001B[39;00m \u001B[38;5;28;01mas\u001B[39;00m err:\n\u001B[0;32m   1636\u001B[0m             \u001B[38;5;66;03m# e.g. \"foo\"\u001B[39;00m\n\u001B[1;32m-> 1637\u001B[0m             \u001B[38;5;28;01mraise\u001B[39;00m \u001B[38;5;167;01mTypeError\u001B[39;00m(\u001B[38;5;124mf\u001B[39m\u001B[38;5;124m\"\u001B[39m\u001B[38;5;124mCould not convert \u001B[39m\u001B[38;5;132;01m{\u001B[39;00mx\u001B[38;5;132;01m}\u001B[39;00m\u001B[38;5;124m to numeric\u001B[39m\u001B[38;5;124m\"\u001B[39m) \u001B[38;5;28;01mfrom\u001B[39;00m \u001B[38;5;21;01merr\u001B[39;00m\n\u001B[0;32m   1638\u001B[0m \u001B[38;5;28;01mreturn\u001B[39;00m x\n",
      "\u001B[1;31mTypeError\u001B[0m: Could not convert --1,8922021 to numeric"
     ]
    }
   ],
   "source": [
    "a.mean()"
   ],
   "metadata": {
    "collapsed": false
   }
  },
  {
   "cell_type": "markdown",
   "source": [
    "#### Concatenation"
   ],
   "metadata": {
    "collapsed": false
   }
  },
  {
   "cell_type": "code",
   "execution_count": 166,
   "outputs": [],
   "source": [
    "india = pd.DataFrame({\n",
    "    \"city\" : [\"Mumbai\", \"Pune\"],\n",
    "    \"temp\" : [21,14],\n",
    "    \"humidity\" : [68,65]\n",
    "})\n"
   ],
   "metadata": {
    "collapsed": false
   }
  },
  {
   "cell_type": "code",
   "execution_count": 167,
   "outputs": [
    {
     "data": {
      "text/plain": "     city  temp  humidity\n0  Mumbai    21        68\n1    Pune    14        65",
      "text/html": "<div>\n<style scoped>\n    .dataframe tbody tr th:only-of-type {\n        vertical-align: middle;\n    }\n\n    .dataframe tbody tr th {\n        vertical-align: top;\n    }\n\n    .dataframe thead th {\n        text-align: right;\n    }\n</style>\n<table border=\"1\" class=\"dataframe\">\n  <thead>\n    <tr style=\"text-align: right;\">\n      <th></th>\n      <th>city</th>\n      <th>temp</th>\n      <th>humidity</th>\n    </tr>\n  </thead>\n  <tbody>\n    <tr>\n      <th>0</th>\n      <td>Mumbai</td>\n      <td>21</td>\n      <td>68</td>\n    </tr>\n    <tr>\n      <th>1</th>\n      <td>Pune</td>\n      <td>14</td>\n      <td>65</td>\n    </tr>\n  </tbody>\n</table>\n</div>"
     },
     "execution_count": 167,
     "metadata": {},
     "output_type": "execute_result"
    }
   ],
   "source": [
    "india"
   ],
   "metadata": {
    "collapsed": false
   }
  },
  {
   "cell_type": "code",
   "execution_count": 168,
   "outputs": [],
   "source": [
    "us = pd.DataFrame({\n",
    "    \"city\" : [\"chicago\", \"Orlando\"],\n",
    "    \"temp\" : [21,14],\n",
    "    \"humidity\" : [68,65]\n",
    "})\n"
   ],
   "metadata": {
    "collapsed": false
   }
  },
  {
   "cell_type": "code",
   "execution_count": 169,
   "outputs": [
    {
     "data": {
      "text/plain": "      city  temp  humidity\n0  chicago    21        68\n1  Orlando    14        65",
      "text/html": "<div>\n<style scoped>\n    .dataframe tbody tr th:only-of-type {\n        vertical-align: middle;\n    }\n\n    .dataframe tbody tr th {\n        vertical-align: top;\n    }\n\n    .dataframe thead th {\n        text-align: right;\n    }\n</style>\n<table border=\"1\" class=\"dataframe\">\n  <thead>\n    <tr style=\"text-align: right;\">\n      <th></th>\n      <th>city</th>\n      <th>temp</th>\n      <th>humidity</th>\n    </tr>\n  </thead>\n  <tbody>\n    <tr>\n      <th>0</th>\n      <td>chicago</td>\n      <td>21</td>\n      <td>68</td>\n    </tr>\n    <tr>\n      <th>1</th>\n      <td>Orlando</td>\n      <td>14</td>\n      <td>65</td>\n    </tr>\n  </tbody>\n</table>\n</div>"
     },
     "execution_count": 169,
     "metadata": {},
     "output_type": "execute_result"
    }
   ],
   "source": [
    "us"
   ],
   "metadata": {
    "collapsed": false
   }
  },
  {
   "cell_type": "code",
   "execution_count": 172,
   "outputs": [],
   "source": [
    "df = pd.concat([india,us],ignore_index=True)"
   ],
   "metadata": {
    "collapsed": false
   }
  },
  {
   "cell_type": "code",
   "execution_count": 173,
   "outputs": [
    {
     "data": {
      "text/plain": "      city  temp  humidity\n0   Mumbai    21        68\n1     Pune    14        65\n2  chicago    21        68\n3  Orlando    14        65",
      "text/html": "<div>\n<style scoped>\n    .dataframe tbody tr th:only-of-type {\n        vertical-align: middle;\n    }\n\n    .dataframe tbody tr th {\n        vertical-align: top;\n    }\n\n    .dataframe thead th {\n        text-align: right;\n    }\n</style>\n<table border=\"1\" class=\"dataframe\">\n  <thead>\n    <tr style=\"text-align: right;\">\n      <th></th>\n      <th>city</th>\n      <th>temp</th>\n      <th>humidity</th>\n    </tr>\n  </thead>\n  <tbody>\n    <tr>\n      <th>0</th>\n      <td>Mumbai</td>\n      <td>21</td>\n      <td>68</td>\n    </tr>\n    <tr>\n      <th>1</th>\n      <td>Pune</td>\n      <td>14</td>\n      <td>65</td>\n    </tr>\n    <tr>\n      <th>2</th>\n      <td>chicago</td>\n      <td>21</td>\n      <td>68</td>\n    </tr>\n    <tr>\n      <th>3</th>\n      <td>Orlando</td>\n      <td>14</td>\n      <td>65</td>\n    </tr>\n  </tbody>\n</table>\n</div>"
     },
     "execution_count": 173,
     "metadata": {},
     "output_type": "execute_result"
    }
   ],
   "source": [
    "df"
   ],
   "metadata": {
    "collapsed": false
   }
  },
  {
   "cell_type": "code",
   "execution_count": 174,
   "outputs": [],
   "source": [
    "df = pd.concat([india, us], keys = [\"ind\",\"us\"])"
   ],
   "metadata": {
    "collapsed": false
   }
  },
  {
   "cell_type": "code",
   "execution_count": 175,
   "outputs": [
    {
     "data": {
      "text/plain": "          city  temp  humidity\nind 0   Mumbai    21        68\n    1     Pune    14        65\nus  0  chicago    21        68\n    1  Orlando    14        65",
      "text/html": "<div>\n<style scoped>\n    .dataframe tbody tr th:only-of-type {\n        vertical-align: middle;\n    }\n\n    .dataframe tbody tr th {\n        vertical-align: top;\n    }\n\n    .dataframe thead th {\n        text-align: right;\n    }\n</style>\n<table border=\"1\" class=\"dataframe\">\n  <thead>\n    <tr style=\"text-align: right;\">\n      <th></th>\n      <th></th>\n      <th>city</th>\n      <th>temp</th>\n      <th>humidity</th>\n    </tr>\n  </thead>\n  <tbody>\n    <tr>\n      <th rowspan=\"2\" valign=\"top\">ind</th>\n      <th>0</th>\n      <td>Mumbai</td>\n      <td>21</td>\n      <td>68</td>\n    </tr>\n    <tr>\n      <th>1</th>\n      <td>Pune</td>\n      <td>14</td>\n      <td>65</td>\n    </tr>\n    <tr>\n      <th rowspan=\"2\" valign=\"top\">us</th>\n      <th>0</th>\n      <td>chicago</td>\n      <td>21</td>\n      <td>68</td>\n    </tr>\n    <tr>\n      <th>1</th>\n      <td>Orlando</td>\n      <td>14</td>\n      <td>65</td>\n    </tr>\n  </tbody>\n</table>\n</div>"
     },
     "execution_count": 175,
     "metadata": {},
     "output_type": "execute_result"
    }
   ],
   "source": [
    "df"
   ],
   "metadata": {
    "collapsed": false
   }
  },
  {
   "cell_type": "code",
   "execution_count": 176,
   "outputs": [
    {
     "data": {
      "text/plain": "      city  temp  humidity\n0  chicago    21        68\n1  Orlando    14        65",
      "text/html": "<div>\n<style scoped>\n    .dataframe tbody tr th:only-of-type {\n        vertical-align: middle;\n    }\n\n    .dataframe tbody tr th {\n        vertical-align: top;\n    }\n\n    .dataframe thead th {\n        text-align: right;\n    }\n</style>\n<table border=\"1\" class=\"dataframe\">\n  <thead>\n    <tr style=\"text-align: right;\">\n      <th></th>\n      <th>city</th>\n      <th>temp</th>\n      <th>humidity</th>\n    </tr>\n  </thead>\n  <tbody>\n    <tr>\n      <th>0</th>\n      <td>chicago</td>\n      <td>21</td>\n      <td>68</td>\n    </tr>\n    <tr>\n      <th>1</th>\n      <td>Orlando</td>\n      <td>14</td>\n      <td>65</td>\n    </tr>\n  </tbody>\n</table>\n</div>"
     },
     "execution_count": 176,
     "metadata": {},
     "output_type": "execute_result"
    }
   ],
   "source": [
    "df.loc[\"us\"]"
   ],
   "metadata": {
    "collapsed": false
   }
  },
  {
   "cell_type": "code",
   "execution_count": 183,
   "outputs": [],
   "source": [
    "s = pd.Series([\"humid\", \"dry\"], name= \"event\")"
   ],
   "metadata": {
    "collapsed": false
   }
  },
  {
   "cell_type": "code",
   "execution_count": 184,
   "outputs": [
    {
     "data": {
      "text/plain": "0    humid\n1      dry\nName: event, dtype: object"
     },
     "execution_count": 184,
     "metadata": {},
     "output_type": "execute_result"
    }
   ],
   "source": [
    "s"
   ],
   "metadata": {
    "collapsed": false
   }
  },
  {
   "cell_type": "code",
   "execution_count": 186,
   "outputs": [],
   "source": [
    "df = pd.concat([india,s], axis=1)"
   ],
   "metadata": {
    "collapsed": false
   }
  },
  {
   "cell_type": "code",
   "execution_count": 187,
   "outputs": [
    {
     "data": {
      "text/plain": "     city  temp  humidity  event\n0  Mumbai    21        68  humid\n1    Pune    14        65    dry",
      "text/html": "<div>\n<style scoped>\n    .dataframe tbody tr th:only-of-type {\n        vertical-align: middle;\n    }\n\n    .dataframe tbody tr th {\n        vertical-align: top;\n    }\n\n    .dataframe thead th {\n        text-align: right;\n    }\n</style>\n<table border=\"1\" class=\"dataframe\">\n  <thead>\n    <tr style=\"text-align: right;\">\n      <th></th>\n      <th>city</th>\n      <th>temp</th>\n      <th>humidity</th>\n      <th>event</th>\n    </tr>\n  </thead>\n  <tbody>\n    <tr>\n      <th>0</th>\n      <td>Mumbai</td>\n      <td>21</td>\n      <td>68</td>\n      <td>humid</td>\n    </tr>\n    <tr>\n      <th>1</th>\n      <td>Pune</td>\n      <td>14</td>\n      <td>65</td>\n      <td>dry</td>\n    </tr>\n  </tbody>\n</table>\n</div>"
     },
     "execution_count": 187,
     "metadata": {},
     "output_type": "execute_result"
    }
   ],
   "source": [
    "df"
   ],
   "metadata": {
    "collapsed": false
   }
  },
  {
   "cell_type": "markdown",
   "source": [
    "#### Merge"
   ],
   "metadata": {
    "collapsed": false
   }
  },
  {
   "cell_type": "code",
   "execution_count": 190,
   "outputs": [],
   "source": [
    "df3 = pd.merge(india,us)"
   ],
   "metadata": {
    "collapsed": false
   }
  },
  {
   "cell_type": "code",
   "execution_count": 191,
   "outputs": [
    {
     "data": {
      "text/plain": "Empty DataFrame\nColumns: [city, temp, humidity]\nIndex: []",
      "text/html": "<div>\n<style scoped>\n    .dataframe tbody tr th:only-of-type {\n        vertical-align: middle;\n    }\n\n    .dataframe tbody tr th {\n        vertical-align: top;\n    }\n\n    .dataframe thead th {\n        text-align: right;\n    }\n</style>\n<table border=\"1\" class=\"dataframe\">\n  <thead>\n    <tr style=\"text-align: right;\">\n      <th></th>\n      <th>city</th>\n      <th>temp</th>\n      <th>humidity</th>\n    </tr>\n  </thead>\n  <tbody>\n  </tbody>\n</table>\n</div>"
     },
     "execution_count": 191,
     "metadata": {},
     "output_type": "execute_result"
    }
   ],
   "source": [
    "df3"
   ],
   "metadata": {
    "collapsed": false
   }
  },
  {
   "cell_type": "markdown",
   "source": [
    "#### Database joins"
   ],
   "metadata": {
    "collapsed": false
   }
  },
  {
   "cell_type": "code",
   "execution_count": 192,
   "outputs": [],
   "source": [
    "df3 = pd.merge(india,us, how=\"outer\" , indicator=True)"
   ],
   "metadata": {
    "collapsed": false
   }
  },
  {
   "cell_type": "code",
   "execution_count": 193,
   "outputs": [
    {
     "data": {
      "text/plain": "      city  temp  humidity      _merge\n0   Mumbai    21        68   left_only\n1     Pune    14        65   left_only\n2  chicago    21        68  right_only\n3  Orlando    14        65  right_only",
      "text/html": "<div>\n<style scoped>\n    .dataframe tbody tr th:only-of-type {\n        vertical-align: middle;\n    }\n\n    .dataframe tbody tr th {\n        vertical-align: top;\n    }\n\n    .dataframe thead th {\n        text-align: right;\n    }\n</style>\n<table border=\"1\" class=\"dataframe\">\n  <thead>\n    <tr style=\"text-align: right;\">\n      <th></th>\n      <th>city</th>\n      <th>temp</th>\n      <th>humidity</th>\n      <th>_merge</th>\n    </tr>\n  </thead>\n  <tbody>\n    <tr>\n      <th>0</th>\n      <td>Mumbai</td>\n      <td>21</td>\n      <td>68</td>\n      <td>left_only</td>\n    </tr>\n    <tr>\n      <th>1</th>\n      <td>Pune</td>\n      <td>14</td>\n      <td>65</td>\n      <td>left_only</td>\n    </tr>\n    <tr>\n      <th>2</th>\n      <td>chicago</td>\n      <td>21</td>\n      <td>68</td>\n      <td>right_only</td>\n    </tr>\n    <tr>\n      <th>3</th>\n      <td>Orlando</td>\n      <td>14</td>\n      <td>65</td>\n      <td>right_only</td>\n    </tr>\n  </tbody>\n</table>\n</div>"
     },
     "execution_count": 193,
     "metadata": {},
     "output_type": "execute_result"
    }
   ],
   "source": [
    "df3"
   ],
   "metadata": {
    "collapsed": false
   }
  },
  {
   "cell_type": "code",
   "execution_count": 194,
   "outputs": [],
   "source": [
    "df3 = pd.merge(india,us, how=\"inner\" , indicator=True)"
   ],
   "metadata": {
    "collapsed": false
   }
  },
  {
   "cell_type": "code",
   "execution_count": 195,
   "outputs": [
    {
     "data": {
      "text/plain": "Empty DataFrame\nColumns: [city, temp, humidity, _merge]\nIndex: []",
      "text/html": "<div>\n<style scoped>\n    .dataframe tbody tr th:only-of-type {\n        vertical-align: middle;\n    }\n\n    .dataframe tbody tr th {\n        vertical-align: top;\n    }\n\n    .dataframe thead th {\n        text-align: right;\n    }\n</style>\n<table border=\"1\" class=\"dataframe\">\n  <thead>\n    <tr style=\"text-align: right;\">\n      <th></th>\n      <th>city</th>\n      <th>temp</th>\n      <th>humidity</th>\n      <th>_merge</th>\n    </tr>\n  </thead>\n  <tbody>\n  </tbody>\n</table>\n</div>"
     },
     "execution_count": 195,
     "metadata": {},
     "output_type": "execute_result"
    }
   ],
   "source": [
    "df3"
   ],
   "metadata": {
    "collapsed": false
   }
  },
  {
   "cell_type": "code",
   "execution_count": 198,
   "outputs": [],
   "source": [
    "df3 = pd.merge(india,us, how=\"outer\" , suffixes= ('_first', '_second'))"
   ],
   "metadata": {
    "collapsed": false
   }
  },
  {
   "cell_type": "code",
   "execution_count": 199,
   "outputs": [
    {
     "data": {
      "text/plain": "      city  temp  humidity\n0   Mumbai    21        68\n1     Pune    14        65\n2  chicago    21        68\n3  Orlando    14        65",
      "text/html": "<div>\n<style scoped>\n    .dataframe tbody tr th:only-of-type {\n        vertical-align: middle;\n    }\n\n    .dataframe tbody tr th {\n        vertical-align: top;\n    }\n\n    .dataframe thead th {\n        text-align: right;\n    }\n</style>\n<table border=\"1\" class=\"dataframe\">\n  <thead>\n    <tr style=\"text-align: right;\">\n      <th></th>\n      <th>city</th>\n      <th>temp</th>\n      <th>humidity</th>\n    </tr>\n  </thead>\n  <tbody>\n    <tr>\n      <th>0</th>\n      <td>Mumbai</td>\n      <td>21</td>\n      <td>68</td>\n    </tr>\n    <tr>\n      <th>1</th>\n      <td>Pune</td>\n      <td>14</td>\n      <td>65</td>\n    </tr>\n    <tr>\n      <th>2</th>\n      <td>chicago</td>\n      <td>21</td>\n      <td>68</td>\n    </tr>\n    <tr>\n      <th>3</th>\n      <td>Orlando</td>\n      <td>14</td>\n      <td>65</td>\n    </tr>\n  </tbody>\n</table>\n</div>"
     },
     "execution_count": 199,
     "metadata": {},
     "output_type": "execute_result"
    }
   ],
   "source": [
    "df3"
   ],
   "metadata": {
    "collapsed": false
   }
  },
  {
   "cell_type": "markdown",
   "source": [
    "Pivot basics"
   ],
   "metadata": {
    "collapsed": false
   }
  },
  {
   "cell_type": "code",
   "execution_count": 200,
   "outputs": [],
   "source": [
    "import numpy as np"
   ],
   "metadata": {
    "collapsed": false
   }
  },
  {
   "cell_type": "code",
   "execution_count": 201,
   "outputs": [
    {
     "data": {
      "text/plain": "          ID              Movie Name  Year Timing(min) Rating(10)  Votes  \\\n0  tt0398974             Dr. Shaitan  1960           -          -      -   \n1  tt1702558              Nadir Khan  1968           -          -      -   \n2  tt0493437  Apna Sapna Money Money  2006     134 min        5.3  1,892   \n3  tt0273405          Aag Aur Sholay  1987           -        2.2     20   \n4  tt0049595                 Parivar  1956           -        7.4     21   \n\n                                  Genre Language  \n0                                     -    hindi  \n1                                     -     urdu  \n2  Comedy, Musical, Romance                hindi  \n3                                     -     urdu  \n4     Comedy, Drama, Family                hindi  ",
      "text/html": "<div>\n<style scoped>\n    .dataframe tbody tr th:only-of-type {\n        vertical-align: middle;\n    }\n\n    .dataframe tbody tr th {\n        vertical-align: top;\n    }\n\n    .dataframe thead th {\n        text-align: right;\n    }\n</style>\n<table border=\"1\" class=\"dataframe\">\n  <thead>\n    <tr style=\"text-align: right;\">\n      <th></th>\n      <th>ID</th>\n      <th>Movie Name</th>\n      <th>Year</th>\n      <th>Timing(min)</th>\n      <th>Rating(10)</th>\n      <th>Votes</th>\n      <th>Genre</th>\n      <th>Language</th>\n    </tr>\n  </thead>\n  <tbody>\n    <tr>\n      <th>0</th>\n      <td>tt0398974</td>\n      <td>Dr. Shaitan</td>\n      <td>1960</td>\n      <td>-</td>\n      <td>-</td>\n      <td>-</td>\n      <td>-</td>\n      <td>hindi</td>\n    </tr>\n    <tr>\n      <th>1</th>\n      <td>tt1702558</td>\n      <td>Nadir Khan</td>\n      <td>1968</td>\n      <td>-</td>\n      <td>-</td>\n      <td>-</td>\n      <td>-</td>\n      <td>urdu</td>\n    </tr>\n    <tr>\n      <th>2</th>\n      <td>tt0493437</td>\n      <td>Apna Sapna Money Money</td>\n      <td>2006</td>\n      <td>134 min</td>\n      <td>5.3</td>\n      <td>1,892</td>\n      <td>Comedy, Musical, Romance</td>\n      <td>hindi</td>\n    </tr>\n    <tr>\n      <th>3</th>\n      <td>tt0273405</td>\n      <td>Aag Aur Sholay</td>\n      <td>1987</td>\n      <td>-</td>\n      <td>2.2</td>\n      <td>20</td>\n      <td>-</td>\n      <td>urdu</td>\n    </tr>\n    <tr>\n      <th>4</th>\n      <td>tt0049595</td>\n      <td>Parivar</td>\n      <td>1956</td>\n      <td>-</td>\n      <td>7.4</td>\n      <td>21</td>\n      <td>Comedy, Drama, Family</td>\n      <td>hindi</td>\n    </tr>\n  </tbody>\n</table>\n</div>"
     },
     "execution_count": 201,
     "metadata": {},
     "output_type": "execute_result"
    }
   ],
   "source": [
    "d1.head()"
   ],
   "metadata": {
    "collapsed": false
   }
  },
  {
   "cell_type": "code",
   "execution_count": 209,
   "outputs": [
    {
     "ename": "ValueError",
     "evalue": "Index contains duplicate entries, cannot reshape",
     "output_type": "error",
     "traceback": [
      "\u001B[1;31m---------------------------------------------------------------------------\u001B[0m",
      "\u001B[1;31mValueError\u001B[0m                                Traceback (most recent call last)",
      "Cell \u001B[1;32mIn [209], line 1\u001B[0m\n\u001B[1;32m----> 1\u001B[0m \u001B[43md1\u001B[49m\u001B[38;5;241;43m.\u001B[39;49m\u001B[43mpivot\u001B[49m\u001B[43m(\u001B[49m\u001B[43mindex\u001B[49m\u001B[43m \u001B[49m\u001B[38;5;241;43m=\u001B[39;49m\u001B[43m \u001B[49m\u001B[38;5;124;43m'\u001B[39;49m\u001B[38;5;124;43mRating(10)\u001B[39;49m\u001B[38;5;124;43m'\u001B[39;49m\u001B[43m,\u001B[49m\u001B[43m \u001B[49m\u001B[43mcolumns\u001B[49m\u001B[38;5;241;43m=\u001B[39;49m\u001B[38;5;124;43m'\u001B[39;49m\u001B[38;5;124;43mMovie Name\u001B[39;49m\u001B[38;5;124;43m'\u001B[39;49m\u001B[43m)\u001B[49m\n",
      "File \u001B[1;32m~\\AppData\\Local\\Programs\\Python\\Python310\\lib\\site-packages\\pandas\\util\\_decorators.py:331\u001B[0m, in \u001B[0;36mdeprecate_nonkeyword_arguments.<locals>.decorate.<locals>.wrapper\u001B[1;34m(*args, **kwargs)\u001B[0m\n\u001B[0;32m    325\u001B[0m \u001B[38;5;28;01mif\u001B[39;00m \u001B[38;5;28mlen\u001B[39m(args) \u001B[38;5;241m>\u001B[39m num_allow_args:\n\u001B[0;32m    326\u001B[0m     warnings\u001B[38;5;241m.\u001B[39mwarn(\n\u001B[0;32m    327\u001B[0m         msg\u001B[38;5;241m.\u001B[39mformat(arguments\u001B[38;5;241m=\u001B[39m_format_argument_list(allow_args)),\n\u001B[0;32m    328\u001B[0m         \u001B[38;5;167;01mFutureWarning\u001B[39;00m,\n\u001B[0;32m    329\u001B[0m         stacklevel\u001B[38;5;241m=\u001B[39mfind_stack_level(),\n\u001B[0;32m    330\u001B[0m     )\n\u001B[1;32m--> 331\u001B[0m \u001B[38;5;28;01mreturn\u001B[39;00m func(\u001B[38;5;241m*\u001B[39margs, \u001B[38;5;241m*\u001B[39m\u001B[38;5;241m*\u001B[39mkwargs)\n",
      "File \u001B[1;32m~\\AppData\\Local\\Programs\\Python\\Python310\\lib\\site-packages\\pandas\\core\\frame.py:8554\u001B[0m, in \u001B[0;36mDataFrame.pivot\u001B[1;34m(self, index, columns, values)\u001B[0m\n\u001B[0;32m   8548\u001B[0m \u001B[38;5;129m@Substitution\u001B[39m(\u001B[38;5;124m\"\u001B[39m\u001B[38;5;124m\"\u001B[39m)\n\u001B[0;32m   8549\u001B[0m \u001B[38;5;129m@Appender\u001B[39m(_shared_docs[\u001B[38;5;124m\"\u001B[39m\u001B[38;5;124mpivot\u001B[39m\u001B[38;5;124m\"\u001B[39m])\n\u001B[0;32m   8550\u001B[0m \u001B[38;5;129m@deprecate_nonkeyword_arguments\u001B[39m(version\u001B[38;5;241m=\u001B[39m\u001B[38;5;28;01mNone\u001B[39;00m, allowed_args\u001B[38;5;241m=\u001B[39m[\u001B[38;5;124m\"\u001B[39m\u001B[38;5;124mself\u001B[39m\u001B[38;5;124m\"\u001B[39m])\n\u001B[0;32m   8551\u001B[0m \u001B[38;5;28;01mdef\u001B[39;00m \u001B[38;5;21mpivot\u001B[39m(\u001B[38;5;28mself\u001B[39m, index\u001B[38;5;241m=\u001B[39m\u001B[38;5;28;01mNone\u001B[39;00m, columns\u001B[38;5;241m=\u001B[39m\u001B[38;5;28;01mNone\u001B[39;00m, values\u001B[38;5;241m=\u001B[39m\u001B[38;5;28;01mNone\u001B[39;00m) \u001B[38;5;241m-\u001B[39m\u001B[38;5;241m>\u001B[39m DataFrame:\n\u001B[0;32m   8552\u001B[0m     \u001B[38;5;28;01mfrom\u001B[39;00m \u001B[38;5;21;01mpandas\u001B[39;00m\u001B[38;5;21;01m.\u001B[39;00m\u001B[38;5;21;01mcore\u001B[39;00m\u001B[38;5;21;01m.\u001B[39;00m\u001B[38;5;21;01mreshape\u001B[39;00m\u001B[38;5;21;01m.\u001B[39;00m\u001B[38;5;21;01mpivot\u001B[39;00m \u001B[38;5;28;01mimport\u001B[39;00m pivot\n\u001B[1;32m-> 8554\u001B[0m     \u001B[38;5;28;01mreturn\u001B[39;00m \u001B[43mpivot\u001B[49m\u001B[43m(\u001B[49m\u001B[38;5;28;43mself\u001B[39;49m\u001B[43m,\u001B[49m\u001B[43m \u001B[49m\u001B[43mindex\u001B[49m\u001B[38;5;241;43m=\u001B[39;49m\u001B[43mindex\u001B[49m\u001B[43m,\u001B[49m\u001B[43m \u001B[49m\u001B[43mcolumns\u001B[49m\u001B[38;5;241;43m=\u001B[39;49m\u001B[43mcolumns\u001B[49m\u001B[43m,\u001B[49m\u001B[43m \u001B[49m\u001B[43mvalues\u001B[49m\u001B[38;5;241;43m=\u001B[39;49m\u001B[43mvalues\u001B[49m\u001B[43m)\u001B[49m\n",
      "File \u001B[1;32m~\\AppData\\Local\\Programs\\Python\\Python310\\lib\\site-packages\\pandas\\util\\_decorators.py:331\u001B[0m, in \u001B[0;36mdeprecate_nonkeyword_arguments.<locals>.decorate.<locals>.wrapper\u001B[1;34m(*args, **kwargs)\u001B[0m\n\u001B[0;32m    325\u001B[0m \u001B[38;5;28;01mif\u001B[39;00m \u001B[38;5;28mlen\u001B[39m(args) \u001B[38;5;241m>\u001B[39m num_allow_args:\n\u001B[0;32m    326\u001B[0m     warnings\u001B[38;5;241m.\u001B[39mwarn(\n\u001B[0;32m    327\u001B[0m         msg\u001B[38;5;241m.\u001B[39mformat(arguments\u001B[38;5;241m=\u001B[39m_format_argument_list(allow_args)),\n\u001B[0;32m    328\u001B[0m         \u001B[38;5;167;01mFutureWarning\u001B[39;00m,\n\u001B[0;32m    329\u001B[0m         stacklevel\u001B[38;5;241m=\u001B[39mfind_stack_level(),\n\u001B[0;32m    330\u001B[0m     )\n\u001B[1;32m--> 331\u001B[0m \u001B[38;5;28;01mreturn\u001B[39;00m func(\u001B[38;5;241m*\u001B[39margs, \u001B[38;5;241m*\u001B[39m\u001B[38;5;241m*\u001B[39mkwargs)\n",
      "File \u001B[1;32m~\\AppData\\Local\\Programs\\Python\\Python310\\lib\\site-packages\\pandas\\core\\reshape\\pivot.py:528\u001B[0m, in \u001B[0;36mpivot\u001B[1;34m(data, index, columns, values)\u001B[0m\n\u001B[0;32m    524\u001B[0m         indexed \u001B[38;5;241m=\u001B[39m data\u001B[38;5;241m.\u001B[39m_constructor_sliced(data[values]\u001B[38;5;241m.\u001B[39m_values, index\u001B[38;5;241m=\u001B[39mmultiindex)\n\u001B[0;32m    525\u001B[0m \u001B[38;5;66;03m# error: Argument 1 to \"unstack\" of \"DataFrame\" has incompatible type \"Union\u001B[39;00m\n\u001B[0;32m    526\u001B[0m \u001B[38;5;66;03m# [List[Any], ExtensionArray, ndarray[Any, Any], Index, Series]\"; expected\u001B[39;00m\n\u001B[0;32m    527\u001B[0m \u001B[38;5;66;03m# \"Hashable\"\u001B[39;00m\n\u001B[1;32m--> 528\u001B[0m \u001B[38;5;28;01mreturn\u001B[39;00m \u001B[43mindexed\u001B[49m\u001B[38;5;241;43m.\u001B[39;49m\u001B[43munstack\u001B[49m\u001B[43m(\u001B[49m\u001B[43mcolumns_listlike\u001B[49m\u001B[43m)\u001B[49m\n",
      "File \u001B[1;32m~\\AppData\\Local\\Programs\\Python\\Python310\\lib\\site-packages\\pandas\\core\\frame.py:9099\u001B[0m, in \u001B[0;36mDataFrame.unstack\u001B[1;34m(self, level, fill_value)\u001B[0m\n\u001B[0;32m   9037\u001B[0m \u001B[38;5;124;03m\"\"\"\u001B[39;00m\n\u001B[0;32m   9038\u001B[0m \u001B[38;5;124;03mPivot a level of the (necessarily hierarchical) index labels.\u001B[39;00m\n\u001B[0;32m   9039\u001B[0m \n\u001B[1;32m   (...)\u001B[0m\n\u001B[0;32m   9095\u001B[0m \u001B[38;5;124;03mdtype: float64\u001B[39;00m\n\u001B[0;32m   9096\u001B[0m \u001B[38;5;124;03m\"\"\"\u001B[39;00m\n\u001B[0;32m   9097\u001B[0m \u001B[38;5;28;01mfrom\u001B[39;00m \u001B[38;5;21;01mpandas\u001B[39;00m\u001B[38;5;21;01m.\u001B[39;00m\u001B[38;5;21;01mcore\u001B[39;00m\u001B[38;5;21;01m.\u001B[39;00m\u001B[38;5;21;01mreshape\u001B[39;00m\u001B[38;5;21;01m.\u001B[39;00m\u001B[38;5;21;01mreshape\u001B[39;00m \u001B[38;5;28;01mimport\u001B[39;00m unstack\n\u001B[1;32m-> 9099\u001B[0m result \u001B[38;5;241m=\u001B[39m \u001B[43munstack\u001B[49m\u001B[43m(\u001B[49m\u001B[38;5;28;43mself\u001B[39;49m\u001B[43m,\u001B[49m\u001B[43m \u001B[49m\u001B[43mlevel\u001B[49m\u001B[43m,\u001B[49m\u001B[43m \u001B[49m\u001B[43mfill_value\u001B[49m\u001B[43m)\u001B[49m\n\u001B[0;32m   9101\u001B[0m \u001B[38;5;28;01mreturn\u001B[39;00m result\u001B[38;5;241m.\u001B[39m__finalize__(\u001B[38;5;28mself\u001B[39m, method\u001B[38;5;241m=\u001B[39m\u001B[38;5;124m\"\u001B[39m\u001B[38;5;124munstack\u001B[39m\u001B[38;5;124m\"\u001B[39m)\n",
      "File \u001B[1;32m~\\AppData\\Local\\Programs\\Python\\Python310\\lib\\site-packages\\pandas\\core\\reshape\\reshape.py:476\u001B[0m, in \u001B[0;36munstack\u001B[1;34m(obj, level, fill_value)\u001B[0m\n\u001B[0;32m    474\u001B[0m \u001B[38;5;28;01mif\u001B[39;00m \u001B[38;5;28misinstance\u001B[39m(obj, DataFrame):\n\u001B[0;32m    475\u001B[0m     \u001B[38;5;28;01mif\u001B[39;00m \u001B[38;5;28misinstance\u001B[39m(obj\u001B[38;5;241m.\u001B[39mindex, MultiIndex):\n\u001B[1;32m--> 476\u001B[0m         \u001B[38;5;28;01mreturn\u001B[39;00m \u001B[43m_unstack_frame\u001B[49m\u001B[43m(\u001B[49m\u001B[43mobj\u001B[49m\u001B[43m,\u001B[49m\u001B[43m \u001B[49m\u001B[43mlevel\u001B[49m\u001B[43m,\u001B[49m\u001B[43m \u001B[49m\u001B[43mfill_value\u001B[49m\u001B[38;5;241;43m=\u001B[39;49m\u001B[43mfill_value\u001B[49m\u001B[43m)\u001B[49m\n\u001B[0;32m    477\u001B[0m     \u001B[38;5;28;01melse\u001B[39;00m:\n\u001B[0;32m    478\u001B[0m         \u001B[38;5;28;01mreturn\u001B[39;00m obj\u001B[38;5;241m.\u001B[39mT\u001B[38;5;241m.\u001B[39mstack(dropna\u001B[38;5;241m=\u001B[39m\u001B[38;5;28;01mFalse\u001B[39;00m)\n",
      "File \u001B[1;32m~\\AppData\\Local\\Programs\\Python\\Python310\\lib\\site-packages\\pandas\\core\\reshape\\reshape.py:499\u001B[0m, in \u001B[0;36m_unstack_frame\u001B[1;34m(obj, level, fill_value)\u001B[0m\n\u001B[0;32m    497\u001B[0m \u001B[38;5;28;01mdef\u001B[39;00m \u001B[38;5;21m_unstack_frame\u001B[39m(obj: DataFrame, level, fill_value\u001B[38;5;241m=\u001B[39m\u001B[38;5;28;01mNone\u001B[39;00m):\n\u001B[0;32m    498\u001B[0m     \u001B[38;5;28;01massert\u001B[39;00m \u001B[38;5;28misinstance\u001B[39m(obj\u001B[38;5;241m.\u001B[39mindex, MultiIndex)  \u001B[38;5;66;03m# checked by caller\u001B[39;00m\n\u001B[1;32m--> 499\u001B[0m     unstacker \u001B[38;5;241m=\u001B[39m \u001B[43m_Unstacker\u001B[49m\u001B[43m(\u001B[49m\u001B[43mobj\u001B[49m\u001B[38;5;241;43m.\u001B[39;49m\u001B[43mindex\u001B[49m\u001B[43m,\u001B[49m\u001B[43m \u001B[49m\u001B[43mlevel\u001B[49m\u001B[38;5;241;43m=\u001B[39;49m\u001B[43mlevel\u001B[49m\u001B[43m,\u001B[49m\u001B[43m \u001B[49m\u001B[43mconstructor\u001B[49m\u001B[38;5;241;43m=\u001B[39;49m\u001B[43mobj\u001B[49m\u001B[38;5;241;43m.\u001B[39;49m\u001B[43m_constructor\u001B[49m\u001B[43m)\u001B[49m\n\u001B[0;32m    501\u001B[0m     \u001B[38;5;28;01mif\u001B[39;00m \u001B[38;5;129;01mnot\u001B[39;00m obj\u001B[38;5;241m.\u001B[39m_can_fast_transpose:\n\u001B[0;32m    502\u001B[0m         mgr \u001B[38;5;241m=\u001B[39m obj\u001B[38;5;241m.\u001B[39m_mgr\u001B[38;5;241m.\u001B[39munstack(unstacker, fill_value\u001B[38;5;241m=\u001B[39mfill_value)\n",
      "File \u001B[1;32m~\\AppData\\Local\\Programs\\Python\\Python310\\lib\\site-packages\\pandas\\core\\reshape\\reshape.py:137\u001B[0m, in \u001B[0;36m_Unstacker.__init__\u001B[1;34m(self, index, level, constructor)\u001B[0m\n\u001B[0;32m    129\u001B[0m \u001B[38;5;28;01mif\u001B[39;00m num_cells \u001B[38;5;241m>\u001B[39m np\u001B[38;5;241m.\u001B[39miinfo(np\u001B[38;5;241m.\u001B[39mint32)\u001B[38;5;241m.\u001B[39mmax:\n\u001B[0;32m    130\u001B[0m     warnings\u001B[38;5;241m.\u001B[39mwarn(\n\u001B[0;32m    131\u001B[0m         \u001B[38;5;124mf\u001B[39m\u001B[38;5;124m\"\u001B[39m\u001B[38;5;124mThe following operation may generate \u001B[39m\u001B[38;5;132;01m{\u001B[39;00mnum_cells\u001B[38;5;132;01m}\u001B[39;00m\u001B[38;5;124m cells \u001B[39m\u001B[38;5;124m\"\u001B[39m\n\u001B[0;32m    132\u001B[0m         \u001B[38;5;124mf\u001B[39m\u001B[38;5;124m\"\u001B[39m\u001B[38;5;124min the resulting pandas object.\u001B[39m\u001B[38;5;124m\"\u001B[39m,\n\u001B[0;32m    133\u001B[0m         PerformanceWarning,\n\u001B[0;32m    134\u001B[0m         stacklevel\u001B[38;5;241m=\u001B[39mfind_stack_level(),\n\u001B[0;32m    135\u001B[0m     )\n\u001B[1;32m--> 137\u001B[0m \u001B[38;5;28;43mself\u001B[39;49m\u001B[38;5;241;43m.\u001B[39;49m\u001B[43m_make_selectors\u001B[49m\u001B[43m(\u001B[49m\u001B[43m)\u001B[49m\n",
      "File \u001B[1;32m~\\AppData\\Local\\Programs\\Python\\Python310\\lib\\site-packages\\pandas\\core\\reshape\\reshape.py:189\u001B[0m, in \u001B[0;36m_Unstacker._make_selectors\u001B[1;34m(self)\u001B[0m\n\u001B[0;32m    186\u001B[0m mask\u001B[38;5;241m.\u001B[39mput(selector, \u001B[38;5;28;01mTrue\u001B[39;00m)\n\u001B[0;32m    188\u001B[0m \u001B[38;5;28;01mif\u001B[39;00m mask\u001B[38;5;241m.\u001B[39msum() \u001B[38;5;241m<\u001B[39m \u001B[38;5;28mlen\u001B[39m(\u001B[38;5;28mself\u001B[39m\u001B[38;5;241m.\u001B[39mindex):\n\u001B[1;32m--> 189\u001B[0m     \u001B[38;5;28;01mraise\u001B[39;00m \u001B[38;5;167;01mValueError\u001B[39;00m(\u001B[38;5;124m\"\u001B[39m\u001B[38;5;124mIndex contains duplicate entries, cannot reshape\u001B[39m\u001B[38;5;124m\"\u001B[39m)\n\u001B[0;32m    191\u001B[0m \u001B[38;5;28mself\u001B[39m\u001B[38;5;241m.\u001B[39mgroup_index \u001B[38;5;241m=\u001B[39m comp_index\n\u001B[0;32m    192\u001B[0m \u001B[38;5;28mself\u001B[39m\u001B[38;5;241m.\u001B[39mmask \u001B[38;5;241m=\u001B[39m mask\n",
      "\u001B[1;31mValueError\u001B[0m: Index contains duplicate entries, cannot reshape"
     ]
    }
   ],
   "source": [
    "d1.pivot(index = 'Rating(10)', columns='Movie Name')"
   ],
   "metadata": {
    "collapsed": false
   }
  },
  {
   "cell_type": "markdown",
   "source": [],
   "metadata": {
    "collapsed": false
   }
  },
  {
   "cell_type": "code",
   "execution_count": null,
   "outputs": [],
   "source": [],
   "metadata": {
    "collapsed": false
   }
  },
  {
   "cell_type": "markdown",
   "source": [
    "Pivot and Pivottable"
   ],
   "metadata": {
    "collapsed": false
   }
  },
  {
   "cell_type": "markdown",
   "source": [
    "#### Stack & Unstacked"
   ],
   "metadata": {
    "collapsed": false
   }
  },
  {
   "cell_type": "code",
   "execution_count": 211,
   "outputs": [
    {
     "data": {
      "text/plain": "0      ID                     tt0398974\n       Movie Name           Dr. Shaitan\n       Year                        1960\n       Timing(min)                    -\n       Rating(10)                     -\n                            ...        \n50601  Timing(min)                    -\n       Rating(10)                     -\n       Votes                          -\n       Genre          Drama            \n       Language                 kannada\nLength: 403255, dtype: object"
     },
     "execution_count": 211,
     "metadata": {},
     "output_type": "execute_result"
    }
   ],
   "source": [
    "d1.stack()"
   ],
   "metadata": {
    "collapsed": false
   }
  },
  {
   "cell_type": "code",
   "execution_count": 212,
   "outputs": [
    {
     "data": {
      "text/plain": "ID        0        tt0398974\n          1        tt1702558\n          2        tt0493437\n          3        tt0273405\n          4        tt0049595\n                     ...    \nLanguage  50597        hindi\n          50598     assamese\n          50599       telugu\n          50600       telugu\n          50601      kannada\nLength: 404816, dtype: object"
     },
     "execution_count": 212,
     "metadata": {},
     "output_type": "execute_result"
    }
   ],
   "source": [
    "d1.unstack()"
   ],
   "metadata": {
    "collapsed": false
   }
  },
  {
   "cell_type": "code",
   "execution_count": 213,
   "outputs": [
    {
     "data": {
      "text/plain": "0      ID                     tt0398974\n       Movie Name           Dr. Shaitan\n       Year                        1960\n       Timing(min)                    -\n       Rating(10)                     -\n                            ...        \n50601  Timing(min)                    -\n       Rating(10)                     -\n       Votes                          -\n       Genre          Drama            \n       Language                 kannada\nLength: 403255, dtype: object"
     },
     "execution_count": 213,
     "metadata": {},
     "output_type": "execute_result"
    }
   ],
   "source": [
    "d1.stack(level=0)"
   ],
   "metadata": {
    "collapsed": false
   }
  },
  {
   "cell_type": "code",
   "execution_count": null,
   "outputs": [],
   "source": [],
   "metadata": {
    "collapsed": false
   }
  }
 ],
 "metadata": {
  "kernelspec": {
   "display_name": "Python 3",
   "language": "python",
   "name": "python3"
  },
  "language_info": {
   "codemirror_mode": {
    "name": "ipython",
    "version": 2
   },
   "file_extension": ".py",
   "mimetype": "text/x-python",
   "name": "python",
   "nbconvert_exporter": "python",
   "pygments_lexer": "ipython2",
   "version": "2.7.6"
  }
 },
 "nbformat": 4,
 "nbformat_minor": 0
}
